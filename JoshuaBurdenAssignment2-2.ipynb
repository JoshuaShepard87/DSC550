{
 "cells": [
  {
   "cell_type": "markdown",
   "metadata": {},
   "source": []
  },
  {
   "cell_type": "markdown",
   "metadata": {},
   "source": [
    "# Week 2.2 Assignment\n",
    "- Joshua Burden\n",
    "- Bellevue University\n",
    "- DSC550 Data Mining\n",
    "- Dr. Brett Werner\n",
    "- 09/11/2022"
   ]
  },
  {
   "cell_type": "markdown",
   "metadata": {},
   "source": [
    "## Context\n",
    "##### The current US Census Bureau world population estimate in June 2019 shows that the current global population is 7,577,130,400 people on earth, which far exceeds the world population of 7.2 billion in 2015. Our own estimate based on UN data shows the world's population surpassing 7.7 billion.\n",
    "\n",
    "##### China is the most populous country in the world with a population exceeding 1.4 billion. It is one of just two countries with a population of more than 1 billion, with India being the second. As of 2018, India has a population of over 1.355 billion people, and its population growth is expected to continue through at least 2050. By the year 2030, the country of India is expected to become the most populous country in the world. This is because India’s population will grow, while China is projected to see a loss in population.\n",
    "\n",
    "##### The following 11 countries that are the most populous in the world each have populations exceeding 100 million. These include the United States, Indonesia, Brazil, Pakistan, Nigeria, Bangladesh, Russia, Mexico, Japan, Ethiopia, and the Philippines. Of these nations, all are expected to continue to grow except Russia and Japan, which will see their populations drop by 2030 before falling again significantly by 2050.\n",
    "\n",
    "##### Many other nations have populations of at least one million, while there are also countries that have just thousands. The smallest population in the world can be found in Vatican City, where only 801 people reside.\n",
    "\n",
    "##### In 2018, the world’s population growth rate was 1.12%. Every five years since the 1970s, the population growth rate has continued to fall. The world’s population is expected to continue to grow larger but at a much slower pace. By 2030, the population will exceed 8 billion. In 2040, this number will grow to more than 9 billion. In 2055, the number will rise to over 10 billion, and another billion people won’t be added until near the end of the century. The current annual population growth estimates from the United Nations are in the millions - estimating that over 80 million new lives are added each year.\n",
    "\n",
    "##### This population growth will be significantly impacted by nine specific countries which are situated to contribute to the population growing more quickly than other nations. These nations include the Democratic Republic of the Congo, Ethiopia, India, Indonesia, Nigeria, Pakistan, Uganda, the United Republic of Tanzania, and the United States of America. Particularly of interest, India is on track to overtake China's position as the most populous country by 2030. Additionally, multiple nations within Africa are expected to double their populations before fertility rates begin to slow entirely.\n",
    "\n",
    "### Acknowledgement\n",
    "##### This Dataset is created from [https://worldpopulationreview.com/](https://worldpopulationreview.com/). If you want to learn more, you can visit the Website."
   ]
  },
  {
   "cell_type": "markdown",
   "metadata": {},
   "source": [
    "### Identify a question or question(s) that you would like to explore in your data set.\n",
    "\n",
    "I would like to know which country has the highest population\n",
    "I would like to know the growth rate for the top 10 countries.\n"
   ]
  },
  {
   "cell_type": "code",
   "execution_count": 2,
   "metadata": {},
   "outputs": [
    {
     "data": {
      "text/html": [
       "        <script type=\"text/javascript\">\n",
       "        window.PlotlyConfig = {MathJaxConfig: 'local'};\n",
       "        if (window.MathJax) {MathJax.Hub.Config({SVG: {font: \"STIX-Web\"}});}\n",
       "        if (typeof require !== 'undefined') {\n",
       "        require.undef(\"plotly\");\n",
       "        requirejs.config({\n",
       "            paths: {\n",
       "                'plotly': ['https://cdn.plot.ly/plotly-2.9.0.min']\n",
       "            }\n",
       "        });\n",
       "        require(['plotly'], function(Plotly) {\n",
       "            window._Plotly = Plotly;\n",
       "        });\n",
       "        }\n",
       "        </script>\n",
       "        "
      ]
     },
     "metadata": {},
     "output_type": "display_data"
    }
   ],
   "source": [
    "#Importing all essential liabraries\n",
    "import numpy as np\n",
    "import pandas as pd\n",
    "import seaborn as sns\n",
    "from plotly.subplots import make_subplots\n",
    "import matplotlib.pyplot as plt\n",
    "import plotly.express as px\n",
    "import plotly.offline as py\n",
    "py.init_notebook_mode(connected=True)"
   ]
  },
  {
   "cell_type": "code",
   "execution_count": 3,
   "metadata": {},
   "outputs": [
    {
     "data": {
      "text/html": [
       "<div>\n",
       "<style scoped>\n",
       "    .dataframe tbody tr th:only-of-type {\n",
       "        vertical-align: middle;\n",
       "    }\n",
       "\n",
       "    .dataframe tbody tr th {\n",
       "        vertical-align: top;\n",
       "    }\n",
       "\n",
       "    .dataframe thead th {\n",
       "        text-align: right;\n",
       "    }\n",
       "</style>\n",
       "<table border=\"1\" class=\"dataframe\">\n",
       "  <thead>\n",
       "    <tr style=\"text-align: right;\">\n",
       "      <th></th>\n",
       "      <th>Rank</th>\n",
       "      <th>CCA3</th>\n",
       "      <th>Country</th>\n",
       "      <th>Capital</th>\n",
       "      <th>Continent</th>\n",
       "      <th>2022 Population</th>\n",
       "      <th>2020 Population</th>\n",
       "      <th>2015 Population</th>\n",
       "      <th>2010 Population</th>\n",
       "      <th>2000 Population</th>\n",
       "      <th>1990 Population</th>\n",
       "      <th>1980 Population</th>\n",
       "      <th>1970 Population</th>\n",
       "      <th>Area (km²)</th>\n",
       "      <th>Density (per km²)</th>\n",
       "      <th>Growth Rate</th>\n",
       "      <th>World Population Percentage</th>\n",
       "    </tr>\n",
       "  </thead>\n",
       "  <tbody>\n",
       "    <tr>\n",
       "      <th>0</th>\n",
       "      <td>36</td>\n",
       "      <td>AFG</td>\n",
       "      <td>Afghanistan</td>\n",
       "      <td>Kabul</td>\n",
       "      <td>Asia</td>\n",
       "      <td>41128771</td>\n",
       "      <td>38972230</td>\n",
       "      <td>33753499</td>\n",
       "      <td>28189672</td>\n",
       "      <td>19542982</td>\n",
       "      <td>10694796</td>\n",
       "      <td>12486631</td>\n",
       "      <td>10752971</td>\n",
       "      <td>652230</td>\n",
       "      <td>63.0587</td>\n",
       "      <td>1.0257</td>\n",
       "      <td>0.52</td>\n",
       "    </tr>\n",
       "    <tr>\n",
       "      <th>1</th>\n",
       "      <td>138</td>\n",
       "      <td>ALB</td>\n",
       "      <td>Albania</td>\n",
       "      <td>Tirana</td>\n",
       "      <td>Europe</td>\n",
       "      <td>2842321</td>\n",
       "      <td>2866849</td>\n",
       "      <td>2882481</td>\n",
       "      <td>2913399</td>\n",
       "      <td>3182021</td>\n",
       "      <td>3295066</td>\n",
       "      <td>2941651</td>\n",
       "      <td>2324731</td>\n",
       "      <td>28748</td>\n",
       "      <td>98.8702</td>\n",
       "      <td>0.9957</td>\n",
       "      <td>0.04</td>\n",
       "    </tr>\n",
       "    <tr>\n",
       "      <th>2</th>\n",
       "      <td>34</td>\n",
       "      <td>DZA</td>\n",
       "      <td>Algeria</td>\n",
       "      <td>Algiers</td>\n",
       "      <td>Africa</td>\n",
       "      <td>44903225</td>\n",
       "      <td>43451666</td>\n",
       "      <td>39543154</td>\n",
       "      <td>35856344</td>\n",
       "      <td>30774621</td>\n",
       "      <td>25518074</td>\n",
       "      <td>18739378</td>\n",
       "      <td>13795915</td>\n",
       "      <td>2381741</td>\n",
       "      <td>18.8531</td>\n",
       "      <td>1.0164</td>\n",
       "      <td>0.56</td>\n",
       "    </tr>\n",
       "    <tr>\n",
       "      <th>3</th>\n",
       "      <td>213</td>\n",
       "      <td>ASM</td>\n",
       "      <td>American Samoa</td>\n",
       "      <td>Pago Pago</td>\n",
       "      <td>Oceania</td>\n",
       "      <td>44273</td>\n",
       "      <td>46189</td>\n",
       "      <td>51368</td>\n",
       "      <td>54849</td>\n",
       "      <td>58230</td>\n",
       "      <td>47818</td>\n",
       "      <td>32886</td>\n",
       "      <td>27075</td>\n",
       "      <td>199</td>\n",
       "      <td>222.4774</td>\n",
       "      <td>0.9831</td>\n",
       "      <td>0.00</td>\n",
       "    </tr>\n",
       "    <tr>\n",
       "      <th>4</th>\n",
       "      <td>203</td>\n",
       "      <td>AND</td>\n",
       "      <td>Andorra</td>\n",
       "      <td>Andorra la Vella</td>\n",
       "      <td>Europe</td>\n",
       "      <td>79824</td>\n",
       "      <td>77700</td>\n",
       "      <td>71746</td>\n",
       "      <td>71519</td>\n",
       "      <td>66097</td>\n",
       "      <td>53569</td>\n",
       "      <td>35611</td>\n",
       "      <td>19860</td>\n",
       "      <td>468</td>\n",
       "      <td>170.5641</td>\n",
       "      <td>1.0100</td>\n",
       "      <td>0.00</td>\n",
       "    </tr>\n",
       "    <tr>\n",
       "      <th>5</th>\n",
       "      <td>42</td>\n",
       "      <td>AGO</td>\n",
       "      <td>Angola</td>\n",
       "      <td>Luanda</td>\n",
       "      <td>Africa</td>\n",
       "      <td>35588987</td>\n",
       "      <td>33428485</td>\n",
       "      <td>28127721</td>\n",
       "      <td>23364185</td>\n",
       "      <td>16394062</td>\n",
       "      <td>11828638</td>\n",
       "      <td>8330047</td>\n",
       "      <td>6029700</td>\n",
       "      <td>1246700</td>\n",
       "      <td>28.5466</td>\n",
       "      <td>1.0315</td>\n",
       "      <td>0.45</td>\n",
       "    </tr>\n",
       "    <tr>\n",
       "      <th>6</th>\n",
       "      <td>224</td>\n",
       "      <td>AIA</td>\n",
       "      <td>Anguilla</td>\n",
       "      <td>The Valley</td>\n",
       "      <td>North America</td>\n",
       "      <td>15857</td>\n",
       "      <td>15585</td>\n",
       "      <td>14525</td>\n",
       "      <td>13172</td>\n",
       "      <td>11047</td>\n",
       "      <td>8316</td>\n",
       "      <td>6560</td>\n",
       "      <td>6283</td>\n",
       "      <td>91</td>\n",
       "      <td>174.2527</td>\n",
       "      <td>1.0066</td>\n",
       "      <td>0.00</td>\n",
       "    </tr>\n",
       "    <tr>\n",
       "      <th>7</th>\n",
       "      <td>201</td>\n",
       "      <td>ATG</td>\n",
       "      <td>Antigua and Barbuda</td>\n",
       "      <td>Saint John’s</td>\n",
       "      <td>North America</td>\n",
       "      <td>93763</td>\n",
       "      <td>92664</td>\n",
       "      <td>89941</td>\n",
       "      <td>85695</td>\n",
       "      <td>75055</td>\n",
       "      <td>63328</td>\n",
       "      <td>64888</td>\n",
       "      <td>64516</td>\n",
       "      <td>442</td>\n",
       "      <td>212.1335</td>\n",
       "      <td>1.0058</td>\n",
       "      <td>0.00</td>\n",
       "    </tr>\n",
       "    <tr>\n",
       "      <th>8</th>\n",
       "      <td>33</td>\n",
       "      <td>ARG</td>\n",
       "      <td>Argentina</td>\n",
       "      <td>Buenos Aires</td>\n",
       "      <td>South America</td>\n",
       "      <td>45510318</td>\n",
       "      <td>45036032</td>\n",
       "      <td>43257065</td>\n",
       "      <td>41100123</td>\n",
       "      <td>37070774</td>\n",
       "      <td>32637657</td>\n",
       "      <td>28024803</td>\n",
       "      <td>23842803</td>\n",
       "      <td>2780400</td>\n",
       "      <td>16.3683</td>\n",
       "      <td>1.0052</td>\n",
       "      <td>0.57</td>\n",
       "    </tr>\n",
       "    <tr>\n",
       "      <th>9</th>\n",
       "      <td>140</td>\n",
       "      <td>ARM</td>\n",
       "      <td>Armenia</td>\n",
       "      <td>Yerevan</td>\n",
       "      <td>Asia</td>\n",
       "      <td>2780469</td>\n",
       "      <td>2805608</td>\n",
       "      <td>2878595</td>\n",
       "      <td>2946293</td>\n",
       "      <td>3168523</td>\n",
       "      <td>3556539</td>\n",
       "      <td>3135123</td>\n",
       "      <td>2534377</td>\n",
       "      <td>29743</td>\n",
       "      <td>93.4831</td>\n",
       "      <td>0.9962</td>\n",
       "      <td>0.03</td>\n",
       "    </tr>\n",
       "  </tbody>\n",
       "</table>\n",
       "</div>"
      ],
      "text/plain": [
       "   Rank CCA3              Country           Capital      Continent  \\\n",
       "0    36  AFG          Afghanistan             Kabul           Asia   \n",
       "1   138  ALB              Albania            Tirana         Europe   \n",
       "2    34  DZA              Algeria           Algiers         Africa   \n",
       "3   213  ASM       American Samoa         Pago Pago        Oceania   \n",
       "4   203  AND              Andorra  Andorra la Vella         Europe   \n",
       "5    42  AGO               Angola            Luanda         Africa   \n",
       "6   224  AIA             Anguilla        The Valley  North America   \n",
       "7   201  ATG  Antigua and Barbuda      Saint John’s  North America   \n",
       "8    33  ARG            Argentina      Buenos Aires  South America   \n",
       "9   140  ARM              Armenia           Yerevan           Asia   \n",
       "\n",
       "   2022 Population  2020 Population  2015 Population  2010 Population  \\\n",
       "0         41128771         38972230         33753499         28189672   \n",
       "1          2842321          2866849          2882481          2913399   \n",
       "2         44903225         43451666         39543154         35856344   \n",
       "3            44273            46189            51368            54849   \n",
       "4            79824            77700            71746            71519   \n",
       "5         35588987         33428485         28127721         23364185   \n",
       "6            15857            15585            14525            13172   \n",
       "7            93763            92664            89941            85695   \n",
       "8         45510318         45036032         43257065         41100123   \n",
       "9          2780469          2805608          2878595          2946293   \n",
       "\n",
       "   2000 Population  1990 Population  1980 Population  1970 Population  \\\n",
       "0         19542982         10694796         12486631         10752971   \n",
       "1          3182021          3295066          2941651          2324731   \n",
       "2         30774621         25518074         18739378         13795915   \n",
       "3            58230            47818            32886            27075   \n",
       "4            66097            53569            35611            19860   \n",
       "5         16394062         11828638          8330047          6029700   \n",
       "6            11047             8316             6560             6283   \n",
       "7            75055            63328            64888            64516   \n",
       "8         37070774         32637657         28024803         23842803   \n",
       "9          3168523          3556539          3135123          2534377   \n",
       "\n",
       "   Area (km²)  Density (per km²)  Growth Rate  World Population Percentage  \n",
       "0      652230            63.0587       1.0257                         0.52  \n",
       "1       28748            98.8702       0.9957                         0.04  \n",
       "2     2381741            18.8531       1.0164                         0.56  \n",
       "3         199           222.4774       0.9831                         0.00  \n",
       "4         468           170.5641       1.0100                         0.00  \n",
       "5     1246700            28.5466       1.0315                         0.45  \n",
       "6          91           174.2527       1.0066                         0.00  \n",
       "7         442           212.1335       1.0058                         0.00  \n",
       "8     2780400            16.3683       1.0052                         0.57  \n",
       "9       29743            93.4831       0.9962                         0.03  "
      ]
     },
     "execution_count": 3,
     "metadata": {},
     "output_type": "execute_result"
    }
   ],
   "source": [
    "# import data into data frame\n",
    "df = pd.read_csv('./DATA/world_population.csv')\n",
    "df.head(10)"
   ]
  },
  {
   "cell_type": "code",
   "execution_count": 4,
   "metadata": {},
   "outputs": [
    {
     "data": {
      "text/plain": [
       "Rank                           0\n",
       "CCA3                           0\n",
       "Country                        0\n",
       "Capital                        0\n",
       "Continent                      0\n",
       "2022 Population                0\n",
       "2020 Population                0\n",
       "2015 Population                0\n",
       "2010 Population                0\n",
       "2000 Population                0\n",
       "1990 Population                0\n",
       "1980 Population                0\n",
       "1970 Population                0\n",
       "Area (km²)                     0\n",
       "Density (per km²)              0\n",
       "Growth Rate                    0\n",
       "World Population Percentage    0\n",
       "dtype: int64"
      ]
     },
     "execution_count": 4,
     "metadata": {},
     "output_type": "execute_result"
    }
   ],
   "source": [
    "#is data good and clean of null values?\n",
    "df.isnull().sum()"
   ]
  },
  {
   "cell_type": "markdown",
   "metadata": {},
   "source": [
    "### Simple plots to look at statistical data of our dataset"
   ]
  },
  {
   "cell_type": "code",
   "execution_count": 13,
   "metadata": {},
   "outputs": [
    {
     "data": {
      "text/plain": [
       "Text(0.5, 1.0, 'World population by Continent')"
      ]
     },
     "execution_count": 13,
     "metadata": {},
     "output_type": "execute_result"
    },
    {
     "data": {
      "image/png": "[encoded data removed]",
      "text/plain": [
       "<Figure size 576x432 with 1 Axes>"
      ]
     },
     "metadata": {
      "needs_background": "light"
     },
     "output_type": "display_data"
    }
   ],
   "source": [
    "df_1 = df.groupby(['Continent'],as_index=False)['World Population Percentage'].agg([max,sum])\n",
    "\n",
    "df_1.plot(kind=\"barh\", y='sum',figsize=(8,6),label='World population')\n",
    "plt.xlabel(\"Percentage of world population (%)\")\n",
    "plt.title(\"World population by Continent\")"
   ]
  },
  {
   "cell_type": "code",
   "execution_count": 14,
   "metadata": {},
   "outputs": [
    {
     "data": {
      "text/plain": [
       "([<matplotlib.patches.Wedge at 0x2f8aba69af0>,\n",
       "  <matplotlib.patches.Wedge at 0x2f8aba7a1f0>,\n",
       "  <matplotlib.patches.Wedge at 0x2f8aba7a910>,\n",
       "  <matplotlib.patches.Wedge at 0x2f8aba86070>,\n",
       "  <matplotlib.patches.Wedge at 0x2f8aba86790>,\n",
       "  <matplotlib.patches.Wedge at 0x2f8aba86ee0>],\n",
       " [Text(0.7933226911635385, 0.7619967898128187, 'Africa'),\n",
       "  Text(-0.6489509921990213, 0.8881793792494318, 'Europe'),\n",
       "  Text(-1.0119773781913737, -0.43116329392576286, 'Asia'),\n",
       "  Text(0.04429258293469795, -1.099107896021575, 'North America'),\n",
       "  Text(0.8520655026864785, -0.6956898584366735, 'Oceania'),\n",
       "  Text(1.0806265254874028, -0.20553907758142614, 'South America')],\n",
       " [Text(0.4327214679073846, 0.4156346126251738, '24.4%'),\n",
       "  Text(-0.3539732684721934, 0.4844614795905991, '21.4%'),\n",
       "  Text(-0.5519876608316583, -0.23517997850496153, '21.4%'),\n",
       "  Text(0.024159590691653424, -0.59951339782995, '17.1%'),\n",
       "  Text(0.4647630014653519, -0.3794671955109128, '9.8%'),\n",
       "  Text(0.589432650265856, -0.11211222413532333, '6.0%')])"
      ]
     },
     "execution_count": 14,
     "metadata": {},
     "output_type": "execute_result"
    },
    {
     "data": {
      "image/png": "[encoded data removed]",
      "text/plain": [
       "<Figure size 432x432 with 1 Axes>"
      ]
     },
     "metadata": {},
     "output_type": "display_data"
    }
   ],
   "source": [
    "plt.subplots(figsize=(6,6))\n",
    "plt.pie(df['Continent'].value_counts(),labels=['Africa', 'Europe', 'Asia', 'North America', 'Oceania',\n",
    "       'South America'],autopct=\"%1.1f%%\")"
   ]
  },
  {
   "cell_type": "code",
   "execution_count": 15,
   "metadata": {},
   "outputs": [
    {
     "data": {
      "text/plain": [
       "<AxesSubplot:xlabel='Continent', ylabel='count'>"
      ]
     },
     "execution_count": 15,
     "metadata": {},
     "output_type": "execute_result"
    },
    {
     "data": {
      "image/png": "[encoded data removed]",
      "text/plain": [
       "<Figure size 648x432 with 1 Axes>"
      ]
     },
     "metadata": {
      "needs_background": "light"
     },
     "output_type": "display_data"
    }
   ],
   "source": [
    "plt.subplots(figsize=(9,6))\n",
    "plt.ylabel(\"Number of countries per continent\")\n",
    "sns.countplot(x='Continent',data=df)"
   ]
  },
  {
   "cell_type": "markdown",
   "metadata": {},
   "source": [
    "### check Top 25 growth based on country from 2022 to 1980"
   ]
  },
  {
   "cell_type": "code",
   "execution_count": 5,
   "metadata": {},
   "outputs": [
    {
     "data": {
      "text/plain": [
       "Country\n",
       "India            720344788\n",
       "China            443514871\n",
       "Pakistan         155200805\n",
       "Nigeria          145589773\n",
       "Indonesia        127324243\n",
       "United States    115149839\n",
       "Brazil            93025115\n",
       "Ethiopia          88434455\n",
       "Bangladesh        87256607\n",
       "DR Congo          72301526\n",
       "Egypt             67241547\n",
       "Philippines       67139463\n",
       "Mexico            59798939\n",
       "Iran              50029906\n",
       "Tanzania          46200089\n",
       "Vietnam           45218586\n",
       "Turkey            41252172\n",
       "Kenya             37840363\n",
       "Uganda            33965559\n",
       "Iraq              30842753\n",
       "South Africa      30430336\n",
       "Sudan             30200618\n",
       "Afghanistan       28642140\n",
       "Angola            27258940\n",
       "Saudi Arabia      26237110\n",
       "dtype: int64"
      ]
     },
     "execution_count": 5,
     "metadata": {},
     "output_type": "execute_result"
    }
   ],
   "source": [
    "\n",
    "GROWTH=(df.groupby(by='Country')['2022 Population'].sum()-df.groupby(by='Country')['1980 Population'].sum()).sort_values(ascending=False).head(25)\n",
    "GROWTH"
   ]
  },
  {
   "cell_type": "code",
   "execution_count": 16,
   "metadata": {},
   "outputs": [
    {
     "data": {
      "application/vnd.plotly.v1+json": {
       "config": {
        "plotlyServerURL": "https://plot.ly"
       },
       "data": [
        {
         "alignmentgroup": "True",
         "hovertemplate": "color=India<br>x=%{x}<br>y=%{y}<br>text=%{text}<extra></extra>",
         "legendgroup": "India",
         "marker": {
          "color": "#636efa",
          "pattern": {
           "shape": ""
          }
         },
         "name": "India",
         "offsetgroup": "India",
         "orientation": "v",
         "showlegend": true,
         "text": [
          720344788
         ],
         "textposition": "auto",
         "type": "bar",
         "x": [
          "India"
         ],
         "xaxis": "x",
         "y": [
          720344788
         ],
         "yaxis": "y"
        },
        {
         "alignmentgroup": "True",
         "hovertemplate": "color=China<br>x=%{x}<br>y=%{y}<br>text=%{text}<extra></extra>",
         "legendgroup": "China",
         "marker": {
          "color": "#EF553B",
          "pattern": {
           "shape": ""
          }
         },
         "name": "China",
         "offsetgroup": "China",
         "orientation": "v",
         "showlegend": true,
         "text": [
          443514871
         ],
         "textposition": "auto",
         "type": "bar",
         "x": [
          "China"
         ],
         "xaxis": "x",
         "y": [
          443514871
         ],
         "yaxis": "y"
        },
        {
         "alignmentgroup": "True",
         "hovertemplate": "color=Pakistan<br>x=%{x}<br>y=%{y}<br>text=%{text}<extra></extra>",
         "legendgroup": "Pakistan",
         "marker": {
          "color": "#00cc96",
          "pattern": {
           "shape": ""
          }
         },
         "name": "Pakistan",
         "offsetgroup": "Pakistan",
         "orientation": "v",
         "showlegend": true,
         "text": [
          155200805
         ],
         "textposition": "auto",
         "type": "bar",
         "x": [
          "Pakistan"
         ],
         "xaxis": "x",
         "y": [
          155200805
         ],
         "yaxis": "y"
        },
        {
         "alignmentgroup": "True",
         "hovertemplate": "color=Nigeria<br>x=%{x}<br>y=%{y}<br>text=%{text}<extra></extra>",
         "legendgroup": "Nigeria",
         "marker": {
          "color": "#ab63fa",
          "pattern": {
           "shape": ""
          }
         },
         "name": "Nigeria",
         "offsetgroup": "Nigeria",
         "orientation": "v",
         "showlegend": true,
         "text": [
          145589773
         ],
         "textposition": "auto",
         "type": "bar",
         "x": [
          "Nigeria"
         ],
         "xaxis": "x",
         "y": [
          145589773
         ],
         "yaxis": "y"
        },
        {
         "alignmentgroup": "True",
         "hovertemplate": "color=Indonesia<br>x=%{x}<br>y=%{y}<br>text=%{text}<extra></extra>",
         "legendgroup": "Indonesia",
         "marker": {
          "color": "#FFA15A",
          "pattern": {
           "shape": ""
          }
         },
         "name": "Indonesia",
         "offsetgroup": "Indonesia",
         "orientation": "v",
         "showlegend": true,
         "text": [
          127324243
         ],
         "textposition": "auto",
         "type": "bar",
         "x": [
          "Indonesia"
         ],
         "xaxis": "x",
         "y": [
          127324243
         ],
         "yaxis": "y"
        },
        {
         "alignmentgroup": "True",
         "hovertemplate": "color=United States<br>x=%{x}<br>y=%{y}<br>text=%{text}<extra></extra>",
         "legendgroup": "United States",
         "marker": {
          "color": "#19d3f3",
          "pattern": {
           "shape": ""
          }
         },
         "name": "United States",
         "offsetgroup": "United States",
         "orientation": "v",
         "showlegend": true,
         "text": [
          115149839
         ],
         "textposition": "auto",
         "type": "bar",
         "x": [
          "United States"
         ],
         "xaxis": "x",
         "y": [
          115149839
         ],
         "yaxis": "y"
        },
        {
         "alignmentgroup": "True",
         "hovertemplate": "color=Brazil<br>x=%{x}<br>y=%{y}<br>text=%{text}<extra></extra>",
         "legendgroup": "Brazil",
         "marker": {
          "color": "#FF6692",
          "pattern": {
           "shape": ""
          }
         },
         "name": "Brazil",
         "offsetgroup": "Brazil",
         "orientation": "v",
         "showlegend": true,
         "text": [
          93025115
         ],
         "textposition": "auto",
         "type": "bar",
         "x": [
          "Brazil"
         ],
         "xaxis": "x",
         "y": [
          93025115
         ],
         "yaxis": "y"
        },
        {
         "alignmentgroup": "True",
         "hovertemplate": "color=Ethiopia<br>x=%{x}<br>y=%{y}<br>text=%{text}<extra></extra>",
         "legendgroup": "Ethiopia",
         "marker": {
          "color": "#B6E880",
          "pattern": {
           "shape": ""
          }
         },
         "name": "Ethiopia",
         "offsetgroup": "Ethiopia",
         "orientation": "v",
         "showlegend": true,
         "text": [
          88434455
         ],
         "textposition": "auto",
         "type": "bar",
         "x": [
          "Ethiopia"
         ],
         "xaxis": "x",
         "y": [
          88434455
         ],
         "yaxis": "y"
        },
        {
         "alignmentgroup": "True",
         "hovertemplate": "color=Bangladesh<br>x=%{x}<br>y=%{y}<br>text=%{text}<extra></extra>",
         "legendgroup": "Bangladesh",
         "marker": {
          "color": "#FF97FF",
          "pattern": {
           "shape": ""
          }
         },
         "name": "Bangladesh",
         "offsetgroup": "Bangladesh",
         "orientation": "v",
         "showlegend": true,
         "text": [
          87256607
         ],
         "textposition": "auto",
         "type": "bar",
         "x": [
          "Bangladesh"
         ],
         "xaxis": "x",
         "y": [
          87256607
         ],
         "yaxis": "y"
        },
        {
         "alignmentgroup": "True",
         "hovertemplate": "color=DR Congo<br>x=%{x}<br>y=%{y}<br>text=%{text}<extra></extra>",
         "legendgroup": "DR Congo",
         "marker": {
          "color": "#FECB52",
          "pattern": {
           "shape": ""
          }
         },
         "name": "DR Congo",
         "offsetgroup": "DR Congo",
         "orientation": "v",
         "showlegend": true,
         "text": [
          72301526
         ],
         "textposition": "auto",
         "type": "bar",
         "x": [
          "DR Congo"
         ],
         "xaxis": "x",
         "y": [
          72301526
         ],
         "yaxis": "y"
        },
        {
         "alignmentgroup": "True",
         "hovertemplate": "color=Egypt<br>x=%{x}<br>y=%{y}<br>text=%{text}<extra></extra>",
         "legendgroup": "Egypt",
         "marker": {
          "color": "#636efa",
          "pattern": {
           "shape": ""
          }
         },
         "name": "Egypt",
         "offsetgroup": "Egypt",
         "orientation": "v",
         "showlegend": true,
         "text": [
          67241547
         ],
         "textposition": "auto",
         "type": "bar",
         "x": [
          "Egypt"
         ],
         "xaxis": "x",
         "y": [
          67241547
         ],
         "yaxis": "y"
        },
        {
         "alignmentgroup": "True",
         "hovertemplate": "color=Philippines<br>x=%{x}<br>y=%{y}<br>text=%{text}<extra></extra>",
         "legendgroup": "Philippines",
         "marker": {
          "color": "#EF553B",
          "pattern": {
           "shape": ""
          }
         },
         "name": "Philippines",
         "offsetgroup": "Philippines",
         "orientation": "v",
         "showlegend": true,
         "text": [
          67139463
         ],
         "textposition": "auto",
         "type": "bar",
         "x": [
          "Philippines"
         ],
         "xaxis": "x",
         "y": [
          67139463
         ],
         "yaxis": "y"
        },
        {
         "alignmentgroup": "True",
         "hovertemplate": "color=Mexico<br>x=%{x}<br>y=%{y}<br>text=%{text}<extra></extra>",
         "legendgroup": "Mexico",
         "marker": {
          "color": "#00cc96",
          "pattern": {
           "shape": ""
          }
         },
         "name": "Mexico",
         "offsetgroup": "Mexico",
         "orientation": "v",
         "showlegend": true,
         "text": [
          59798939
         ],
         "textposition": "auto",
         "type": "bar",
         "x": [
          "Mexico"
         ],
         "xaxis": "x",
         "y": [
          59798939
         ],
         "yaxis": "y"
        },
        {
         "alignmentgroup": "True",
         "hovertemplate": "color=Iran<br>x=%{x}<br>y=%{y}<br>text=%{text}<extra></extra>",
         "legendgroup": "Iran",
         "marker": {
          "color": "#ab63fa",
          "pattern": {
           "shape": ""
          }
         },
         "name": "Iran",
         "offsetgroup": "Iran",
         "orientation": "v",
         "showlegend": true,
         "text": [
          50029906
         ],
         "textposition": "auto",
         "type": "bar",
         "x": [
          "Iran"
         ],
         "xaxis": "x",
         "y": [
          50029906
         ],
         "yaxis": "y"
        },
        {
         "alignmentgroup": "True",
         "hovertemplate": "color=Tanzania<br>x=%{x}<br>y=%{y}<br>text=%{text}<extra></extra>",
         "legendgroup": "Tanzania",
         "marker": {
          "color": "#FFA15A",
          "pattern": {
           "shape": ""
          }
         },
         "name": "Tanzania",
         "offsetgroup": "Tanzania",
         "orientation": "v",
         "showlegend": true,
         "text": [
          46200089
         ],
         "textposition": "auto",
         "type": "bar",
         "x": [
          "Tanzania"
         ],
         "xaxis": "x",
         "y": [
          46200089
         ],
         "yaxis": "y"
        },
        {
         "alignmentgroup": "True",
         "hovertemplate": "color=Vietnam<br>x=%{x}<br>y=%{y}<br>text=%{text}<extra></extra>",
         "legendgroup": "Vietnam",
         "marker": {
          "color": "#19d3f3",
          "pattern": {
           "shape": ""
          }
         },
         "name": "Vietnam",
         "offsetgroup": "Vietnam",
         "orientation": "v",
         "showlegend": true,
         "text": [
          45218586
         ],
         "textposition": "auto",
         "type": "bar",
         "x": [
          "Vietnam"
         ],
         "xaxis": "x",
         "y": [
          45218586
         ],
         "yaxis": "y"
        },
        {
         "alignmentgroup": "True",
         "hovertemplate": "color=Turkey<br>x=%{x}<br>y=%{y}<br>text=%{text}<extra></extra>",
         "legendgroup": "Turkey",
         "marker": {
          "color": "#FF6692",
          "pattern": {
           "shape": ""
          }
         },
         "name": "Turkey",
         "offsetgroup": "Turkey",
         "orientation": "v",
         "showlegend": true,
         "text": [
          41252172
         ],
         "textposition": "auto",
         "type": "bar",
         "x": [
          "Turkey"
         ],
         "xaxis": "x",
         "y": [
          41252172
         ],
         "yaxis": "y"
        },
        {
         "alignmentgroup": "True",
         "hovertemplate": "color=Kenya<br>x=%{x}<br>y=%{y}<br>text=%{text}<extra></extra>",
         "legendgroup": "Kenya",
         "marker": {
          "color": "#B6E880",
          "pattern": {
           "shape": ""
          }
         },
         "name": "Kenya",
         "offsetgroup": "Kenya",
         "orientation": "v",
         "showlegend": true,
         "text": [
          37840363
         ],
         "textposition": "auto",
         "type": "bar",
         "x": [
          "Kenya"
         ],
         "xaxis": "x",
         "y": [
          37840363
         ],
         "yaxis": "y"
        },
        {
         "alignmentgroup": "True",
         "hovertemplate": "color=Uganda<br>x=%{x}<br>y=%{y}<br>text=%{text}<extra></extra>",
         "legendgroup": "Uganda",
         "marker": {
          "color": "#FF97FF",
          "pattern": {
           "shape": ""
          }
         },
         "name": "Uganda",
         "offsetgroup": "Uganda",
         "orientation": "v",
         "showlegend": true,
         "text": [
          33965559
         ],
         "textposition": "auto",
         "type": "bar",
         "x": [
          "Uganda"
         ],
         "xaxis": "x",
         "y": [
          33965559
         ],
         "yaxis": "y"
        },
        {
         "alignmentgroup": "True",
         "hovertemplate": "color=Iraq<br>x=%{x}<br>y=%{y}<br>text=%{text}<extra></extra>",
         "legendgroup": "Iraq",
         "marker": {
          "color": "#FECB52",
          "pattern": {
           "shape": ""
          }
         },
         "name": "Iraq",
         "offsetgroup": "Iraq",
         "orientation": "v",
         "showlegend": true,
         "text": [
          30842753
         ],
         "textposition": "auto",
         "type": "bar",
         "x": [
          "Iraq"
         ],
         "xaxis": "x",
         "y": [
          30842753
         ],
         "yaxis": "y"
        },
        {
         "alignmentgroup": "True",
         "hovertemplate": "color=South Africa<br>x=%{x}<br>y=%{y}<br>text=%{text}<extra></extra>",
         "legendgroup": "South Africa",
         "marker": {
          "color": "#636efa",
          "pattern": {
           "shape": ""
          }
         },
         "name": "South Africa",
         "offsetgroup": "South Africa",
         "orientation": "v",
         "showlegend": true,
         "text": [
          30430336
         ],
         "textposition": "auto",
         "type": "bar",
         "x": [
          "South Africa"
         ],
         "xaxis": "x",
         "y": [
          30430336
         ],
         "yaxis": "y"
        },
        {
         "alignmentgroup": "True",
         "hovertemplate": "color=Sudan<br>x=%{x}<br>y=%{y}<br>text=%{text}<extra></extra>",
         "legendgroup": "Sudan",
         "marker": {
          "color": "#EF553B",
          "pattern": {
           "shape": ""
          }
         },
         "name": "Sudan",
         "offsetgroup": "Sudan",
         "orientation": "v",
         "showlegend": true,
         "text": [
          30200618
         ],
         "textposition": "auto",
         "type": "bar",
         "x": [
          "Sudan"
         ],
         "xaxis": "x",
         "y": [
          30200618
         ],
         "yaxis": "y"
        },
        {
         "alignmentgroup": "True",
         "hovertemplate": "color=Afghanistan<br>x=%{x}<br>y=%{y}<br>text=%{text}<extra></extra>",
         "legendgroup": "Afghanistan",
         "marker": {
          "color": "#00cc96",
          "pattern": {
           "shape": ""
          }
         },
         "name": "Afghanistan",
         "offsetgroup": "Afghanistan",
         "orientation": "v",
         "showlegend": true,
         "text": [
          28642140
         ],
         "textposition": "auto",
         "type": "bar",
         "x": [
          "Afghanistan"
         ],
         "xaxis": "x",
         "y": [
          28642140
         ],
         "yaxis": "y"
        },
        {
         "alignmentgroup": "True",
         "hovertemplate": "color=Angola<br>x=%{x}<br>y=%{y}<br>text=%{text}<extra></extra>",
         "legendgroup": "Angola",
         "marker": {
          "color": "#ab63fa",
          "pattern": {
           "shape": ""
          }
         },
         "name": "Angola",
         "offsetgroup": "Angola",
         "orientation": "v",
         "showlegend": true,
         "text": [
          27258940
         ],
         "textposition": "auto",
         "type": "bar",
         "x": [
          "Angola"
         ],
         "xaxis": "x",
         "y": [
          27258940
         ],
         "yaxis": "y"
        },
        {
         "alignmentgroup": "True",
         "hovertemplate": "color=Saudi Arabia<br>x=%{x}<br>y=%{y}<br>text=%{text}<extra></extra>",
         "legendgroup": "Saudi Arabia",
         "marker": {
          "color": "#FFA15A",
          "pattern": {
           "shape": ""
          }
         },
         "name": "Saudi Arabia",
         "offsetgroup": "Saudi Arabia",
         "orientation": "v",
         "showlegend": true,
         "text": [
          26237110
         ],
         "textposition": "auto",
         "type": "bar",
         "x": [
          "Saudi Arabia"
         ],
         "xaxis": "x",
         "y": [
          26237110
         ],
         "yaxis": "y"
        }
       ],
       "layout": {
        "barmode": "relative",
        "legend": {
         "title": {
          "text": "color"
         },
         "tracegroupgap": 0
        },
        "template": {
         "data": {
          "bar": [
           {
            "error_x": {
             "color": "#f2f5fa"
            },
            "error_y": {
             "color": "#f2f5fa"
            },
            "marker": {
             "line": {
              "color": "rgb(17,17,17)",
              "width": 0.5
             },
             "pattern": {
              "fillmode": "overlay",
              "size": 10,
              "solidity": 0.2
             }
            },
            "type": "bar"
           }
          ],
          "barpolar": [
           {
            "marker": {
             "line": {
              "color": "rgb(17,17,17)",
              "width": 0.5
             },
             "pattern": {
              "fillmode": "overlay",
              "size": 10,
              "solidity": 0.2
             }
            },
            "type": "barpolar"
           }
          ],
          "carpet": [
           {
            "aaxis": {
             "endlinecolor": "#A2B1C6",
             "gridcolor": "#506784",
             "linecolor": "#506784",
             "minorgridcolor": "#506784",
             "startlinecolor": "#A2B1C6"
            },
            "baxis": {
             "endlinecolor": "#A2B1C6",
             "gridcolor": "#506784",
             "linecolor": "#506784",
             "minorgridcolor": "#506784",
             "startlinecolor": "#A2B1C6"
            },
            "type": "carpet"
           }
          ],
          "choropleth": [
           {
            "colorbar": {
             "outlinewidth": 0,
             "ticks": ""
            },
            "type": "choropleth"
           }
          ],
          "contour": [
           {
            "colorbar": {
             "outlinewidth": 0,
             "ticks": ""
            },
            "colorscale": [
             [
              0,
              "#0d0887"
             ],
             [
              0.1111111111111111,
              "#46039f"
             ],
             [
              0.2222222222222222,
              "#7201a8"
             ],
             [
              0.3333333333333333,
              "#9c179e"
             ],
             [
              0.4444444444444444,
              "#bd3786"
             ],
             [
              0.5555555555555556,
              "#d8576b"
             ],
             [
              0.6666666666666666,
              "#ed7953"
             ],
             [
              0.7777777777777778,
              "#fb9f3a"
             ],
             [
              0.8888888888888888,
              "#fdca26"
             ],
             [
              1,
              "#f0f921"
             ]
            ],
            "type": "contour"
           }
          ],
          "contourcarpet": [
           {
            "colorbar": {
             "outlinewidth": 0,
             "ticks": ""
            },
            "type": "contourcarpet"
           }
          ],
          "heatmap": [
           {
            "colorbar": {
             "outlinewidth": 0,
             "ticks": ""
            },
            "colorscale": [
             [
              0,
              "#0d0887"
             ],
             [
              0.1111111111111111,
              "#46039f"
             ],
             [
              0.2222222222222222,
              "#7201a8"
             ],
             [
              0.3333333333333333,
              "#9c179e"
             ],
             [
              0.4444444444444444,
              "#bd3786"
             ],
             [
              0.5555555555555556,
              "#d8576b"
             ],
             [
              0.6666666666666666,
              "#ed7953"
             ],
             [
              0.7777777777777778,
              "#fb9f3a"
             ],
             [
              0.8888888888888888,
              "#fdca26"
             ],
             [
              1,
              "#f0f921"
             ]
            ],
            "type": "heatmap"
           }
          ],
          "heatmapgl": [
           {
            "colorbar": {
             "outlinewidth": 0,
             "ticks": ""
            },
            "colorscale": [
             [
              0,
              "#0d0887"
             ],
             [
              0.1111111111111111,
              "#46039f"
             ],
             [
              0.2222222222222222,
              "#7201a8"
             ],
             [
              0.3333333333333333,
              "#9c179e"
             ],
             [
              0.4444444444444444,
              "#bd3786"
             ],
             [
              0.5555555555555556,
              "#d8576b"
             ],
             [
              0.6666666666666666,
              "#ed7953"
             ],
             [
              0.7777777777777778,
              "#fb9f3a"
             ],
             [
              0.8888888888888888,
              "#fdca26"
             ],
             [
              1,
              "#f0f921"
             ]
            ],
            "type": "heatmapgl"
           }
          ],
          "histogram": [
           {
            "marker": {
             "pattern": {
              "fillmode": "overlay",
              "size": 10,
              "solidity": 0.2
             }
            },
            "type": "histogram"
           }
          ],
          "histogram2d": [
           {
            "colorbar": {
             "outlinewidth": 0,
             "ticks": ""
            },
            "colorscale": [
             [
              0,
              "#0d0887"
             ],
             [
              0.1111111111111111,
              "#46039f"
             ],
             [
              0.2222222222222222,
              "#7201a8"
             ],
             [
              0.3333333333333333,
              "#9c179e"
             ],
             [
              0.4444444444444444,
              "#bd3786"
             ],
             [
              0.5555555555555556,
              "#d8576b"
             ],
             [
              0.6666666666666666,
              "#ed7953"
             ],
             [
              0.7777777777777778,
              "#fb9f3a"
             ],
             [
              0.8888888888888888,
              "#fdca26"
             ],
             [
              1,
              "#f0f921"
             ]
            ],
            "type": "histogram2d"
           }
          ],
          "histogram2dcontour": [
           {
            "colorbar": {
             "outlinewidth": 0,
             "ticks": ""
            },
            "colorscale": [
             [
              0,
              "#0d0887"
             ],
             [
              0.1111111111111111,
              "#46039f"
             ],
             [
              0.2222222222222222,
              "#7201a8"
             ],
             [
              0.3333333333333333,
              "#9c179e"
             ],
             [
              0.4444444444444444,
              "#bd3786"
             ],
             [
              0.5555555555555556,
              "#d8576b"
             ],
             [
              0.6666666666666666,
              "#ed7953"
             ],
             [
              0.7777777777777778,
              "#fb9f3a"
             ],
             [
              0.8888888888888888,
              "#fdca26"
             ],
             [
              1,
              "#f0f921"
             ]
            ],
            "type": "histogram2dcontour"
           }
          ],
          "mesh3d": [
           {
            "colorbar": {
             "outlinewidth": 0,
             "ticks": ""
            },
            "type": "mesh3d"
           }
          ],
          "parcoords": [
           {
            "line": {
             "colorbar": {
              "outlinewidth": 0,
              "ticks": ""
             }
            },
            "type": "parcoords"
           }
          ],
          "pie": [
           {
            "automargin": true,
            "type": "pie"
           }
          ],
          "scatter": [
           {
            "marker": {
             "line": {
              "color": "#283442"
             }
            },
            "type": "scatter"
           }
          ],
          "scatter3d": [
           {
            "line": {
             "colorbar": {
              "outlinewidth": 0,
              "ticks": ""
             }
            },
            "marker": {
             "colorbar": {
              "outlinewidth": 0,
              "ticks": ""
             }
            },
            "type": "scatter3d"
           }
          ],
          "scattercarpet": [
           {
            "marker": {
             "colorbar": {
              "outlinewidth": 0,
              "ticks": ""
             }
            },
            "type": "scattercarpet"
           }
          ],
          "scattergeo": [
           {
            "marker": {
             "colorbar": {
              "outlinewidth": 0,
              "ticks": ""
             }
            },
            "type": "scattergeo"
           }
          ],
          "scattergl": [
           {
            "marker": {
             "line": {
              "color": "#283442"
             }
            },
            "type": "scattergl"
           }
          ],
          "scattermapbox": [
           {
            "marker": {
             "colorbar": {
              "outlinewidth": 0,
              "ticks": ""
             }
            },
            "type": "scattermapbox"
           }
          ],
          "scatterpolar": [
           {
            "marker": {
             "colorbar": {
              "outlinewidth": 0,
              "ticks": ""
             }
            },
            "type": "scatterpolar"
           }
          ],
          "scatterpolargl": [
           {
            "marker": {
             "colorbar": {
              "outlinewidth": 0,
              "ticks": ""
             }
            },
            "type": "scatterpolargl"
           }
          ],
          "scatterternary": [
           {
            "marker": {
             "colorbar": {
              "outlinewidth": 0,
              "ticks": ""
             }
            },
            "type": "scatterternary"
           }
          ],
          "surface": [
           {
            "colorbar": {
             "outlinewidth": 0,
             "ticks": ""
            },
            "colorscale": [
             [
              0,
              "#0d0887"
             ],
             [
              0.1111111111111111,
              "#46039f"
             ],
             [
              0.2222222222222222,
              "#7201a8"
             ],
             [
              0.3333333333333333,
              "#9c179e"
             ],
             [
              0.4444444444444444,
              "#bd3786"
             ],
             [
              0.5555555555555556,
              "#d8576b"
             ],
             [
              0.6666666666666666,
              "#ed7953"
             ],
             [
              0.7777777777777778,
              "#fb9f3a"
             ],
             [
              0.8888888888888888,
              "#fdca26"
             ],
             [
              1,
              "#f0f921"
             ]
            ],
            "type": "surface"
           }
          ],
          "table": [
           {
            "cells": {
             "fill": {
              "color": "#506784"
             },
             "line": {
              "color": "rgb(17,17,17)"
             }
            },
            "header": {
             "fill": {
              "color": "#2a3f5f"
             },
             "line": {
              "color": "rgb(17,17,17)"
             }
            },
            "type": "table"
           }
          ]
         },
         "layout": {
          "annotationdefaults": {
           "arrowcolor": "#f2f5fa",
           "arrowhead": 0,
           "arrowwidth": 1
          },
          "autotypenumbers": "strict",
          "coloraxis": {
           "colorbar": {
            "outlinewidth": 0,
            "ticks": ""
           }
          },
          "colorscale": {
           "diverging": [
            [
             0,
             "#8e0152"
            ],
            [
             0.1,
             "#c51b7d"
            ],
            [
             0.2,
             "#de77ae"
            ],
            [
             0.3,
             "#f1b6da"
            ],
            [
             0.4,
             "#fde0ef"
            ],
            [
             0.5,
             "#f7f7f7"
            ],
            [
             0.6,
             "#e6f5d0"
            ],
            [
             0.7,
             "#b8e186"
            ],
            [
             0.8,
             "#7fbc41"
            ],
            [
             0.9,
             "#4d9221"
            ],
            [
             1,
             "#276419"
            ]
           ],
           "sequential": [
            [
             0,
             "#0d0887"
            ],
            [
             0.1111111111111111,
             "#46039f"
            ],
            [
             0.2222222222222222,
             "#7201a8"
            ],
            [
             0.3333333333333333,
             "#9c179e"
            ],
            [
             0.4444444444444444,
             "#bd3786"
            ],
            [
             0.5555555555555556,
             "#d8576b"
            ],
            [
             0.6666666666666666,
             "#ed7953"
            ],
            [
             0.7777777777777778,
             "#fb9f3a"
            ],
            [
             0.8888888888888888,
             "#fdca26"
            ],
            [
             1,
             "#f0f921"
            ]
           ],
           "sequentialminus": [
            [
             0,
             "#0d0887"
            ],
            [
             0.1111111111111111,
             "#46039f"
            ],
            [
             0.2222222222222222,
             "#7201a8"
            ],
            [
             0.3333333333333333,
             "#9c179e"
            ],
            [
             0.4444444444444444,
             "#bd3786"
            ],
            [
             0.5555555555555556,
             "#d8576b"
            ],
            [
             0.6666666666666666,
             "#ed7953"
            ],
            [
             0.7777777777777778,
             "#fb9f3a"
            ],
            [
             0.8888888888888888,
             "#fdca26"
            ],
            [
             1,
             "#f0f921"
            ]
           ]
          },
          "colorway": [
           "#636efa",
           "#EF553B",
           "#00cc96",
           "#ab63fa",
           "#FFA15A",
           "#19d3f3",
           "#FF6692",
           "#B6E880",
           "#FF97FF",
           "#FECB52"
          ],
          "font": {
           "color": "#f2f5fa"
          },
          "geo": {
           "bgcolor": "rgb(17,17,17)",
           "lakecolor": "rgb(17,17,17)",
           "landcolor": "rgb(17,17,17)",
           "showlakes": true,
           "showland": true,
           "subunitcolor": "#506784"
          },
          "hoverlabel": {
           "align": "left"
          },
          "hovermode": "closest",
          "mapbox": {
           "style": "dark"
          },
          "paper_bgcolor": "rgb(17,17,17)",
          "plot_bgcolor": "rgb(17,17,17)",
          "polar": {
           "angularaxis": {
            "gridcolor": "#506784",
            "linecolor": "#506784",
            "ticks": ""
           },
           "bgcolor": "rgb(17,17,17)",
           "radialaxis": {
            "gridcolor": "#506784",
            "linecolor": "#506784",
            "ticks": ""
           }
          },
          "scene": {
           "xaxis": {
            "backgroundcolor": "rgb(17,17,17)",
            "gridcolor": "#506784",
            "gridwidth": 2,
            "linecolor": "#506784",
            "showbackground": true,
            "ticks": "",
            "zerolinecolor": "#C8D4E3"
           },
           "yaxis": {
            "backgroundcolor": "rgb(17,17,17)",
            "gridcolor": "#506784",
            "gridwidth": 2,
            "linecolor": "#506784",
            "showbackground": true,
            "ticks": "",
            "zerolinecolor": "#C8D4E3"
           },
           "zaxis": {
            "backgroundcolor": "rgb(17,17,17)",
            "gridcolor": "#506784",
            "gridwidth": 2,
            "linecolor": "#506784",
            "showbackground": true,
            "ticks": "",
            "zerolinecolor": "#C8D4E3"
           }
          },
          "shapedefaults": {
           "line": {
            "color": "#f2f5fa"
           }
          },
          "sliderdefaults": {
           "bgcolor": "#C8D4E3",
           "bordercolor": "rgb(17,17,17)",
           "borderwidth": 1,
           "tickwidth": 0
          },
          "ternary": {
           "aaxis": {
            "gridcolor": "#506784",
            "linecolor": "#506784",
            "ticks": ""
           },
           "baxis": {
            "gridcolor": "#506784",
            "linecolor": "#506784",
            "ticks": ""
           },
           "bgcolor": "rgb(17,17,17)",
           "caxis": {
            "gridcolor": "#506784",
            "linecolor": "#506784",
            "ticks": ""
           }
          },
          "title": {
           "x": 0.05
          },
          "updatemenudefaults": {
           "bgcolor": "#506784",
           "borderwidth": 0
          },
          "xaxis": {
           "automargin": true,
           "gridcolor": "#283442",
           "linecolor": "#506784",
           "ticks": "",
           "title": {
            "standoff": 15
           },
           "zerolinecolor": "#283442",
           "zerolinewidth": 2
          },
          "yaxis": {
           "automargin": true,
           "gridcolor": "#283442",
           "linecolor": "#506784",
           "ticks": "",
           "title": {
            "standoff": 15
           },
           "zerolinecolor": "#283442",
           "zerolinewidth": 2
          }
         }
        },
        "title": {
         "text": "GROWTH OF POPULATION FROM 1980 TO 2022"
        },
        "xaxis": {
         "anchor": "y",
         "domain": [
          0,
          1
         ],
         "title": {
          "text": "COUNTRY"
         }
        },
        "yaxis": {
         "anchor": "x",
         "domain": [
          0,
          1
         ],
         "title": {
          "text": "POPULATION GROWTH"
         }
        }
       }
      },
      "text/html": [
       "<div>                            <div id=\"1a88d1a3-0339-40b5-92f3-b7fed93841ca\" class=\"plotly-graph-div\" style=\"height:525px; width:100%;\"></div>            <script type=\"text/javascript\">                require([\"plotly\"], function(Plotly) {                    window.PLOTLYENV=window.PLOTLYENV || {};                                    if (document.getElementById(\"1a88d1a3-0339-40b5-92f3-b7fed93841ca\")) {                    Plotly.newPlot(                        \"1a88d1a3-0339-40b5-92f3-b7fed93841ca\",                        [{\"alignmentgroup\":\"True\",\"hovertemplate\":\"color=India<br>x=%{x}<br>y=%{y}<br>text=%{text}<extra></extra>\",\"legendgroup\":\"India\",\"marker\":{\"color\":\"#636efa\",\"pattern\":{\"shape\":\"\"}},\"name\":\"India\",\"offsetgroup\":\"India\",\"orientation\":\"v\",\"showlegend\":true,\"text\":[720344788.0],\"textposition\":\"auto\",\"x\":[\"India\"],\"xaxis\":\"x\",\"y\":[720344788],\"yaxis\":\"y\",\"type\":\"bar\"},{\"alignmentgroup\":\"True\",\"hovertemplate\":\"color=China<br>x=%{x}<br>y=%{y}<br>text=%{text}<extra></extra>\",\"legendgroup\":\"China\",\"marker\":{\"color\":\"#EF553B\",\"pattern\":{\"shape\":\"\"}},\"name\":\"China\",\"offsetgroup\":\"China\",\"orientation\":\"v\",\"showlegend\":true,\"text\":[443514871.0],\"textposition\":\"auto\",\"x\":[\"China\"],\"xaxis\":\"x\",\"y\":[443514871],\"yaxis\":\"y\",\"type\":\"bar\"},{\"alignmentgroup\":\"True\",\"hovertemplate\":\"color=Pakistan<br>x=%{x}<br>y=%{y}<br>text=%{text}<extra></extra>\",\"legendgroup\":\"Pakistan\",\"marker\":{\"color\":\"#00cc96\",\"pattern\":{\"shape\":\"\"}},\"name\":\"Pakistan\",\"offsetgroup\":\"Pakistan\",\"orientation\":\"v\",\"showlegend\":true,\"text\":[155200805.0],\"textposition\":\"auto\",\"x\":[\"Pakistan\"],\"xaxis\":\"x\",\"y\":[155200805],\"yaxis\":\"y\",\"type\":\"bar\"},{\"alignmentgroup\":\"True\",\"hovertemplate\":\"color=Nigeria<br>x=%{x}<br>y=%{y}<br>text=%{text}<extra></extra>\",\"legendgroup\":\"Nigeria\",\"marker\":{\"color\":\"#ab63fa\",\"pattern\":{\"shape\":\"\"}},\"name\":\"Nigeria\",\"offsetgroup\":\"Nigeria\",\"orientation\":\"v\",\"showlegend\":true,\"text\":[145589773.0],\"textposition\":\"auto\",\"x\":[\"Nigeria\"],\"xaxis\":\"x\",\"y\":[145589773],\"yaxis\":\"y\",\"type\":\"bar\"},{\"alignmentgroup\":\"True\",\"hovertemplate\":\"color=Indonesia<br>x=%{x}<br>y=%{y}<br>text=%{text}<extra></extra>\",\"legendgroup\":\"Indonesia\",\"marker\":{\"color\":\"#FFA15A\",\"pattern\":{\"shape\":\"\"}},\"name\":\"Indonesia\",\"offsetgroup\":\"Indonesia\",\"orientation\":\"v\",\"showlegend\":true,\"text\":[127324243.0],\"textposition\":\"auto\",\"x\":[\"Indonesia\"],\"xaxis\":\"x\",\"y\":[127324243],\"yaxis\":\"y\",\"type\":\"bar\"},{\"alignmentgroup\":\"True\",\"hovertemplate\":\"color=United States<br>x=%{x}<br>y=%{y}<br>text=%{text}<extra></extra>\",\"legendgroup\":\"United States\",\"marker\":{\"color\":\"#19d3f3\",\"pattern\":{\"shape\":\"\"}},\"name\":\"United States\",\"offsetgroup\":\"United States\",\"orientation\":\"v\",\"showlegend\":true,\"text\":[115149839.0],\"textposition\":\"auto\",\"x\":[\"United States\"],\"xaxis\":\"x\",\"y\":[115149839],\"yaxis\":\"y\",\"type\":\"bar\"},{\"alignmentgroup\":\"True\",\"hovertemplate\":\"color=Brazil<br>x=%{x}<br>y=%{y}<br>text=%{text}<extra></extra>\",\"legendgroup\":\"Brazil\",\"marker\":{\"color\":\"#FF6692\",\"pattern\":{\"shape\":\"\"}},\"name\":\"Brazil\",\"offsetgroup\":\"Brazil\",\"orientation\":\"v\",\"showlegend\":true,\"text\":[93025115.0],\"textposition\":\"auto\",\"x\":[\"Brazil\"],\"xaxis\":\"x\",\"y\":[93025115],\"yaxis\":\"y\",\"type\":\"bar\"},{\"alignmentgroup\":\"True\",\"hovertemplate\":\"color=Ethiopia<br>x=%{x}<br>y=%{y}<br>text=%{text}<extra></extra>\",\"legendgroup\":\"Ethiopia\",\"marker\":{\"color\":\"#B6E880\",\"pattern\":{\"shape\":\"\"}},\"name\":\"Ethiopia\",\"offsetgroup\":\"Ethiopia\",\"orientation\":\"v\",\"showlegend\":true,\"text\":[88434455.0],\"textposition\":\"auto\",\"x\":[\"Ethiopia\"],\"xaxis\":\"x\",\"y\":[88434455],\"yaxis\":\"y\",\"type\":\"bar\"},{\"alignmentgroup\":\"True\",\"hovertemplate\":\"color=Bangladesh<br>x=%{x}<br>y=%{y}<br>text=%{text}<extra></extra>\",\"legendgroup\":\"Bangladesh\",\"marker\":{\"color\":\"#FF97FF\",\"pattern\":{\"shape\":\"\"}},\"name\":\"Bangladesh\",\"offsetgroup\":\"Bangladesh\",\"orientation\":\"v\",\"showlegend\":true,\"text\":[87256607.0],\"textposition\":\"auto\",\"x\":[\"Bangladesh\"],\"xaxis\":\"x\",\"y\":[87256607],\"yaxis\":\"y\",\"type\":\"bar\"},{\"alignmentgroup\":\"True\",\"hovertemplate\":\"color=DR Congo<br>x=%{x}<br>y=%{y}<br>text=%{text}<extra></extra>\",\"legendgroup\":\"DR Congo\",\"marker\":{\"color\":\"#FECB52\",\"pattern\":{\"shape\":\"\"}},\"name\":\"DR Congo\",\"offsetgroup\":\"DR Congo\",\"orientation\":\"v\",\"showlegend\":true,\"text\":[72301526.0],\"textposition\":\"auto\",\"x\":[\"DR Congo\"],\"xaxis\":\"x\",\"y\":[72301526],\"yaxis\":\"y\",\"type\":\"bar\"},{\"alignmentgroup\":\"True\",\"hovertemplate\":\"color=Egypt<br>x=%{x}<br>y=%{y}<br>text=%{text}<extra></extra>\",\"legendgroup\":\"Egypt\",\"marker\":{\"color\":\"#636efa\",\"pattern\":{\"shape\":\"\"}},\"name\":\"Egypt\",\"offsetgroup\":\"Egypt\",\"orientation\":\"v\",\"showlegend\":true,\"text\":[67241547.0],\"textposition\":\"auto\",\"x\":[\"Egypt\"],\"xaxis\":\"x\",\"y\":[67241547],\"yaxis\":\"y\",\"type\":\"bar\"},{\"alignmentgroup\":\"True\",\"hovertemplate\":\"color=Philippines<br>x=%{x}<br>y=%{y}<br>text=%{text}<extra></extra>\",\"legendgroup\":\"Philippines\",\"marker\":{\"color\":\"#EF553B\",\"pattern\":{\"shape\":\"\"}},\"name\":\"Philippines\",\"offsetgroup\":\"Philippines\",\"orientation\":\"v\",\"showlegend\":true,\"text\":[67139463.0],\"textposition\":\"auto\",\"x\":[\"Philippines\"],\"xaxis\":\"x\",\"y\":[67139463],\"yaxis\":\"y\",\"type\":\"bar\"},{\"alignmentgroup\":\"True\",\"hovertemplate\":\"color=Mexico<br>x=%{x}<br>y=%{y}<br>text=%{text}<extra></extra>\",\"legendgroup\":\"Mexico\",\"marker\":{\"color\":\"#00cc96\",\"pattern\":{\"shape\":\"\"}},\"name\":\"Mexico\",\"offsetgroup\":\"Mexico\",\"orientation\":\"v\",\"showlegend\":true,\"text\":[59798939.0],\"textposition\":\"auto\",\"x\":[\"Mexico\"],\"xaxis\":\"x\",\"y\":[59798939],\"yaxis\":\"y\",\"type\":\"bar\"},{\"alignmentgroup\":\"True\",\"hovertemplate\":\"color=Iran<br>x=%{x}<br>y=%{y}<br>text=%{text}<extra></extra>\",\"legendgroup\":\"Iran\",\"marker\":{\"color\":\"#ab63fa\",\"pattern\":{\"shape\":\"\"}},\"name\":\"Iran\",\"offsetgroup\":\"Iran\",\"orientation\":\"v\",\"showlegend\":true,\"text\":[50029906.0],\"textposition\":\"auto\",\"x\":[\"Iran\"],\"xaxis\":\"x\",\"y\":[50029906],\"yaxis\":\"y\",\"type\":\"bar\"},{\"alignmentgroup\":\"True\",\"hovertemplate\":\"color=Tanzania<br>x=%{x}<br>y=%{y}<br>text=%{text}<extra></extra>\",\"legendgroup\":\"Tanzania\",\"marker\":{\"color\":\"#FFA15A\",\"pattern\":{\"shape\":\"\"}},\"name\":\"Tanzania\",\"offsetgroup\":\"Tanzania\",\"orientation\":\"v\",\"showlegend\":true,\"text\":[46200089.0],\"textposition\":\"auto\",\"x\":[\"Tanzania\"],\"xaxis\":\"x\",\"y\":[46200089],\"yaxis\":\"y\",\"type\":\"bar\"},{\"alignmentgroup\":\"True\",\"hovertemplate\":\"color=Vietnam<br>x=%{x}<br>y=%{y}<br>text=%{text}<extra></extra>\",\"legendgroup\":\"Vietnam\",\"marker\":{\"color\":\"#19d3f3\",\"pattern\":{\"shape\":\"\"}},\"name\":\"Vietnam\",\"offsetgroup\":\"Vietnam\",\"orientation\":\"v\",\"showlegend\":true,\"text\":[45218586.0],\"textposition\":\"auto\",\"x\":[\"Vietnam\"],\"xaxis\":\"x\",\"y\":[45218586],\"yaxis\":\"y\",\"type\":\"bar\"},{\"alignmentgroup\":\"True\",\"hovertemplate\":\"color=Turkey<br>x=%{x}<br>y=%{y}<br>text=%{text}<extra></extra>\",\"legendgroup\":\"Turkey\",\"marker\":{\"color\":\"#FF6692\",\"pattern\":{\"shape\":\"\"}},\"name\":\"Turkey\",\"offsetgroup\":\"Turkey\",\"orientation\":\"v\",\"showlegend\":true,\"text\":[41252172.0],\"textposition\":\"auto\",\"x\":[\"Turkey\"],\"xaxis\":\"x\",\"y\":[41252172],\"yaxis\":\"y\",\"type\":\"bar\"},{\"alignmentgroup\":\"True\",\"hovertemplate\":\"color=Kenya<br>x=%{x}<br>y=%{y}<br>text=%{text}<extra></extra>\",\"legendgroup\":\"Kenya\",\"marker\":{\"color\":\"#B6E880\",\"pattern\":{\"shape\":\"\"}},\"name\":\"Kenya\",\"offsetgroup\":\"Kenya\",\"orientation\":\"v\",\"showlegend\":true,\"text\":[37840363.0],\"textposition\":\"auto\",\"x\":[\"Kenya\"],\"xaxis\":\"x\",\"y\":[37840363],\"yaxis\":\"y\",\"type\":\"bar\"},{\"alignmentgroup\":\"True\",\"hovertemplate\":\"color=Uganda<br>x=%{x}<br>y=%{y}<br>text=%{text}<extra></extra>\",\"legendgroup\":\"Uganda\",\"marker\":{\"color\":\"#FF97FF\",\"pattern\":{\"shape\":\"\"}},\"name\":\"Uganda\",\"offsetgroup\":\"Uganda\",\"orientation\":\"v\",\"showlegend\":true,\"text\":[33965559.0],\"textposition\":\"auto\",\"x\":[\"Uganda\"],\"xaxis\":\"x\",\"y\":[33965559],\"yaxis\":\"y\",\"type\":\"bar\"},{\"alignmentgroup\":\"True\",\"hovertemplate\":\"color=Iraq<br>x=%{x}<br>y=%{y}<br>text=%{text}<extra></extra>\",\"legendgroup\":\"Iraq\",\"marker\":{\"color\":\"#FECB52\",\"pattern\":{\"shape\":\"\"}},\"name\":\"Iraq\",\"offsetgroup\":\"Iraq\",\"orientation\":\"v\",\"showlegend\":true,\"text\":[30842753.0],\"textposition\":\"auto\",\"x\":[\"Iraq\"],\"xaxis\":\"x\",\"y\":[30842753],\"yaxis\":\"y\",\"type\":\"bar\"},{\"alignmentgroup\":\"True\",\"hovertemplate\":\"color=South Africa<br>x=%{x}<br>y=%{y}<br>text=%{text}<extra></extra>\",\"legendgroup\":\"South Africa\",\"marker\":{\"color\":\"#636efa\",\"pattern\":{\"shape\":\"\"}},\"name\":\"South Africa\",\"offsetgroup\":\"South Africa\",\"orientation\":\"v\",\"showlegend\":true,\"text\":[30430336.0],\"textposition\":\"auto\",\"x\":[\"South Africa\"],\"xaxis\":\"x\",\"y\":[30430336],\"yaxis\":\"y\",\"type\":\"bar\"},{\"alignmentgroup\":\"True\",\"hovertemplate\":\"color=Sudan<br>x=%{x}<br>y=%{y}<br>text=%{text}<extra></extra>\",\"legendgroup\":\"Sudan\",\"marker\":{\"color\":\"#EF553B\",\"pattern\":{\"shape\":\"\"}},\"name\":\"Sudan\",\"offsetgroup\":\"Sudan\",\"orientation\":\"v\",\"showlegend\":true,\"text\":[30200618.0],\"textposition\":\"auto\",\"x\":[\"Sudan\"],\"xaxis\":\"x\",\"y\":[30200618],\"yaxis\":\"y\",\"type\":\"bar\"},{\"alignmentgroup\":\"True\",\"hovertemplate\":\"color=Afghanistan<br>x=%{x}<br>y=%{y}<br>text=%{text}<extra></extra>\",\"legendgroup\":\"Afghanistan\",\"marker\":{\"color\":\"#00cc96\",\"pattern\":{\"shape\":\"\"}},\"name\":\"Afghanistan\",\"offsetgroup\":\"Afghanistan\",\"orientation\":\"v\",\"showlegend\":true,\"text\":[28642140.0],\"textposition\":\"auto\",\"x\":[\"Afghanistan\"],\"xaxis\":\"x\",\"y\":[28642140],\"yaxis\":\"y\",\"type\":\"bar\"},{\"alignmentgroup\":\"True\",\"hovertemplate\":\"color=Angola<br>x=%{x}<br>y=%{y}<br>text=%{text}<extra></extra>\",\"legendgroup\":\"Angola\",\"marker\":{\"color\":\"#ab63fa\",\"pattern\":{\"shape\":\"\"}},\"name\":\"Angola\",\"offsetgroup\":\"Angola\",\"orientation\":\"v\",\"showlegend\":true,\"text\":[27258940.0],\"textposition\":\"auto\",\"x\":[\"Angola\"],\"xaxis\":\"x\",\"y\":[27258940],\"yaxis\":\"y\",\"type\":\"bar\"},{\"alignmentgroup\":\"True\",\"hovertemplate\":\"color=Saudi Arabia<br>x=%{x}<br>y=%{y}<br>text=%{text}<extra></extra>\",\"legendgroup\":\"Saudi Arabia\",\"marker\":{\"color\":\"#FFA15A\",\"pattern\":{\"shape\":\"\"}},\"name\":\"Saudi Arabia\",\"offsetgroup\":\"Saudi Arabia\",\"orientation\":\"v\",\"showlegend\":true,\"text\":[26237110.0],\"textposition\":\"auto\",\"x\":[\"Saudi Arabia\"],\"xaxis\":\"x\",\"y\":[26237110],\"yaxis\":\"y\",\"type\":\"bar\"}],                        {\"template\":{\"data\":{\"barpolar\":[{\"marker\":{\"line\":{\"color\":\"rgb(17,17,17)\",\"width\":0.5},\"pattern\":{\"fillmode\":\"overlay\",\"size\":10,\"solidity\":0.2}},\"type\":\"barpolar\"}],\"bar\":[{\"error_x\":{\"color\":\"#f2f5fa\"},\"error_y\":{\"color\":\"#f2f5fa\"},\"marker\":{\"line\":{\"color\":\"rgb(17,17,17)\",\"width\":0.5},\"pattern\":{\"fillmode\":\"overlay\",\"size\":10,\"solidity\":0.2}},\"type\":\"bar\"}],\"carpet\":[{\"aaxis\":{\"endlinecolor\":\"#A2B1C6\",\"gridcolor\":\"#506784\",\"linecolor\":\"#506784\",\"minorgridcolor\":\"#506784\",\"startlinecolor\":\"#A2B1C6\"},\"baxis\":{\"endlinecolor\":\"#A2B1C6\",\"gridcolor\":\"#506784\",\"linecolor\":\"#506784\",\"minorgridcolor\":\"#506784\",\"startlinecolor\":\"#A2B1C6\"},\"type\":\"carpet\"}],\"choropleth\":[{\"colorbar\":{\"outlinewidth\":0,\"ticks\":\"\"},\"type\":\"choropleth\"}],\"contourcarpet\":[{\"colorbar\":{\"outlinewidth\":0,\"ticks\":\"\"},\"type\":\"contourcarpet\"}],\"contour\":[{\"colorbar\":{\"outlinewidth\":0,\"ticks\":\"\"},\"colorscale\":[[0.0,\"#0d0887\"],[0.1111111111111111,\"#46039f\"],[0.2222222222222222,\"#7201a8\"],[0.3333333333333333,\"#9c179e\"],[0.4444444444444444,\"#bd3786\"],[0.5555555555555556,\"#d8576b\"],[0.6666666666666666,\"#ed7953\"],[0.7777777777777778,\"#fb9f3a\"],[0.8888888888888888,\"#fdca26\"],[1.0,\"#f0f921\"]],\"type\":\"contour\"}],\"heatmapgl\":[{\"colorbar\":{\"outlinewidth\":0,\"ticks\":\"\"},\"colorscale\":[[0.0,\"#0d0887\"],[0.1111111111111111,\"#46039f\"],[0.2222222222222222,\"#7201a8\"],[0.3333333333333333,\"#9c179e\"],[0.4444444444444444,\"#bd3786\"],[0.5555555555555556,\"#d8576b\"],[0.6666666666666666,\"#ed7953\"],[0.7777777777777778,\"#fb9f3a\"],[0.8888888888888888,\"#fdca26\"],[1.0,\"#f0f921\"]],\"type\":\"heatmapgl\"}],\"heatmap\":[{\"colorbar\":{\"outlinewidth\":0,\"ticks\":\"\"},\"colorscale\":[[0.0,\"#0d0887\"],[0.1111111111111111,\"#46039f\"],[0.2222222222222222,\"#7201a8\"],[0.3333333333333333,\"#9c179e\"],[0.4444444444444444,\"#bd3786\"],[0.5555555555555556,\"#d8576b\"],[0.6666666666666666,\"#ed7953\"],[0.7777777777777778,\"#fb9f3a\"],[0.8888888888888888,\"#fdca26\"],[1.0,\"#f0f921\"]],\"type\":\"heatmap\"}],\"histogram2dcontour\":[{\"colorbar\":{\"outlinewidth\":0,\"ticks\":\"\"},\"colorscale\":[[0.0,\"#0d0887\"],[0.1111111111111111,\"#46039f\"],[0.2222222222222222,\"#7201a8\"],[0.3333333333333333,\"#9c179e\"],[0.4444444444444444,\"#bd3786\"],[0.5555555555555556,\"#d8576b\"],[0.6666666666666666,\"#ed7953\"],[0.7777777777777778,\"#fb9f3a\"],[0.8888888888888888,\"#fdca26\"],[1.0,\"#f0f921\"]],\"type\":\"histogram2dcontour\"}],\"histogram2d\":[{\"colorbar\":{\"outlinewidth\":0,\"ticks\":\"\"},\"colorscale\":[[0.0,\"#0d0887\"],[0.1111111111111111,\"#46039f\"],[0.2222222222222222,\"#7201a8\"],[0.3333333333333333,\"#9c179e\"],[0.4444444444444444,\"#bd3786\"],[0.5555555555555556,\"#d8576b\"],[0.6666666666666666,\"#ed7953\"],[0.7777777777777778,\"#fb9f3a\"],[0.8888888888888888,\"#fdca26\"],[1.0,\"#f0f921\"]],\"type\":\"histogram2d\"}],\"histogram\":[{\"marker\":{\"pattern\":{\"fillmode\":\"overlay\",\"size\":10,\"solidity\":0.2}},\"type\":\"histogram\"}],\"mesh3d\":[{\"colorbar\":{\"outlinewidth\":0,\"ticks\":\"\"},\"type\":\"mesh3d\"}],\"parcoords\":[{\"line\":{\"colorbar\":{\"outlinewidth\":0,\"ticks\":\"\"}},\"type\":\"parcoords\"}],\"pie\":[{\"automargin\":true,\"type\":\"pie\"}],\"scatter3d\":[{\"line\":{\"colorbar\":{\"outlinewidth\":0,\"ticks\":\"\"}},\"marker\":{\"colorbar\":{\"outlinewidth\":0,\"ticks\":\"\"}},\"type\":\"scatter3d\"}],\"scattercarpet\":[{\"marker\":{\"colorbar\":{\"outlinewidth\":0,\"ticks\":\"\"}},\"type\":\"scattercarpet\"}],\"scattergeo\":[{\"marker\":{\"colorbar\":{\"outlinewidth\":0,\"ticks\":\"\"}},\"type\":\"scattergeo\"}],\"scattergl\":[{\"marker\":{\"line\":{\"color\":\"#283442\"}},\"type\":\"scattergl\"}],\"scattermapbox\":[{\"marker\":{\"colorbar\":{\"outlinewidth\":0,\"ticks\":\"\"}},\"type\":\"scattermapbox\"}],\"scatterpolargl\":[{\"marker\":{\"colorbar\":{\"outlinewidth\":0,\"ticks\":\"\"}},\"type\":\"scatterpolargl\"}],\"scatterpolar\":[{\"marker\":{\"colorbar\":{\"outlinewidth\":0,\"ticks\":\"\"}},\"type\":\"scatterpolar\"}],\"scatter\":[{\"marker\":{\"line\":{\"color\":\"#283442\"}},\"type\":\"scatter\"}],\"scatterternary\":[{\"marker\":{\"colorbar\":{\"outlinewidth\":0,\"ticks\":\"\"}},\"type\":\"scatterternary\"}],\"surface\":[{\"colorbar\":{\"outlinewidth\":0,\"ticks\":\"\"},\"colorscale\":[[0.0,\"#0d0887\"],[0.1111111111111111,\"#46039f\"],[0.2222222222222222,\"#7201a8\"],[0.3333333333333333,\"#9c179e\"],[0.4444444444444444,\"#bd3786\"],[0.5555555555555556,\"#d8576b\"],[0.6666666666666666,\"#ed7953\"],[0.7777777777777778,\"#fb9f3a\"],[0.8888888888888888,\"#fdca26\"],[1.0,\"#f0f921\"]],\"type\":\"surface\"}],\"table\":[{\"cells\":{\"fill\":{\"color\":\"#506784\"},\"line\":{\"color\":\"rgb(17,17,17)\"}},\"header\":{\"fill\":{\"color\":\"#2a3f5f\"},\"line\":{\"color\":\"rgb(17,17,17)\"}},\"type\":\"table\"}]},\"layout\":{\"annotationdefaults\":{\"arrowcolor\":\"#f2f5fa\",\"arrowhead\":0,\"arrowwidth\":1},\"autotypenumbers\":\"strict\",\"coloraxis\":{\"colorbar\":{\"outlinewidth\":0,\"ticks\":\"\"}},\"colorscale\":{\"diverging\":[[0,\"#8e0152\"],[0.1,\"#c51b7d\"],[0.2,\"#de77ae\"],[0.3,\"#f1b6da\"],[0.4,\"#fde0ef\"],[0.5,\"#f7f7f7\"],[0.6,\"#e6f5d0\"],[0.7,\"#b8e186\"],[0.8,\"#7fbc41\"],[0.9,\"#4d9221\"],[1,\"#276419\"]],\"sequential\":[[0.0,\"#0d0887\"],[0.1111111111111111,\"#46039f\"],[0.2222222222222222,\"#7201a8\"],[0.3333333333333333,\"#9c179e\"],[0.4444444444444444,\"#bd3786\"],[0.5555555555555556,\"#d8576b\"],[0.6666666666666666,\"#ed7953\"],[0.7777777777777778,\"#fb9f3a\"],[0.8888888888888888,\"#fdca26\"],[1.0,\"#f0f921\"]],\"sequentialminus\":[[0.0,\"#0d0887\"],[0.1111111111111111,\"#46039f\"],[0.2222222222222222,\"#7201a8\"],[0.3333333333333333,\"#9c179e\"],[0.4444444444444444,\"#bd3786\"],[0.5555555555555556,\"#d8576b\"],[0.6666666666666666,\"#ed7953\"],[0.7777777777777778,\"#fb9f3a\"],[0.8888888888888888,\"#fdca26\"],[1.0,\"#f0f921\"]]},\"colorway\":[\"#636efa\",\"#EF553B\",\"#00cc96\",\"#ab63fa\",\"#FFA15A\",\"#19d3f3\",\"#FF6692\",\"#B6E880\",\"#FF97FF\",\"#FECB52\"],\"font\":{\"color\":\"#f2f5fa\"},\"geo\":{\"bgcolor\":\"rgb(17,17,17)\",\"lakecolor\":\"rgb(17,17,17)\",\"landcolor\":\"rgb(17,17,17)\",\"showlakes\":true,\"showland\":true,\"subunitcolor\":\"#506784\"},\"hoverlabel\":{\"align\":\"left\"},\"hovermode\":\"closest\",\"mapbox\":{\"style\":\"dark\"},\"paper_bgcolor\":\"rgb(17,17,17)\",\"plot_bgcolor\":\"rgb(17,17,17)\",\"polar\":{\"angularaxis\":{\"gridcolor\":\"#506784\",\"linecolor\":\"#506784\",\"ticks\":\"\"},\"bgcolor\":\"rgb(17,17,17)\",\"radialaxis\":{\"gridcolor\":\"#506784\",\"linecolor\":\"#506784\",\"ticks\":\"\"}},\"scene\":{\"xaxis\":{\"backgroundcolor\":\"rgb(17,17,17)\",\"gridcolor\":\"#506784\",\"gridwidth\":2,\"linecolor\":\"#506784\",\"showbackground\":true,\"ticks\":\"\",\"zerolinecolor\":\"#C8D4E3\"},\"yaxis\":{\"backgroundcolor\":\"rgb(17,17,17)\",\"gridcolor\":\"#506784\",\"gridwidth\":2,\"linecolor\":\"#506784\",\"showbackground\":true,\"ticks\":\"\",\"zerolinecolor\":\"#C8D4E3\"},\"zaxis\":{\"backgroundcolor\":\"rgb(17,17,17)\",\"gridcolor\":\"#506784\",\"gridwidth\":2,\"linecolor\":\"#506784\",\"showbackground\":true,\"ticks\":\"\",\"zerolinecolor\":\"#C8D4E3\"}},\"shapedefaults\":{\"line\":{\"color\":\"#f2f5fa\"}},\"sliderdefaults\":{\"bgcolor\":\"#C8D4E3\",\"bordercolor\":\"rgb(17,17,17)\",\"borderwidth\":1,\"tickwidth\":0},\"ternary\":{\"aaxis\":{\"gridcolor\":\"#506784\",\"linecolor\":\"#506784\",\"ticks\":\"\"},\"baxis\":{\"gridcolor\":\"#506784\",\"linecolor\":\"#506784\",\"ticks\":\"\"},\"bgcolor\":\"rgb(17,17,17)\",\"caxis\":{\"gridcolor\":\"#506784\",\"linecolor\":\"#506784\",\"ticks\":\"\"}},\"title\":{\"x\":0.05},\"updatemenudefaults\":{\"bgcolor\":\"#506784\",\"borderwidth\":0},\"xaxis\":{\"automargin\":true,\"gridcolor\":\"#283442\",\"linecolor\":\"#506784\",\"ticks\":\"\",\"title\":{\"standoff\":15},\"zerolinecolor\":\"#283442\",\"zerolinewidth\":2},\"yaxis\":{\"automargin\":true,\"gridcolor\":\"#283442\",\"linecolor\":\"#506784\",\"ticks\":\"\",\"title\":{\"standoff\":15},\"zerolinecolor\":\"#283442\",\"zerolinewidth\":2}}},\"xaxis\":{\"anchor\":\"y\",\"domain\":[0.0,1.0],\"title\":{\"text\":\"COUNTRY\"}},\"yaxis\":{\"anchor\":\"x\",\"domain\":[0.0,1.0],\"title\":{\"text\":\"POPULATION GROWTH\"}},\"legend\":{\"title\":{\"text\":\"color\"},\"tracegroupgap\":0},\"title\":{\"text\":\"GROWTH OF POPULATION FROM 1980 TO 2022\"},\"barmode\":\"relative\"},                        {\"responsive\": true}                    ).then(function(){\n",
       "                            \n",
       "var gd = document.getElementById('1a88d1a3-0339-40b5-92f3-b7fed93841ca');\n",
       "var x = new MutationObserver(function (mutations, observer) {{\n",
       "        var display = window.getComputedStyle(gd).display;\n",
       "        if (!display || display === 'none') {{\n",
       "            console.log([gd, 'removed!']);\n",
       "            Plotly.purge(gd);\n",
       "            observer.disconnect();\n",
       "        }}\n",
       "}});\n",
       "\n",
       "// Listen for the removal of the full notebook cells\n",
       "var notebookContainer = gd.closest('#notebook-container');\n",
       "if (notebookContainer) {{\n",
       "    x.observe(notebookContainer, {childList: true});\n",
       "}}\n",
       "\n",
       "// Listen for the clearing of the current output cell\n",
       "var outputEl = gd.closest('.output');\n",
       "if (outputEl) {{\n",
       "    x.observe(outputEl, {childList: true});\n",
       "}}\n",
       "\n",
       "                        })                };                });            </script>        </div>"
      ]
     },
     "metadata": {},
     "output_type": "display_data"
    }
   ],
   "source": [
    "fig=px.bar(x=GROWTH.index,\n",
    "       y=GROWTH.values,\n",
    "       color=GROWTH.index,\n",
    "       text=GROWTH.values,\n",
    "       title='GROWTH OF POPULATION FROM 1980 TO 2022',\n",
    "       template='plotly_dark')\n",
    "fig.update_layout(xaxis_title='COUNTRY',\n",
    "                 yaxis_title='POPULATION GROWTH')\n",
    "fig.show()"
   ]
  },
  {
   "cell_type": "markdown",
   "metadata": {},
   "source": [
    "### Check by continent who has the largest population "
   ]
  },
  {
   "cell_type": "code",
   "execution_count": 17,
   "metadata": {},
   "outputs": [
    {
     "data": {
      "text/html": [
       "<div>\n",
       "<style scoped>\n",
       "    .dataframe tbody tr th:only-of-type {\n",
       "        vertical-align: middle;\n",
       "    }\n",
       "\n",
       "    .dataframe tbody tr th {\n",
       "        vertical-align: top;\n",
       "    }\n",
       "\n",
       "    .dataframe thead th {\n",
       "        text-align: right;\n",
       "    }\n",
       "</style>\n",
       "<table border=\"1\" class=\"dataframe\">\n",
       "  <thead>\n",
       "    <tr style=\"text-align: right;\">\n",
       "      <th></th>\n",
       "      <th>Rank</th>\n",
       "      <th>2022 Population</th>\n",
       "      <th>2020 Population</th>\n",
       "      <th>2015 Population</th>\n",
       "      <th>2010 Population</th>\n",
       "      <th>2000 Population</th>\n",
       "      <th>1990 Population</th>\n",
       "      <th>1980 Population</th>\n",
       "      <th>1970 Population</th>\n",
       "      <th>Area (km²)</th>\n",
       "      <th>Growth Rate</th>\n",
       "      <th>World Population Percentage</th>\n",
       "      <th>Continents</th>\n",
       "    </tr>\n",
       "    <tr>\n",
       "      <th>Continent</th>\n",
       "      <th></th>\n",
       "      <th></th>\n",
       "      <th></th>\n",
       "      <th></th>\n",
       "      <th></th>\n",
       "      <th></th>\n",
       "      <th></th>\n",
       "      <th></th>\n",
       "      <th></th>\n",
       "      <th></th>\n",
       "      <th></th>\n",
       "      <th></th>\n",
       "      <th></th>\n",
       "    </tr>\n",
       "  </thead>\n",
       "  <tbody>\n",
       "    <tr>\n",
       "      <th>Africa</th>\n",
       "      <td>5253</td>\n",
       "      <td>1426730932</td>\n",
       "      <td>1360671810</td>\n",
       "      <td>1201102442</td>\n",
       "      <td>1055228072</td>\n",
       "      <td>818946032</td>\n",
       "      <td>638150629</td>\n",
       "      <td>481536377</td>\n",
       "      <td>365444348</td>\n",
       "      <td>30317963</td>\n",
       "      <td>58.2109</td>\n",
       "      <td>17.87</td>\n",
       "      <td>Africa</td>\n",
       "    </tr>\n",
       "    <tr>\n",
       "      <th>Asia</th>\n",
       "      <td>3878</td>\n",
       "      <td>4721383274</td>\n",
       "      <td>4663086535</td>\n",
       "      <td>4458250182</td>\n",
       "      <td>4220041327</td>\n",
       "      <td>3735089604</td>\n",
       "      <td>3210563577</td>\n",
       "      <td>2635334228</td>\n",
       "      <td>2144906290</td>\n",
       "      <td>32138141</td>\n",
       "      <td>50.4692</td>\n",
       "      <td>59.19</td>\n",
       "      <td>Asia</td>\n",
       "    </tr>\n",
       "    <tr>\n",
       "      <th>Europe</th>\n",
       "      <td>6225</td>\n",
       "      <td>743147538</td>\n",
       "      <td>745792196</td>\n",
       "      <td>741535608</td>\n",
       "      <td>735613934</td>\n",
       "      <td>726093423</td>\n",
       "      <td>720320797</td>\n",
       "      <td>692527159</td>\n",
       "      <td>655923991</td>\n",
       "      <td>23010411</td>\n",
       "      <td>50.1128</td>\n",
       "      <td>9.33</td>\n",
       "      <td>Europe</td>\n",
       "    </tr>\n",
       "    <tr>\n",
       "      <th>North America</th>\n",
       "      <td>6437</td>\n",
       "      <td>600296136</td>\n",
       "      <td>594236593</td>\n",
       "      <td>570383850</td>\n",
       "      <td>542720651</td>\n",
       "      <td>486069584</td>\n",
       "      <td>421266425</td>\n",
       "      <td>368293361</td>\n",
       "      <td>315434606</td>\n",
       "      <td>24244178</td>\n",
       "      <td>40.1670</td>\n",
       "      <td>7.51</td>\n",
       "      <td>North America</td>\n",
       "    </tr>\n",
       "    <tr>\n",
       "      <th>Oceania</th>\n",
       "      <td>4336</td>\n",
       "      <td>45038554</td>\n",
       "      <td>43933426</td>\n",
       "      <td>40403283</td>\n",
       "      <td>37102764</td>\n",
       "      <td>31222778</td>\n",
       "      <td>26743822</td>\n",
       "      <td>22920240</td>\n",
       "      <td>19480270</td>\n",
       "      <td>8515081</td>\n",
       "      <td>23.1698</td>\n",
       "      <td>0.55</td>\n",
       "      <td>Oceania</td>\n",
       "    </tr>\n",
       "    <tr>\n",
       "      <th>South America</th>\n",
       "      <td>1366</td>\n",
       "      <td>436816608</td>\n",
       "      <td>431530043</td>\n",
       "      <td>413134396</td>\n",
       "      <td>393078250</td>\n",
       "      <td>349634282</td>\n",
       "      <td>297146415</td>\n",
       "      <td>241789006</td>\n",
       "      <td>192947156</td>\n",
       "      <td>17833382</td>\n",
       "      <td>14.1114</td>\n",
       "      <td>5.48</td>\n",
       "      <td>South America</td>\n",
       "    </tr>\n",
       "  </tbody>\n",
       "</table>\n",
       "</div>"
      ],
      "text/plain": [
       "               Rank  2022 Population  2020 Population  2015 Population  \\\n",
       "Continent                                                                \n",
       "Africa         5253       1426730932       1360671810       1201102442   \n",
       "Asia           3878       4721383274       4663086535       4458250182   \n",
       "Europe         6225        743147538        745792196        741535608   \n",
       "North America  6437        600296136        594236593        570383850   \n",
       "Oceania        4336         45038554         43933426         40403283   \n",
       "South America  1366        436816608        431530043        413134396   \n",
       "\n",
       "               2010 Population  2000 Population  1990 Population  \\\n",
       "Continent                                                          \n",
       "Africa              1055228072        818946032        638150629   \n",
       "Asia                4220041327       3735089604       3210563577   \n",
       "Europe               735613934        726093423        720320797   \n",
       "North America        542720651        486069584        421266425   \n",
       "Oceania               37102764         31222778         26743822   \n",
       "South America        393078250        349634282        297146415   \n",
       "\n",
       "               1980 Population  1970 Population  Area (km²)  Growth Rate  \\\n",
       "Continent                                                                  \n",
       "Africa               481536377        365444348    30317963      58.2109   \n",
       "Asia                2635334228       2144906290    32138141      50.4692   \n",
       "Europe               692527159        655923991    23010411      50.1128   \n",
       "North America        368293361        315434606    24244178      40.1670   \n",
       "Oceania               22920240         19480270     8515081      23.1698   \n",
       "South America        241789006        192947156    17833382      14.1114   \n",
       "\n",
       "               World Population Percentage     Continents  \n",
       "Continent                                                  \n",
       "Africa                               17.87         Africa  \n",
       "Asia                                 59.19           Asia  \n",
       "Europe                                9.33         Europe  \n",
       "North America                         7.51  North America  \n",
       "Oceania                               0.55        Oceania  \n",
       "South America                         5.48  South America  "
      ]
     },
     "execution_count": 17,
     "metadata": {},
     "output_type": "execute_result"
    }
   ],
   "source": [
    "data = df.drop(columns = ['CCA3', 'Capital', 'Country','Density (per km²)'])\n",
    "continent = data.groupby('Continent').sum()\n",
    "continent.head(6)\n",
    "continent['Continents'] = continent.index\n",
    "\n",
    "\n",
    "continent.head(6)\n",
    "\n"
   ]
  },
  {
   "cell_type": "code",
   "execution_count": 128,
   "metadata": {},
   "outputs": [
    {
     "data": {
      "text/plain": [
       "<AxesSubplot:xlabel='Continents', ylabel='2022 Population'>"
      ]
     },
     "execution_count": 128,
     "metadata": {},
     "output_type": "execute_result"
    },
    {
     "data": {
      "image/png": "[encoded data removed]",
      "text/plain": [
       "<Figure size 432x288 with 1 Axes>"
      ]
     },
     "metadata": {},
     "output_type": "display_data"
    }
   ],
   "source": [
    "sns.set_theme(style=\"whitegrid\")\n",
    "sns.barplot(x=\"Continents\", y=\"2022 Population\", data=continent)\n"
   ]
  },
  {
   "cell_type": "markdown",
   "metadata": {},
   "source": [
    "### Asia has more population than all the continents combined by a significant margin. "
   ]
  },
  {
   "cell_type": "markdown",
   "metadata": {},
   "source": [
    "### Check the rate by continent the changes in population from 1970 to 2022"
   ]
  },
  {
   "cell_type": "code",
   "execution_count": 129,
   "metadata": {},
   "outputs": [
    {
     "data": {
      "text/plain": [
       "<AxesSubplot:xlabel='Continent'>"
      ]
     },
     "execution_count": 129,
     "metadata": {},
     "output_type": "execute_result"
    },
    {
     "data": {
      "image/png": "[encoded data removed]",
      "text/plain": [
       "<Figure size 432x288 with 1 Axes>"
      ]
     },
     "metadata": {},
     "output_type": "display_data"
    }
   ],
   "source": [
    "rate = continent[['1970 Population','2022 Population','Continents']] \n",
    "sns.lineplot(data=rate)"
   ]
  },
  {
   "cell_type": "code",
   "execution_count": 130,
   "metadata": {},
   "outputs": [
    {
     "data": {
      "text/html": [
       "<div>\n",
       "<style scoped>\n",
       "    .dataframe tbody tr th:only-of-type {\n",
       "        vertical-align: middle;\n",
       "    }\n",
       "\n",
       "    .dataframe tbody tr th {\n",
       "        vertical-align: top;\n",
       "    }\n",
       "\n",
       "    .dataframe thead th {\n",
       "        text-align: right;\n",
       "    }\n",
       "</style>\n",
       "<table border=\"1\" class=\"dataframe\">\n",
       "  <thead>\n",
       "    <tr style=\"text-align: right;\">\n",
       "      <th></th>\n",
       "      <th>Rank</th>\n",
       "      <th>CCA3</th>\n",
       "      <th>Country</th>\n",
       "      <th>Capital</th>\n",
       "      <th>Continent</th>\n",
       "      <th>2022 Population</th>\n",
       "      <th>2020 Population</th>\n",
       "      <th>2015 Population</th>\n",
       "      <th>2010 Population</th>\n",
       "      <th>2000 Population</th>\n",
       "      <th>1990 Population</th>\n",
       "      <th>1980 Population</th>\n",
       "      <th>1970 Population</th>\n",
       "      <th>Area (km²)</th>\n",
       "      <th>Density (per km²)</th>\n",
       "      <th>Growth Rate</th>\n",
       "      <th>World Population Percentage</th>\n",
       "    </tr>\n",
       "  </thead>\n",
       "  <tbody>\n",
       "    <tr>\n",
       "      <th>41</th>\n",
       "      <td>1</td>\n",
       "      <td>CHN</td>\n",
       "      <td>China</td>\n",
       "      <td>Beijing</td>\n",
       "      <td>Asia</td>\n",
       "      <td>1425887337</td>\n",
       "      <td>1424929781</td>\n",
       "      <td>1393715448</td>\n",
       "      <td>1348191368</td>\n",
       "      <td>1264099069</td>\n",
       "      <td>1153704252</td>\n",
       "      <td>982372466</td>\n",
       "      <td>822534450</td>\n",
       "      <td>9706961</td>\n",
       "      <td>146.8933</td>\n",
       "      <td>1.0000</td>\n",
       "      <td>17.88</td>\n",
       "    </tr>\n",
       "    <tr>\n",
       "      <th>92</th>\n",
       "      <td>2</td>\n",
       "      <td>IND</td>\n",
       "      <td>India</td>\n",
       "      <td>New Delhi</td>\n",
       "      <td>Asia</td>\n",
       "      <td>1417173173</td>\n",
       "      <td>1396387127</td>\n",
       "      <td>1322866505</td>\n",
       "      <td>1240613620</td>\n",
       "      <td>1059633675</td>\n",
       "      <td>870452165</td>\n",
       "      <td>696828385</td>\n",
       "      <td>557501301</td>\n",
       "      <td>3287590</td>\n",
       "      <td>431.0675</td>\n",
       "      <td>1.0068</td>\n",
       "      <td>17.77</td>\n",
       "    </tr>\n",
       "    <tr>\n",
       "      <th>221</th>\n",
       "      <td>3</td>\n",
       "      <td>USA</td>\n",
       "      <td>United States</td>\n",
       "      <td>Washington, D.C.</td>\n",
       "      <td>North America</td>\n",
       "      <td>338289857</td>\n",
       "      <td>335942003</td>\n",
       "      <td>324607776</td>\n",
       "      <td>311182845</td>\n",
       "      <td>282398554</td>\n",
       "      <td>248083732</td>\n",
       "      <td>223140018</td>\n",
       "      <td>200328340</td>\n",
       "      <td>9372610</td>\n",
       "      <td>36.0935</td>\n",
       "      <td>1.0038</td>\n",
       "      <td>4.24</td>\n",
       "    </tr>\n",
       "    <tr>\n",
       "      <th>93</th>\n",
       "      <td>4</td>\n",
       "      <td>IDN</td>\n",
       "      <td>Indonesia</td>\n",
       "      <td>Jakarta</td>\n",
       "      <td>Asia</td>\n",
       "      <td>275501339</td>\n",
       "      <td>271857970</td>\n",
       "      <td>259091970</td>\n",
       "      <td>244016173</td>\n",
       "      <td>214072421</td>\n",
       "      <td>182159874</td>\n",
       "      <td>148177096</td>\n",
       "      <td>115228394</td>\n",
       "      <td>1904569</td>\n",
       "      <td>144.6529</td>\n",
       "      <td>1.0064</td>\n",
       "      <td>3.45</td>\n",
       "    </tr>\n",
       "    <tr>\n",
       "      <th>156</th>\n",
       "      <td>5</td>\n",
       "      <td>PAK</td>\n",
       "      <td>Pakistan</td>\n",
       "      <td>Islamabad</td>\n",
       "      <td>Asia</td>\n",
       "      <td>235824862</td>\n",
       "      <td>227196741</td>\n",
       "      <td>210969298</td>\n",
       "      <td>194454498</td>\n",
       "      <td>154369924</td>\n",
       "      <td>115414069</td>\n",
       "      <td>80624057</td>\n",
       "      <td>59290872</td>\n",
       "      <td>881912</td>\n",
       "      <td>267.4018</td>\n",
       "      <td>1.0191</td>\n",
       "      <td>2.96</td>\n",
       "    </tr>\n",
       "    <tr>\n",
       "      <th>149</th>\n",
       "      <td>6</td>\n",
       "      <td>NGA</td>\n",
       "      <td>Nigeria</td>\n",
       "      <td>Abuja</td>\n",
       "      <td>Africa</td>\n",
       "      <td>218541212</td>\n",
       "      <td>208327405</td>\n",
       "      <td>183995785</td>\n",
       "      <td>160952853</td>\n",
       "      <td>122851984</td>\n",
       "      <td>95214257</td>\n",
       "      <td>72951439</td>\n",
       "      <td>55569264</td>\n",
       "      <td>923768</td>\n",
       "      <td>236.5759</td>\n",
       "      <td>1.0241</td>\n",
       "      <td>2.74</td>\n",
       "    </tr>\n",
       "    <tr>\n",
       "      <th>27</th>\n",
       "      <td>7</td>\n",
       "      <td>BRA</td>\n",
       "      <td>Brazil</td>\n",
       "      <td>Brasilia</td>\n",
       "      <td>South America</td>\n",
       "      <td>215313498</td>\n",
       "      <td>213196304</td>\n",
       "      <td>205188205</td>\n",
       "      <td>196353492</td>\n",
       "      <td>175873720</td>\n",
       "      <td>150706446</td>\n",
       "      <td>122288383</td>\n",
       "      <td>96369875</td>\n",
       "      <td>8515767</td>\n",
       "      <td>25.2841</td>\n",
       "      <td>1.0046</td>\n",
       "      <td>2.70</td>\n",
       "    </tr>\n",
       "    <tr>\n",
       "      <th>16</th>\n",
       "      <td>8</td>\n",
       "      <td>BGD</td>\n",
       "      <td>Bangladesh</td>\n",
       "      <td>Dhaka</td>\n",
       "      <td>Asia</td>\n",
       "      <td>171186372</td>\n",
       "      <td>167420951</td>\n",
       "      <td>157830000</td>\n",
       "      <td>148391139</td>\n",
       "      <td>129193327</td>\n",
       "      <td>107147651</td>\n",
       "      <td>83929765</td>\n",
       "      <td>67541860</td>\n",
       "      <td>147570</td>\n",
       "      <td>1160.0350</td>\n",
       "      <td>1.0108</td>\n",
       "      <td>2.15</td>\n",
       "    </tr>\n",
       "    <tr>\n",
       "      <th>171</th>\n",
       "      <td>9</td>\n",
       "      <td>RUS</td>\n",
       "      <td>Russia</td>\n",
       "      <td>Moscow</td>\n",
       "      <td>Europe</td>\n",
       "      <td>144713314</td>\n",
       "      <td>145617329</td>\n",
       "      <td>144668389</td>\n",
       "      <td>143242599</td>\n",
       "      <td>146844839</td>\n",
       "      <td>148005704</td>\n",
       "      <td>138257420</td>\n",
       "      <td>130093010</td>\n",
       "      <td>17098242</td>\n",
       "      <td>8.4636</td>\n",
       "      <td>0.9973</td>\n",
       "      <td>1.81</td>\n",
       "    </tr>\n",
       "    <tr>\n",
       "      <th>131</th>\n",
       "      <td>10</td>\n",
       "      <td>MEX</td>\n",
       "      <td>Mexico</td>\n",
       "      <td>Mexico City</td>\n",
       "      <td>North America</td>\n",
       "      <td>127504125</td>\n",
       "      <td>125998302</td>\n",
       "      <td>120149897</td>\n",
       "      <td>112532401</td>\n",
       "      <td>97873442</td>\n",
       "      <td>81720428</td>\n",
       "      <td>67705186</td>\n",
       "      <td>50289306</td>\n",
       "      <td>1964375</td>\n",
       "      <td>64.9082</td>\n",
       "      <td>1.0063</td>\n",
       "      <td>1.60</td>\n",
       "    </tr>\n",
       "    <tr>\n",
       "      <th>102</th>\n",
       "      <td>11</td>\n",
       "      <td>JPN</td>\n",
       "      <td>Japan</td>\n",
       "      <td>Tokyo</td>\n",
       "      <td>Asia</td>\n",
       "      <td>123951692</td>\n",
       "      <td>125244761</td>\n",
       "      <td>127250933</td>\n",
       "      <td>128105431</td>\n",
       "      <td>126803861</td>\n",
       "      <td>123686321</td>\n",
       "      <td>117624196</td>\n",
       "      <td>105416839</td>\n",
       "      <td>377930</td>\n",
       "      <td>327.9753</td>\n",
       "      <td>0.9947</td>\n",
       "      <td>1.55</td>\n",
       "    </tr>\n",
       "    <tr>\n",
       "      <th>63</th>\n",
       "      <td>12</td>\n",
       "      <td>ETH</td>\n",
       "      <td>Ethiopia</td>\n",
       "      <td>Addis Ababa</td>\n",
       "      <td>Africa</td>\n",
       "      <td>123379924</td>\n",
       "      <td>117190911</td>\n",
       "      <td>102471895</td>\n",
       "      <td>89237791</td>\n",
       "      <td>67031867</td>\n",
       "      <td>47878073</td>\n",
       "      <td>34945469</td>\n",
       "      <td>28308246</td>\n",
       "      <td>1104300</td>\n",
       "      <td>111.7268</td>\n",
       "      <td>1.0257</td>\n",
       "      <td>1.55</td>\n",
       "    </tr>\n",
       "    <tr>\n",
       "      <th>163</th>\n",
       "      <td>13</td>\n",
       "      <td>PHL</td>\n",
       "      <td>Philippines</td>\n",
       "      <td>Manila</td>\n",
       "      <td>Asia</td>\n",
       "      <td>115559009</td>\n",
       "      <td>112190977</td>\n",
       "      <td>103031365</td>\n",
       "      <td>94636700</td>\n",
       "      <td>77958223</td>\n",
       "      <td>61558898</td>\n",
       "      <td>48419546</td>\n",
       "      <td>37435586</td>\n",
       "      <td>342353</td>\n",
       "      <td>337.5434</td>\n",
       "      <td>1.0147</td>\n",
       "      <td>1.45</td>\n",
       "    </tr>\n",
       "    <tr>\n",
       "      <th>57</th>\n",
       "      <td>14</td>\n",
       "      <td>EGY</td>\n",
       "      <td>Egypt</td>\n",
       "      <td>Cairo</td>\n",
       "      <td>Africa</td>\n",
       "      <td>110990103</td>\n",
       "      <td>107465134</td>\n",
       "      <td>97723799</td>\n",
       "      <td>87252413</td>\n",
       "      <td>71371371</td>\n",
       "      <td>57214630</td>\n",
       "      <td>43748556</td>\n",
       "      <td>34781986</td>\n",
       "      <td>1002450</td>\n",
       "      <td>110.7188</td>\n",
       "      <td>1.0158</td>\n",
       "      <td>1.39</td>\n",
       "    </tr>\n",
       "    <tr>\n",
       "      <th>55</th>\n",
       "      <td>15</td>\n",
       "      <td>COD</td>\n",
       "      <td>DR Congo</td>\n",
       "      <td>Kinshasa</td>\n",
       "      <td>Africa</td>\n",
       "      <td>99010212</td>\n",
       "      <td>92853164</td>\n",
       "      <td>78656904</td>\n",
       "      <td>66391257</td>\n",
       "      <td>48616317</td>\n",
       "      <td>35987541</td>\n",
       "      <td>26708686</td>\n",
       "      <td>20151733</td>\n",
       "      <td>2344858</td>\n",
       "      <td>42.2244</td>\n",
       "      <td>1.0325</td>\n",
       "      <td>1.24</td>\n",
       "    </tr>\n",
       "    <tr>\n",
       "      <th>228</th>\n",
       "      <td>16</td>\n",
       "      <td>VNM</td>\n",
       "      <td>Vietnam</td>\n",
       "      <td>Hanoi</td>\n",
       "      <td>Asia</td>\n",
       "      <td>98186856</td>\n",
       "      <td>96648685</td>\n",
       "      <td>92191398</td>\n",
       "      <td>87411012</td>\n",
       "      <td>79001142</td>\n",
       "      <td>66912613</td>\n",
       "      <td>52968270</td>\n",
       "      <td>41928849</td>\n",
       "      <td>331212</td>\n",
       "      <td>296.4472</td>\n",
       "      <td>1.0074</td>\n",
       "      <td>1.23</td>\n",
       "    </tr>\n",
       "    <tr>\n",
       "      <th>94</th>\n",
       "      <td>17</td>\n",
       "      <td>IRN</td>\n",
       "      <td>Iran</td>\n",
       "      <td>Tehran</td>\n",
       "      <td>Asia</td>\n",
       "      <td>88550570</td>\n",
       "      <td>87290193</td>\n",
       "      <td>81790841</td>\n",
       "      <td>75373855</td>\n",
       "      <td>65544383</td>\n",
       "      <td>55793629</td>\n",
       "      <td>38520664</td>\n",
       "      <td>28449705</td>\n",
       "      <td>1648195</td>\n",
       "      <td>53.7258</td>\n",
       "      <td>1.0071</td>\n",
       "      <td>1.11</td>\n",
       "    </tr>\n",
       "    <tr>\n",
       "      <th>213</th>\n",
       "      <td>18</td>\n",
       "      <td>TUR</td>\n",
       "      <td>Turkey</td>\n",
       "      <td>Ankara</td>\n",
       "      <td>Asia</td>\n",
       "      <td>85341241</td>\n",
       "      <td>84135428</td>\n",
       "      <td>79646178</td>\n",
       "      <td>73195345</td>\n",
       "      <td>64113547</td>\n",
       "      <td>54324142</td>\n",
       "      <td>44089069</td>\n",
       "      <td>35540990</td>\n",
       "      <td>783562</td>\n",
       "      <td>108.9145</td>\n",
       "      <td>1.0067</td>\n",
       "      <td>1.07</td>\n",
       "    </tr>\n",
       "    <tr>\n",
       "      <th>74</th>\n",
       "      <td>19</td>\n",
       "      <td>DEU</td>\n",
       "      <td>Germany</td>\n",
       "      <td>Berlin</td>\n",
       "      <td>Europe</td>\n",
       "      <td>83369843</td>\n",
       "      <td>83328988</td>\n",
       "      <td>82073226</td>\n",
       "      <td>81325090</td>\n",
       "      <td>81551677</td>\n",
       "      <td>79370196</td>\n",
       "      <td>77786703</td>\n",
       "      <td>78294583</td>\n",
       "      <td>357114</td>\n",
       "      <td>233.4544</td>\n",
       "      <td>0.9995</td>\n",
       "      <td>1.05</td>\n",
       "    </tr>\n",
       "    <tr>\n",
       "      <th>206</th>\n",
       "      <td>20</td>\n",
       "      <td>THA</td>\n",
       "      <td>Thailand</td>\n",
       "      <td>Bangkok</td>\n",
       "      <td>Asia</td>\n",
       "      <td>71697030</td>\n",
       "      <td>71475664</td>\n",
       "      <td>70294397</td>\n",
       "      <td>68270489</td>\n",
       "      <td>63066603</td>\n",
       "      <td>55228410</td>\n",
       "      <td>45737753</td>\n",
       "      <td>35791728</td>\n",
       "      <td>513120</td>\n",
       "      <td>139.7276</td>\n",
       "      <td>1.0013</td>\n",
       "      <td>0.90</td>\n",
       "    </tr>\n",
       "    <tr>\n",
       "      <th>220</th>\n",
       "      <td>21</td>\n",
       "      <td>GBR</td>\n",
       "      <td>United Kingdom</td>\n",
       "      <td>London</td>\n",
       "      <td>Europe</td>\n",
       "      <td>67508936</td>\n",
       "      <td>67059474</td>\n",
       "      <td>65224364</td>\n",
       "      <td>62760039</td>\n",
       "      <td>58850043</td>\n",
       "      <td>57210442</td>\n",
       "      <td>56326328</td>\n",
       "      <td>55650166</td>\n",
       "      <td>242900</td>\n",
       "      <td>277.9289</td>\n",
       "      <td>1.0034</td>\n",
       "      <td>0.85</td>\n",
       "    </tr>\n",
       "    <tr>\n",
       "      <th>205</th>\n",
       "      <td>22</td>\n",
       "      <td>TZA</td>\n",
       "      <td>Tanzania</td>\n",
       "      <td>Dodoma</td>\n",
       "      <td>Africa</td>\n",
       "      <td>65497748</td>\n",
       "      <td>61704518</td>\n",
       "      <td>52542823</td>\n",
       "      <td>45110527</td>\n",
       "      <td>34463704</td>\n",
       "      <td>26206012</td>\n",
       "      <td>19297659</td>\n",
       "      <td>13618192</td>\n",
       "      <td>945087</td>\n",
       "      <td>69.3034</td>\n",
       "      <td>1.0300</td>\n",
       "      <td>0.82</td>\n",
       "    </tr>\n",
       "    <tr>\n",
       "      <th>68</th>\n",
       "      <td>23</td>\n",
       "      <td>FRA</td>\n",
       "      <td>France</td>\n",
       "      <td>Paris</td>\n",
       "      <td>Europe</td>\n",
       "      <td>64626628</td>\n",
       "      <td>64480053</td>\n",
       "      <td>63809769</td>\n",
       "      <td>62444567</td>\n",
       "      <td>58665453</td>\n",
       "      <td>56412897</td>\n",
       "      <td>53713830</td>\n",
       "      <td>50523586</td>\n",
       "      <td>551695</td>\n",
       "      <td>117.1419</td>\n",
       "      <td>1.0015</td>\n",
       "      <td>0.81</td>\n",
       "    </tr>\n",
       "    <tr>\n",
       "      <th>193</th>\n",
       "      <td>24</td>\n",
       "      <td>ZAF</td>\n",
       "      <td>South Africa</td>\n",
       "      <td>Pretoria</td>\n",
       "      <td>Africa</td>\n",
       "      <td>59893885</td>\n",
       "      <td>58801927</td>\n",
       "      <td>55876504</td>\n",
       "      <td>51784921</td>\n",
       "      <td>46813266</td>\n",
       "      <td>39877570</td>\n",
       "      <td>29463549</td>\n",
       "      <td>22368306</td>\n",
       "      <td>1221037</td>\n",
       "      <td>49.0517</td>\n",
       "      <td>1.0084</td>\n",
       "      <td>0.75</td>\n",
       "    </tr>\n",
       "    <tr>\n",
       "      <th>99</th>\n",
       "      <td>25</td>\n",
       "      <td>ITA</td>\n",
       "      <td>Italy</td>\n",
       "      <td>Rome</td>\n",
       "      <td>Europe</td>\n",
       "      <td>59037474</td>\n",
       "      <td>59500579</td>\n",
       "      <td>60232906</td>\n",
       "      <td>59822450</td>\n",
       "      <td>56966397</td>\n",
       "      <td>56756561</td>\n",
       "      <td>56329482</td>\n",
       "      <td>53324036</td>\n",
       "      <td>301336</td>\n",
       "      <td>195.9191</td>\n",
       "      <td>0.9966</td>\n",
       "      <td>0.74</td>\n",
       "    </tr>\n",
       "  </tbody>\n",
       "</table>\n",
       "</div>"
      ],
      "text/plain": [
       "     Rank CCA3         Country           Capital      Continent  \\\n",
       "41      1  CHN           China           Beijing           Asia   \n",
       "92      2  IND           India         New Delhi           Asia   \n",
       "221     3  USA   United States  Washington, D.C.  North America   \n",
       "93      4  IDN       Indonesia           Jakarta           Asia   \n",
       "156     5  PAK        Pakistan         Islamabad           Asia   \n",
       "149     6  NGA         Nigeria             Abuja         Africa   \n",
       "27      7  BRA          Brazil          Brasilia  South America   \n",
       "16      8  BGD      Bangladesh             Dhaka           Asia   \n",
       "171     9  RUS          Russia            Moscow         Europe   \n",
       "131    10  MEX          Mexico       Mexico City  North America   \n",
       "102    11  JPN           Japan             Tokyo           Asia   \n",
       "63     12  ETH        Ethiopia       Addis Ababa         Africa   \n",
       "163    13  PHL     Philippines            Manila           Asia   \n",
       "57     14  EGY           Egypt             Cairo         Africa   \n",
       "55     15  COD        DR Congo          Kinshasa         Africa   \n",
       "228    16  VNM         Vietnam             Hanoi           Asia   \n",
       "94     17  IRN            Iran            Tehran           Asia   \n",
       "213    18  TUR          Turkey            Ankara           Asia   \n",
       "74     19  DEU         Germany            Berlin         Europe   \n",
       "206    20  THA        Thailand           Bangkok           Asia   \n",
       "220    21  GBR  United Kingdom            London         Europe   \n",
       "205    22  TZA        Tanzania            Dodoma         Africa   \n",
       "68     23  FRA          France             Paris         Europe   \n",
       "193    24  ZAF    South Africa          Pretoria         Africa   \n",
       "99     25  ITA           Italy              Rome         Europe   \n",
       "\n",
       "     2022 Population  2020 Population  2015 Population  2010 Population  \\\n",
       "41        1425887337       1424929781       1393715448       1348191368   \n",
       "92        1417173173       1396387127       1322866505       1240613620   \n",
       "221        338289857        335942003        324607776        311182845   \n",
       "93         275501339        271857970        259091970        244016173   \n",
       "156        235824862        227196741        210969298        194454498   \n",
       "149        218541212        208327405        183995785        160952853   \n",
       "27         215313498        213196304        205188205        196353492   \n",
       "16         171186372        167420951        157830000        148391139   \n",
       "171        144713314        145617329        144668389        143242599   \n",
       "131        127504125        125998302        120149897        112532401   \n",
       "102        123951692        125244761        127250933        128105431   \n",
       "63         123379924        117190911        102471895         89237791   \n",
       "163        115559009        112190977        103031365         94636700   \n",
       "57         110990103        107465134         97723799         87252413   \n",
       "55          99010212         92853164         78656904         66391257   \n",
       "228         98186856         96648685         92191398         87411012   \n",
       "94          88550570         87290193         81790841         75373855   \n",
       "213         85341241         84135428         79646178         73195345   \n",
       "74          83369843         83328988         82073226         81325090   \n",
       "206         71697030         71475664         70294397         68270489   \n",
       "220         67508936         67059474         65224364         62760039   \n",
       "205         65497748         61704518         52542823         45110527   \n",
       "68          64626628         64480053         63809769         62444567   \n",
       "193         59893885         58801927         55876504         51784921   \n",
       "99          59037474         59500579         60232906         59822450   \n",
       "\n",
       "     2000 Population  1990 Population  1980 Population  1970 Population  \\\n",
       "41        1264099069       1153704252        982372466        822534450   \n",
       "92        1059633675        870452165        696828385        557501301   \n",
       "221        282398554        248083732        223140018        200328340   \n",
       "93         214072421        182159874        148177096        115228394   \n",
       "156        154369924        115414069         80624057         59290872   \n",
       "149        122851984         95214257         72951439         55569264   \n",
       "27         175873720        150706446        122288383         96369875   \n",
       "16         129193327        107147651         83929765         67541860   \n",
       "171        146844839        148005704        138257420        130093010   \n",
       "131         97873442         81720428         67705186         50289306   \n",
       "102        126803861        123686321        117624196        105416839   \n",
       "63          67031867         47878073         34945469         28308246   \n",
       "163         77958223         61558898         48419546         37435586   \n",
       "57          71371371         57214630         43748556         34781986   \n",
       "55          48616317         35987541         26708686         20151733   \n",
       "228         79001142         66912613         52968270         41928849   \n",
       "94          65544383         55793629         38520664         28449705   \n",
       "213         64113547         54324142         44089069         35540990   \n",
       "74          81551677         79370196         77786703         78294583   \n",
       "206         63066603         55228410         45737753         35791728   \n",
       "220         58850043         57210442         56326328         55650166   \n",
       "205         34463704         26206012         19297659         13618192   \n",
       "68          58665453         56412897         53713830         50523586   \n",
       "193         46813266         39877570         29463549         22368306   \n",
       "99          56966397         56756561         56329482         53324036   \n",
       "\n",
       "     Area (km²)  Density (per km²)  Growth Rate  World Population Percentage  \n",
       "41      9706961           146.8933       1.0000                        17.88  \n",
       "92      3287590           431.0675       1.0068                        17.77  \n",
       "221     9372610            36.0935       1.0038                         4.24  \n",
       "93      1904569           144.6529       1.0064                         3.45  \n",
       "156      881912           267.4018       1.0191                         2.96  \n",
       "149      923768           236.5759       1.0241                         2.74  \n",
       "27      8515767            25.2841       1.0046                         2.70  \n",
       "16       147570          1160.0350       1.0108                         2.15  \n",
       "171    17098242             8.4636       0.9973                         1.81  \n",
       "131     1964375            64.9082       1.0063                         1.60  \n",
       "102      377930           327.9753       0.9947                         1.55  \n",
       "63      1104300           111.7268       1.0257                         1.55  \n",
       "163      342353           337.5434       1.0147                         1.45  \n",
       "57      1002450           110.7188       1.0158                         1.39  \n",
       "55      2344858            42.2244       1.0325                         1.24  \n",
       "228      331212           296.4472       1.0074                         1.23  \n",
       "94      1648195            53.7258       1.0071                         1.11  \n",
       "213      783562           108.9145       1.0067                         1.07  \n",
       "74       357114           233.4544       0.9995                         1.05  \n",
       "206      513120           139.7276       1.0013                         0.90  \n",
       "220      242900           277.9289       1.0034                         0.85  \n",
       "205      945087            69.3034       1.0300                         0.82  \n",
       "68       551695           117.1419       1.0015                         0.81  \n",
       "193     1221037            49.0517       1.0084                         0.75  \n",
       "99       301336           195.9191       0.9966                         0.74  "
      ]
     },
     "execution_count": 130,
     "metadata": {},
     "output_type": "execute_result"
    }
   ],
   "source": [
    "#check if rank is right\n",
    "# sort by rank\n",
    "sorted = df.sort_values('Rank', ascending = True)\n",
    "sorted.head(25)"
   ]
  },
  {
   "cell_type": "markdown",
   "metadata": {},
   "source": [
    "### Check the top 25 largest countries by population"
   ]
  },
  {
   "cell_type": "code",
   "execution_count": 131,
   "metadata": {},
   "outputs": [
    {
     "data": {
      "text/plain": [
       "<AxesSubplot:title={'center':'World Top 25 Populated Countries Population'}, xlabel='Country', ylabel='Population (billion)'>"
      ]
     },
     "execution_count": 131,
     "metadata": {},
     "output_type": "execute_result"
    },
    {
     "data": {
      "image/png": "[encoded data removed]",
      "text/plain": [
       "<Figure size 720x432 with 1 Axes>"
      ]
     },
     "metadata": {},
     "output_type": "display_data"
    }
   ],
   "source": [
    "world_top_25 = df[[\"Rank\", \"Country\",\"Continent\", \"2022 Population\"]].sort_values(by=[\"Rank\"], ascending=True, ignore_index=True)\n",
    "\n",
    "world_top_25[[\"Country\",\"2022 Population\"]].head(25).plot.bar(x=\"Country\", ylabel=\"Population (billion)\", title=\"World Top 25 Populated Countries Population\", figsize=(10,6))"
   ]
  },
  {
   "cell_type": "code",
   "execution_count": 132,
   "metadata": {},
   "outputs": [
    {
     "data": {
      "text/plain": [
       "57.31466644118196"
      ]
     },
     "execution_count": 132,
     "metadata": {},
     "output_type": "execute_result"
    }
   ],
   "source": [
    "# How much % top 10 countries represent total world population\n",
    "total_w_pop = df[\"2022 Population\"].sum()\n",
    "total_top_rank_pop = world_top_10[\"2022 Population\"].head(10).sum()\n",
    "(total_top_rank_pop/total_w_pop)*100"
   ]
  },
  {
   "cell_type": "markdown",
   "metadata": {},
   "source": [
    "### Check the top 25 smallest countries by population"
   ]
  },
  {
   "cell_type": "code",
   "execution_count": 133,
   "metadata": {},
   "outputs": [
    {
     "data": {
      "text/html": [
       "<div>\n",
       "<style scoped>\n",
       "    .dataframe tbody tr th:only-of-type {\n",
       "        vertical-align: middle;\n",
       "    }\n",
       "\n",
       "    .dataframe tbody tr th {\n",
       "        vertical-align: top;\n",
       "    }\n",
       "\n",
       "    .dataframe thead th {\n",
       "        text-align: right;\n",
       "    }\n",
       "</style>\n",
       "<table border=\"1\" class=\"dataframe\">\n",
       "  <thead>\n",
       "    <tr style=\"text-align: right;\">\n",
       "      <th></th>\n",
       "      <th>Rank</th>\n",
       "      <th>CCA3</th>\n",
       "      <th>Country</th>\n",
       "      <th>Capital</th>\n",
       "      <th>Continent</th>\n",
       "      <th>2022 Population</th>\n",
       "      <th>2020 Population</th>\n",
       "      <th>2015 Population</th>\n",
       "      <th>2010 Population</th>\n",
       "      <th>2000 Population</th>\n",
       "      <th>1990 Population</th>\n",
       "      <th>1980 Population</th>\n",
       "      <th>1970 Population</th>\n",
       "      <th>Area (km²)</th>\n",
       "      <th>Density (per km²)</th>\n",
       "      <th>Growth Rate</th>\n",
       "      <th>World Population Percentage</th>\n",
       "    </tr>\n",
       "  </thead>\n",
       "  <tbody>\n",
       "    <tr>\n",
       "      <th>153</th>\n",
       "      <td>210</td>\n",
       "      <td>NFK</td>\n",
       "      <td>Northern Mariana Islands</td>\n",
       "      <td>Saipan</td>\n",
       "      <td>Oceania</td>\n",
       "      <td>49551</td>\n",
       "      <td>49587</td>\n",
       "      <td>51514</td>\n",
       "      <td>54087</td>\n",
       "      <td>80338</td>\n",
       "      <td>48002</td>\n",
       "      <td>17613</td>\n",
       "      <td>10143</td>\n",
       "      <td>464</td>\n",
       "      <td>106.7909</td>\n",
       "      <td>1.0014</td>\n",
       "      <td>0.0</td>\n",
       "    </tr>\n",
       "    <tr>\n",
       "      <th>174</th>\n",
       "      <td>211</td>\n",
       "      <td>KNA</td>\n",
       "      <td>Saint Kitts and Nevis</td>\n",
       "      <td>Basseterre</td>\n",
       "      <td>North America</td>\n",
       "      <td>47657</td>\n",
       "      <td>47642</td>\n",
       "      <td>47790</td>\n",
       "      <td>47403</td>\n",
       "      <td>45461</td>\n",
       "      <td>40636</td>\n",
       "      <td>43097</td>\n",
       "      <td>44968</td>\n",
       "      <td>261</td>\n",
       "      <td>182.5939</td>\n",
       "      <td>1.0011</td>\n",
       "      <td>0.0</td>\n",
       "    </tr>\n",
       "    <tr>\n",
       "      <th>215</th>\n",
       "      <td>212</td>\n",
       "      <td>TCA</td>\n",
       "      <td>Turks and Caicos Islands</td>\n",
       "      <td>Cockburn Town</td>\n",
       "      <td>North America</td>\n",
       "      <td>45703</td>\n",
       "      <td>44276</td>\n",
       "      <td>36538</td>\n",
       "      <td>29726</td>\n",
       "      <td>18744</td>\n",
       "      <td>11709</td>\n",
       "      <td>7598</td>\n",
       "      <td>5665</td>\n",
       "      <td>948</td>\n",
       "      <td>48.2099</td>\n",
       "      <td>1.0131</td>\n",
       "      <td>0.0</td>\n",
       "    </tr>\n",
       "    <tr>\n",
       "      <th>3</th>\n",
       "      <td>213</td>\n",
       "      <td>ASM</td>\n",
       "      <td>American Samoa</td>\n",
       "      <td>Pago Pago</td>\n",
       "      <td>Oceania</td>\n",
       "      <td>44273</td>\n",
       "      <td>46189</td>\n",
       "      <td>51368</td>\n",
       "      <td>54849</td>\n",
       "      <td>58230</td>\n",
       "      <td>47818</td>\n",
       "      <td>32886</td>\n",
       "      <td>27075</td>\n",
       "      <td>199</td>\n",
       "      <td>222.4774</td>\n",
       "      <td>0.9831</td>\n",
       "      <td>0.0</td>\n",
       "    </tr>\n",
       "    <tr>\n",
       "      <th>188</th>\n",
       "      <td>214</td>\n",
       "      <td>SXM</td>\n",
       "      <td>Sint Maarten</td>\n",
       "      <td>Philipsburg</td>\n",
       "      <td>North America</td>\n",
       "      <td>44175</td>\n",
       "      <td>43621</td>\n",
       "      <td>40205</td>\n",
       "      <td>33034</td>\n",
       "      <td>30489</td>\n",
       "      <td>27845</td>\n",
       "      <td>12243</td>\n",
       "      <td>6260</td>\n",
       "      <td>34</td>\n",
       "      <td>1299.2647</td>\n",
       "      <td>1.0030</td>\n",
       "      <td>0.0</td>\n",
       "    </tr>\n",
       "    <tr>\n",
       "      <th>126</th>\n",
       "      <td>215</td>\n",
       "      <td>MHL</td>\n",
       "      <td>Marshall Islands</td>\n",
       "      <td>Majuro</td>\n",
       "      <td>Oceania</td>\n",
       "      <td>41569</td>\n",
       "      <td>43413</td>\n",
       "      <td>49410</td>\n",
       "      <td>53416</td>\n",
       "      <td>54224</td>\n",
       "      <td>46047</td>\n",
       "      <td>31988</td>\n",
       "      <td>23969</td>\n",
       "      <td>181</td>\n",
       "      <td>229.6630</td>\n",
       "      <td>0.9886</td>\n",
       "      <td>0.0</td>\n",
       "    </tr>\n",
       "    <tr>\n",
       "      <th>116</th>\n",
       "      <td>216</td>\n",
       "      <td>LIE</td>\n",
       "      <td>Liechtenstein</td>\n",
       "      <td>Vaduz</td>\n",
       "      <td>Europe</td>\n",
       "      <td>39327</td>\n",
       "      <td>38756</td>\n",
       "      <td>37355</td>\n",
       "      <td>35926</td>\n",
       "      <td>33026</td>\n",
       "      <td>28765</td>\n",
       "      <td>25003</td>\n",
       "      <td>21089</td>\n",
       "      <td>160</td>\n",
       "      <td>245.7937</td>\n",
       "      <td>1.0074</td>\n",
       "      <td>0.0</td>\n",
       "    </tr>\n",
       "    <tr>\n",
       "      <th>134</th>\n",
       "      <td>217</td>\n",
       "      <td>MCO</td>\n",
       "      <td>Monaco</td>\n",
       "      <td>Monaco</td>\n",
       "      <td>Europe</td>\n",
       "      <td>36469</td>\n",
       "      <td>36922</td>\n",
       "      <td>36760</td>\n",
       "      <td>33178</td>\n",
       "      <td>32465</td>\n",
       "      <td>30329</td>\n",
       "      <td>27076</td>\n",
       "      <td>24270</td>\n",
       "      <td>2</td>\n",
       "      <td>18234.5000</td>\n",
       "      <td>0.9941</td>\n",
       "      <td>0.0</td>\n",
       "    </tr>\n",
       "    <tr>\n",
       "      <th>180</th>\n",
       "      <td>218</td>\n",
       "      <td>SMR</td>\n",
       "      <td>San Marino</td>\n",
       "      <td>San Marino</td>\n",
       "      <td>Europe</td>\n",
       "      <td>33660</td>\n",
       "      <td>34007</td>\n",
       "      <td>33570</td>\n",
       "      <td>31608</td>\n",
       "      <td>26823</td>\n",
       "      <td>23132</td>\n",
       "      <td>21346</td>\n",
       "      <td>18169</td>\n",
       "      <td>61</td>\n",
       "      <td>551.8033</td>\n",
       "      <td>0.9975</td>\n",
       "      <td>0.0</td>\n",
       "    </tr>\n",
       "    <tr>\n",
       "      <th>76</th>\n",
       "      <td>219</td>\n",
       "      <td>GIB</td>\n",
       "      <td>Gibraltar</td>\n",
       "      <td>Gibraltar</td>\n",
       "      <td>Europe</td>\n",
       "      <td>32649</td>\n",
       "      <td>32709</td>\n",
       "      <td>32520</td>\n",
       "      <td>31262</td>\n",
       "      <td>27741</td>\n",
       "      <td>27317</td>\n",
       "      <td>28734</td>\n",
       "      <td>26685</td>\n",
       "      <td>6</td>\n",
       "      <td>5441.5000</td>\n",
       "      <td>0.9994</td>\n",
       "      <td>0.0</td>\n",
       "    </tr>\n",
       "    <tr>\n",
       "      <th>176</th>\n",
       "      <td>220</td>\n",
       "      <td>MAF</td>\n",
       "      <td>Saint Martin</td>\n",
       "      <td>Marigot</td>\n",
       "      <td>North America</td>\n",
       "      <td>31791</td>\n",
       "      <td>32552</td>\n",
       "      <td>35020</td>\n",
       "      <td>36458</td>\n",
       "      <td>29610</td>\n",
       "      <td>28127</td>\n",
       "      <td>7776</td>\n",
       "      <td>5802</td>\n",
       "      <td>53</td>\n",
       "      <td>599.8302</td>\n",
       "      <td>0.9951</td>\n",
       "      <td>0.0</td>\n",
       "    </tr>\n",
       "    <tr>\n",
       "      <th>28</th>\n",
       "      <td>221</td>\n",
       "      <td>VGB</td>\n",
       "      <td>British Virgin Islands</td>\n",
       "      <td>Road Town</td>\n",
       "      <td>North America</td>\n",
       "      <td>31305</td>\n",
       "      <td>30910</td>\n",
       "      <td>29366</td>\n",
       "      <td>27556</td>\n",
       "      <td>20104</td>\n",
       "      <td>15617</td>\n",
       "      <td>11109</td>\n",
       "      <td>9581</td>\n",
       "      <td>151</td>\n",
       "      <td>207.3179</td>\n",
       "      <td>1.0059</td>\n",
       "      <td>0.0</td>\n",
       "    </tr>\n",
       "    <tr>\n",
       "      <th>157</th>\n",
       "      <td>222</td>\n",
       "      <td>PLW</td>\n",
       "      <td>Palau</td>\n",
       "      <td>Ngerulmud</td>\n",
       "      <td>Oceania</td>\n",
       "      <td>18055</td>\n",
       "      <td>17972</td>\n",
       "      <td>17794</td>\n",
       "      <td>18540</td>\n",
       "      <td>19726</td>\n",
       "      <td>15293</td>\n",
       "      <td>12252</td>\n",
       "      <td>11366</td>\n",
       "      <td>459</td>\n",
       "      <td>39.3355</td>\n",
       "      <td>1.0017</td>\n",
       "      <td>0.0</td>\n",
       "    </tr>\n",
       "    <tr>\n",
       "      <th>44</th>\n",
       "      <td>223</td>\n",
       "      <td>COK</td>\n",
       "      <td>Cook Islands</td>\n",
       "      <td>Avarua</td>\n",
       "      <td>Oceania</td>\n",
       "      <td>17011</td>\n",
       "      <td>17029</td>\n",
       "      <td>17695</td>\n",
       "      <td>17212</td>\n",
       "      <td>15897</td>\n",
       "      <td>17123</td>\n",
       "      <td>17651</td>\n",
       "      <td>20470</td>\n",
       "      <td>236</td>\n",
       "      <td>72.0805</td>\n",
       "      <td>1.0005</td>\n",
       "      <td>0.0</td>\n",
       "    </tr>\n",
       "    <tr>\n",
       "      <th>6</th>\n",
       "      <td>224</td>\n",
       "      <td>AIA</td>\n",
       "      <td>Anguilla</td>\n",
       "      <td>The Valley</td>\n",
       "      <td>North America</td>\n",
       "      <td>15857</td>\n",
       "      <td>15585</td>\n",
       "      <td>14525</td>\n",
       "      <td>13172</td>\n",
       "      <td>11047</td>\n",
       "      <td>8316</td>\n",
       "      <td>6560</td>\n",
       "      <td>6283</td>\n",
       "      <td>91</td>\n",
       "      <td>174.2527</td>\n",
       "      <td>1.0066</td>\n",
       "      <td>0.0</td>\n",
       "    </tr>\n",
       "    <tr>\n",
       "      <th>142</th>\n",
       "      <td>225</td>\n",
       "      <td>NRU</td>\n",
       "      <td>Nauru</td>\n",
       "      <td>Yaren</td>\n",
       "      <td>Oceania</td>\n",
       "      <td>12668</td>\n",
       "      <td>12315</td>\n",
       "      <td>11185</td>\n",
       "      <td>10241</td>\n",
       "      <td>10377</td>\n",
       "      <td>9598</td>\n",
       "      <td>7635</td>\n",
       "      <td>6663</td>\n",
       "      <td>21</td>\n",
       "      <td>603.2381</td>\n",
       "      <td>1.0125</td>\n",
       "      <td>0.0</td>\n",
       "    </tr>\n",
       "    <tr>\n",
       "      <th>229</th>\n",
       "      <td>226</td>\n",
       "      <td>WLF</td>\n",
       "      <td>Wallis and Futuna</td>\n",
       "      <td>Mata-Utu</td>\n",
       "      <td>Oceania</td>\n",
       "      <td>11572</td>\n",
       "      <td>11655</td>\n",
       "      <td>12182</td>\n",
       "      <td>13142</td>\n",
       "      <td>14723</td>\n",
       "      <td>13454</td>\n",
       "      <td>11315</td>\n",
       "      <td>9377</td>\n",
       "      <td>142</td>\n",
       "      <td>81.4930</td>\n",
       "      <td>0.9953</td>\n",
       "      <td>0.0</td>\n",
       "    </tr>\n",
       "    <tr>\n",
       "      <th>216</th>\n",
       "      <td>227</td>\n",
       "      <td>TUV</td>\n",
       "      <td>Tuvalu</td>\n",
       "      <td>Funafuti</td>\n",
       "      <td>Oceania</td>\n",
       "      <td>11312</td>\n",
       "      <td>11069</td>\n",
       "      <td>10877</td>\n",
       "      <td>10550</td>\n",
       "      <td>9638</td>\n",
       "      <td>9182</td>\n",
       "      <td>7731</td>\n",
       "      <td>5814</td>\n",
       "      <td>26</td>\n",
       "      <td>435.0769</td>\n",
       "      <td>1.0096</td>\n",
       "      <td>0.0</td>\n",
       "    </tr>\n",
       "    <tr>\n",
       "      <th>173</th>\n",
       "      <td>228</td>\n",
       "      <td>BLM</td>\n",
       "      <td>Saint Barthelemy</td>\n",
       "      <td>Gustavia</td>\n",
       "      <td>North America</td>\n",
       "      <td>10967</td>\n",
       "      <td>10681</td>\n",
       "      <td>9643</td>\n",
       "      <td>8988</td>\n",
       "      <td>7082</td>\n",
       "      <td>5168</td>\n",
       "      <td>2983</td>\n",
       "      <td>2417</td>\n",
       "      <td>21</td>\n",
       "      <td>522.2381</td>\n",
       "      <td>1.0098</td>\n",
       "      <td>0.0</td>\n",
       "    </tr>\n",
       "    <tr>\n",
       "      <th>177</th>\n",
       "      <td>229</td>\n",
       "      <td>SPM</td>\n",
       "      <td>Saint Pierre and Miquelon</td>\n",
       "      <td>Saint-Pierre</td>\n",
       "      <td>North America</td>\n",
       "      <td>5862</td>\n",
       "      <td>5906</td>\n",
       "      <td>5978</td>\n",
       "      <td>6052</td>\n",
       "      <td>6274</td>\n",
       "      <td>6324</td>\n",
       "      <td>6106</td>\n",
       "      <td>5537</td>\n",
       "      <td>242</td>\n",
       "      <td>24.2231</td>\n",
       "      <td>0.9964</td>\n",
       "      <td>0.0</td>\n",
       "    </tr>\n",
       "    <tr>\n",
       "      <th>137</th>\n",
       "      <td>230</td>\n",
       "      <td>MSR</td>\n",
       "      <td>Montserrat</td>\n",
       "      <td>Brades</td>\n",
       "      <td>North America</td>\n",
       "      <td>4390</td>\n",
       "      <td>4500</td>\n",
       "      <td>5059</td>\n",
       "      <td>4938</td>\n",
       "      <td>5138</td>\n",
       "      <td>10805</td>\n",
       "      <td>11452</td>\n",
       "      <td>11402</td>\n",
       "      <td>102</td>\n",
       "      <td>43.0392</td>\n",
       "      <td>0.9939</td>\n",
       "      <td>0.0</td>\n",
       "    </tr>\n",
       "    <tr>\n",
       "      <th>64</th>\n",
       "      <td>231</td>\n",
       "      <td>FLK</td>\n",
       "      <td>Falkland Islands</td>\n",
       "      <td>Stanley</td>\n",
       "      <td>South America</td>\n",
       "      <td>3780</td>\n",
       "      <td>3747</td>\n",
       "      <td>3408</td>\n",
       "      <td>3187</td>\n",
       "      <td>3080</td>\n",
       "      <td>2332</td>\n",
       "      <td>2240</td>\n",
       "      <td>2274</td>\n",
       "      <td>12173</td>\n",
       "      <td>0.3105</td>\n",
       "      <td>1.0043</td>\n",
       "      <td>0.0</td>\n",
       "    </tr>\n",
       "    <tr>\n",
       "      <th>150</th>\n",
       "      <td>232</td>\n",
       "      <td>NIU</td>\n",
       "      <td>Niue</td>\n",
       "      <td>Alofi</td>\n",
       "      <td>Oceania</td>\n",
       "      <td>1934</td>\n",
       "      <td>1942</td>\n",
       "      <td>1847</td>\n",
       "      <td>1812</td>\n",
       "      <td>2074</td>\n",
       "      <td>2533</td>\n",
       "      <td>3637</td>\n",
       "      <td>5185</td>\n",
       "      <td>260</td>\n",
       "      <td>7.4385</td>\n",
       "      <td>0.9985</td>\n",
       "      <td>0.0</td>\n",
       "    </tr>\n",
       "    <tr>\n",
       "      <th>209</th>\n",
       "      <td>233</td>\n",
       "      <td>TKL</td>\n",
       "      <td>Tokelau</td>\n",
       "      <td>Nukunonu</td>\n",
       "      <td>Oceania</td>\n",
       "      <td>1871</td>\n",
       "      <td>1827</td>\n",
       "      <td>1454</td>\n",
       "      <td>1367</td>\n",
       "      <td>1666</td>\n",
       "      <td>1669</td>\n",
       "      <td>1647</td>\n",
       "      <td>1714</td>\n",
       "      <td>12</td>\n",
       "      <td>155.9167</td>\n",
       "      <td>1.0119</td>\n",
       "      <td>0.0</td>\n",
       "    </tr>\n",
       "    <tr>\n",
       "      <th>226</th>\n",
       "      <td>234</td>\n",
       "      <td>VAT</td>\n",
       "      <td>Vatican City</td>\n",
       "      <td>Vatican City</td>\n",
       "      <td>Europe</td>\n",
       "      <td>510</td>\n",
       "      <td>520</td>\n",
       "      <td>564</td>\n",
       "      <td>596</td>\n",
       "      <td>651</td>\n",
       "      <td>700</td>\n",
       "      <td>733</td>\n",
       "      <td>752</td>\n",
       "      <td>1</td>\n",
       "      <td>510.0000</td>\n",
       "      <td>0.9980</td>\n",
       "      <td>0.0</td>\n",
       "    </tr>\n",
       "  </tbody>\n",
       "</table>\n",
       "</div>"
      ],
      "text/plain": [
       "     Rank CCA3                    Country        Capital      Continent  \\\n",
       "153   210  NFK   Northern Mariana Islands         Saipan        Oceania   \n",
       "174   211  KNA      Saint Kitts and Nevis     Basseterre  North America   \n",
       "215   212  TCA   Turks and Caicos Islands  Cockburn Town  North America   \n",
       "3     213  ASM             American Samoa      Pago Pago        Oceania   \n",
       "188   214  SXM               Sint Maarten    Philipsburg  North America   \n",
       "126   215  MHL           Marshall Islands         Majuro        Oceania   \n",
       "116   216  LIE              Liechtenstein          Vaduz         Europe   \n",
       "134   217  MCO                     Monaco         Monaco         Europe   \n",
       "180   218  SMR                 San Marino     San Marino         Europe   \n",
       "76    219  GIB                  Gibraltar      Gibraltar         Europe   \n",
       "176   220  MAF               Saint Martin        Marigot  North America   \n",
       "28    221  VGB     British Virgin Islands      Road Town  North America   \n",
       "157   222  PLW                      Palau      Ngerulmud        Oceania   \n",
       "44    223  COK               Cook Islands         Avarua        Oceania   \n",
       "6     224  AIA                   Anguilla     The Valley  North America   \n",
       "142   225  NRU                      Nauru          Yaren        Oceania   \n",
       "229   226  WLF          Wallis and Futuna       Mata-Utu        Oceania   \n",
       "216   227  TUV                     Tuvalu       Funafuti        Oceania   \n",
       "173   228  BLM           Saint Barthelemy       Gustavia  North America   \n",
       "177   229  SPM  Saint Pierre and Miquelon   Saint-Pierre  North America   \n",
       "137   230  MSR                 Montserrat         Brades  North America   \n",
       "64    231  FLK           Falkland Islands        Stanley  South America   \n",
       "150   232  NIU                       Niue          Alofi        Oceania   \n",
       "209   233  TKL                    Tokelau       Nukunonu        Oceania   \n",
       "226   234  VAT               Vatican City   Vatican City         Europe   \n",
       "\n",
       "     2022 Population  2020 Population  2015 Population  2010 Population  \\\n",
       "153            49551            49587            51514            54087   \n",
       "174            47657            47642            47790            47403   \n",
       "215            45703            44276            36538            29726   \n",
       "3              44273            46189            51368            54849   \n",
       "188            44175            43621            40205            33034   \n",
       "126            41569            43413            49410            53416   \n",
       "116            39327            38756            37355            35926   \n",
       "134            36469            36922            36760            33178   \n",
       "180            33660            34007            33570            31608   \n",
       "76             32649            32709            32520            31262   \n",
       "176            31791            32552            35020            36458   \n",
       "28             31305            30910            29366            27556   \n",
       "157            18055            17972            17794            18540   \n",
       "44             17011            17029            17695            17212   \n",
       "6              15857            15585            14525            13172   \n",
       "142            12668            12315            11185            10241   \n",
       "229            11572            11655            12182            13142   \n",
       "216            11312            11069            10877            10550   \n",
       "173            10967            10681             9643             8988   \n",
       "177             5862             5906             5978             6052   \n",
       "137             4390             4500             5059             4938   \n",
       "64              3780             3747             3408             3187   \n",
       "150             1934             1942             1847             1812   \n",
       "209             1871             1827             1454             1367   \n",
       "226              510              520              564              596   \n",
       "\n",
       "     2000 Population  1990 Population  1980 Population  1970 Population  \\\n",
       "153            80338            48002            17613            10143   \n",
       "174            45461            40636            43097            44968   \n",
       "215            18744            11709             7598             5665   \n",
       "3              58230            47818            32886            27075   \n",
       "188            30489            27845            12243             6260   \n",
       "126            54224            46047            31988            23969   \n",
       "116            33026            28765            25003            21089   \n",
       "134            32465            30329            27076            24270   \n",
       "180            26823            23132            21346            18169   \n",
       "76             27741            27317            28734            26685   \n",
       "176            29610            28127             7776             5802   \n",
       "28             20104            15617            11109             9581   \n",
       "157            19726            15293            12252            11366   \n",
       "44             15897            17123            17651            20470   \n",
       "6              11047             8316             6560             6283   \n",
       "142            10377             9598             7635             6663   \n",
       "229            14723            13454            11315             9377   \n",
       "216             9638             9182             7731             5814   \n",
       "173             7082             5168             2983             2417   \n",
       "177             6274             6324             6106             5537   \n",
       "137             5138            10805            11452            11402   \n",
       "64              3080             2332             2240             2274   \n",
       "150             2074             2533             3637             5185   \n",
       "209             1666             1669             1647             1714   \n",
       "226              651              700              733              752   \n",
       "\n",
       "     Area (km²)  Density (per km²)  Growth Rate  World Population Percentage  \n",
       "153         464           106.7909       1.0014                          0.0  \n",
       "174         261           182.5939       1.0011                          0.0  \n",
       "215         948            48.2099       1.0131                          0.0  \n",
       "3           199           222.4774       0.9831                          0.0  \n",
       "188          34          1299.2647       1.0030                          0.0  \n",
       "126         181           229.6630       0.9886                          0.0  \n",
       "116         160           245.7937       1.0074                          0.0  \n",
       "134           2         18234.5000       0.9941                          0.0  \n",
       "180          61           551.8033       0.9975                          0.0  \n",
       "76            6          5441.5000       0.9994                          0.0  \n",
       "176          53           599.8302       0.9951                          0.0  \n",
       "28          151           207.3179       1.0059                          0.0  \n",
       "157         459            39.3355       1.0017                          0.0  \n",
       "44          236            72.0805       1.0005                          0.0  \n",
       "6            91           174.2527       1.0066                          0.0  \n",
       "142          21           603.2381       1.0125                          0.0  \n",
       "229         142            81.4930       0.9953                          0.0  \n",
       "216          26           435.0769       1.0096                          0.0  \n",
       "173          21           522.2381       1.0098                          0.0  \n",
       "177         242            24.2231       0.9964                          0.0  \n",
       "137         102            43.0392       0.9939                          0.0  \n",
       "64        12173             0.3105       1.0043                          0.0  \n",
       "150         260             7.4385       0.9985                          0.0  \n",
       "209          12           155.9167       1.0119                          0.0  \n",
       "226           1           510.0000       0.9980                          0.0  "
      ]
     },
     "execution_count": 133,
     "metadata": {},
     "output_type": "execute_result"
    }
   ],
   "source": [
    "#check if rank is right\n",
    "# sort by rank\n",
    "sorted = df.sort_values('Rank', ascending = True)\n",
    "sorted.tail(25)"
   ]
  },
  {
   "cell_type": "code",
   "execution_count": 134,
   "metadata": {},
   "outputs": [
    {
     "data": {
      "text/plain": [
       "<AxesSubplot:title={'center':' World 25 Least Populated Countries'}, xlabel='Country', ylabel='Population'>"
      ]
     },
     "execution_count": 134,
     "metadata": {},
     "output_type": "execute_result"
    },
    {
     "data": {
      "image/png": "[encoded data removed]",
      "text/plain": [
       "<Figure size 576x432 with 1 Axes>"
      ]
     },
     "metadata": {},
     "output_type": "display_data"
    }
   ],
   "source": [
    "#World the most least populated countries\n",
    "world_top_10[[\"Country\",\"2022 Population\"]].tail(25).plot.bar(x= \"Country\", title=\" World 25 Least Populated Countries\", ylabel=\"Population\", figsize=(8,6))"
   ]
  },
  {
   "cell_type": "code",
   "execution_count": 135,
   "metadata": {},
   "outputs": [
    {
     "data": {
      "text/plain": [
       "0.0008135286565278628"
      ]
     },
     "execution_count": 135,
     "metadata": {},
     "output_type": "execute_result"
    }
   ],
   "source": [
    "# How much % top 10 countries represent total world population\n",
    "total_w_pop = df[\"2022 Population\"].sum()\n",
    "total_top_rank_pop = world_top_10[\"2022 Population\"].tail(10).sum()\n",
    "(total_top_rank_pop/total_w_pop)*100"
   ]
  },
  {
   "cell_type": "markdown",
   "metadata": {},
   "source": [
    "#### From each graph I believe each is self explanatory but we can see a huge rise in population growth from Asia, along with China having the largest growth rate in terms of population density and sheer number of humans being made. What I did find interesting is that the smallest \"Country\" Vatican City, that it was considered a country in the first place. What is also interesting is that there was a significant drop in population there from 1970 to 2022 by about 32%. Likewise Places like India had a growth increase from 1970 to 2022 of 154%, nearly doubling in size and population. "
   ]
  },
  {
   "cell_type": "markdown",
   "metadata": {},
   "source": []
  }
 ],
 "metadata": {
  "kernelspec": {
   "display_name": "Python 3.9.12 ('base')",
   "language": "python",
   "name": "python3"
  },
  "language_info": {
   "codemirror_mode": {
    "name": "ipython",
    "version": 3
   },
   "file_extension": ".py",
   "mimetype": "text/x-python",
   "name": "python",
   "nbconvert_exporter": "python",
   "pygments_lexer": "ipython3",
   "version": "3.9.12"
  },
  "orig_nbformat": 4,
  "vscode": {
   "interpreter": {
    "hash": "d30727e1a078f289a01c1d53c38d31a102f3684ea672a5ba370ee05d383ea42a"
   }
  }
 },
 "nbformat": 4,
 "nbformat_minor": 2
}
