{
 "cells": [
  {
   "cell_type": "markdown",
   "metadata": {},
   "source": [
    "# Week 6.2 Assignment\n",
    "- Joshua Burden\n",
    "- Bellevue University\n",
    "- DSC550 Data Mining\n",
    "- Dr. Brett Werner\n",
    "- 10/09/2022"
   ]
  },
  {
   "cell_type": "markdown",
   "metadata": {},
   "source": [
    "## Begin Milestone 1 with a 250-500-word narrative describing your original idea for the analysis/model building business problem.\n",
    "## Clearly identify the problem you will address and the target for your model.\n",
    "\n"
   ]
  },
  {
   "cell_type": "markdown",
   "metadata": {},
   "source": [
    "#### Background: \n",
    "During the pandemic an increase in the need for health care professionals was required. The dataset collected is a modified synthetic dataset from IBM's Watson to show a useful insight into the attrition rate for healthcare workers.\n"
   ]
  },
  {
   "cell_type": "markdown",
   "metadata": {},
   "source": [
    "#### Problem: \n",
    "The data set includes information about the attrition rate for employees within the healthcare field. The meaning of employee attrition is the departure of employees from the organization for any reason whether that be voluntary or involuntary, including resignation, termination, death, or retirement. Companies to avoid attrition rates being too high is to replace those who are either leaving voluntarily or involuntary. The data set should provide insights into whether a company in the healthcare field was replacing their employees that were leaving the field, or if they continued to have a gradual but deliberate reduction in staff for any reason. \n"
   ]
  },
  {
   "cell_type": "markdown",
   "metadata": {},
   "source": [
    "#### Original Idea: \n",
    "The idea behind this data set is to discover whether certain roles within the healthcare industry, hours worked, age of an employee, or any other qualifying data points stand out as to why the healthcare industry had any determining factor on whether a person was to leave their field, while also predicting whether the employee was eventually replaced.\n"
   ]
  },
  {
   "cell_type": "markdown",
   "metadata": {},
   "source": [
    "#### Dataset: \n",
    "This dataset contains employee and company data useful for supervised ML, unsupervised ML, and analytics. Attrition - whether an employee left or not - is included and can be used as the target variable.\n",
    "The data is synthetic and based on the IBM Watson dataset for attrition. Employee roles and departments were changed to reflect the healthcare domain. Also, known outcomes for some employees were changed to help increase the performance of ML models\n",
    "\n"
   ]
  },
  {
   "cell_type": "markdown",
   "metadata": {},
   "source": [
    "\n",
    "#### Then, do a graphical analysis creating a minimum of four graphs.\n",
    "#### Label your graphs appropriately and explain/analyze the information provided by each graph.\n"
   ]
  },
  {
   "cell_type": "code",
   "execution_count": 17,
   "metadata": {},
   "outputs": [],
   "source": [
    "import pandas as pd\n",
    "import seaborn as sns\n",
    "from matplotlib import pyplot as plt\n",
    "import numpy as np\n",
    "import plotly.express as px"
   ]
  },
  {
   "cell_type": "code",
   "execution_count": 2,
   "metadata": {},
   "outputs": [
    {
     "data": {
      "text/html": [
       "<div>\n",
       "<style scoped>\n",
       "    .dataframe tbody tr th:only-of-type {\n",
       "        vertical-align: middle;\n",
       "    }\n",
       "\n",
       "    .dataframe tbody tr th {\n",
       "        vertical-align: top;\n",
       "    }\n",
       "\n",
       "    .dataframe thead th {\n",
       "        text-align: right;\n",
       "    }\n",
       "</style>\n",
       "<table border=\"1\" class=\"dataframe\">\n",
       "  <thead>\n",
       "    <tr style=\"text-align: right;\">\n",
       "      <th></th>\n",
       "      <th>EmployeeID</th>\n",
       "      <th>Age</th>\n",
       "      <th>Attrition</th>\n",
       "      <th>BusinessTravel</th>\n",
       "      <th>DailyRate</th>\n",
       "      <th>Department</th>\n",
       "      <th>DistanceFromHome</th>\n",
       "      <th>Education</th>\n",
       "      <th>EducationField</th>\n",
       "      <th>EmployeeCount</th>\n",
       "      <th>...</th>\n",
       "      <th>RelationshipSatisfaction</th>\n",
       "      <th>StandardHours</th>\n",
       "      <th>Shift</th>\n",
       "      <th>TotalWorkingYears</th>\n",
       "      <th>TrainingTimesLastYear</th>\n",
       "      <th>WorkLifeBalance</th>\n",
       "      <th>YearsAtCompany</th>\n",
       "      <th>YearsInCurrentRole</th>\n",
       "      <th>YearsSinceLastPromotion</th>\n",
       "      <th>YearsWithCurrManager</th>\n",
       "    </tr>\n",
       "  </thead>\n",
       "  <tbody>\n",
       "    <tr>\n",
       "      <th>0</th>\n",
       "      <td>1313919</td>\n",
       "      <td>41</td>\n",
       "      <td>No</td>\n",
       "      <td>Travel_Rarely</td>\n",
       "      <td>1102</td>\n",
       "      <td>Cardiology</td>\n",
       "      <td>1</td>\n",
       "      <td>2</td>\n",
       "      <td>Life Sciences</td>\n",
       "      <td>1</td>\n",
       "      <td>...</td>\n",
       "      <td>1</td>\n",
       "      <td>80</td>\n",
       "      <td>0</td>\n",
       "      <td>8</td>\n",
       "      <td>0</td>\n",
       "      <td>1</td>\n",
       "      <td>6</td>\n",
       "      <td>4</td>\n",
       "      <td>0</td>\n",
       "      <td>5</td>\n",
       "    </tr>\n",
       "    <tr>\n",
       "      <th>1</th>\n",
       "      <td>1200302</td>\n",
       "      <td>49</td>\n",
       "      <td>No</td>\n",
       "      <td>Travel_Frequently</td>\n",
       "      <td>279</td>\n",
       "      <td>Maternity</td>\n",
       "      <td>8</td>\n",
       "      <td>1</td>\n",
       "      <td>Life Sciences</td>\n",
       "      <td>1</td>\n",
       "      <td>...</td>\n",
       "      <td>4</td>\n",
       "      <td>80</td>\n",
       "      <td>1</td>\n",
       "      <td>10</td>\n",
       "      <td>3</td>\n",
       "      <td>3</td>\n",
       "      <td>10</td>\n",
       "      <td>7</td>\n",
       "      <td>1</td>\n",
       "      <td>7</td>\n",
       "    </tr>\n",
       "    <tr>\n",
       "      <th>2</th>\n",
       "      <td>1060315</td>\n",
       "      <td>37</td>\n",
       "      <td>Yes</td>\n",
       "      <td>Travel_Rarely</td>\n",
       "      <td>1373</td>\n",
       "      <td>Maternity</td>\n",
       "      <td>2</td>\n",
       "      <td>2</td>\n",
       "      <td>Other</td>\n",
       "      <td>1</td>\n",
       "      <td>...</td>\n",
       "      <td>2</td>\n",
       "      <td>80</td>\n",
       "      <td>0</td>\n",
       "      <td>7</td>\n",
       "      <td>3</td>\n",
       "      <td>3</td>\n",
       "      <td>0</td>\n",
       "      <td>0</td>\n",
       "      <td>0</td>\n",
       "      <td>0</td>\n",
       "    </tr>\n",
       "    <tr>\n",
       "      <th>3</th>\n",
       "      <td>1272912</td>\n",
       "      <td>33</td>\n",
       "      <td>No</td>\n",
       "      <td>Travel_Frequently</td>\n",
       "      <td>1392</td>\n",
       "      <td>Maternity</td>\n",
       "      <td>3</td>\n",
       "      <td>4</td>\n",
       "      <td>Life Sciences</td>\n",
       "      <td>1</td>\n",
       "      <td>...</td>\n",
       "      <td>3</td>\n",
       "      <td>80</td>\n",
       "      <td>0</td>\n",
       "      <td>8</td>\n",
       "      <td>3</td>\n",
       "      <td>3</td>\n",
       "      <td>8</td>\n",
       "      <td>7</td>\n",
       "      <td>3</td>\n",
       "      <td>0</td>\n",
       "    </tr>\n",
       "    <tr>\n",
       "      <th>4</th>\n",
       "      <td>1414939</td>\n",
       "      <td>27</td>\n",
       "      <td>No</td>\n",
       "      <td>Travel_Rarely</td>\n",
       "      <td>591</td>\n",
       "      <td>Maternity</td>\n",
       "      <td>2</td>\n",
       "      <td>1</td>\n",
       "      <td>Medical</td>\n",
       "      <td>1</td>\n",
       "      <td>...</td>\n",
       "      <td>4</td>\n",
       "      <td>80</td>\n",
       "      <td>1</td>\n",
       "      <td>6</td>\n",
       "      <td>3</td>\n",
       "      <td>3</td>\n",
       "      <td>2</td>\n",
       "      <td>2</td>\n",
       "      <td>2</td>\n",
       "      <td>2</td>\n",
       "    </tr>\n",
       "  </tbody>\n",
       "</table>\n",
       "<p>5 rows × 35 columns</p>\n",
       "</div>"
      ],
      "text/plain": [
       "   EmployeeID  Age Attrition     BusinessTravel  DailyRate  Department  \\\n",
       "0     1313919   41        No      Travel_Rarely       1102  Cardiology   \n",
       "1     1200302   49        No  Travel_Frequently        279   Maternity   \n",
       "2     1060315   37       Yes      Travel_Rarely       1373   Maternity   \n",
       "3     1272912   33        No  Travel_Frequently       1392   Maternity   \n",
       "4     1414939   27        No      Travel_Rarely        591   Maternity   \n",
       "\n",
       "   DistanceFromHome  Education EducationField  EmployeeCount  ...  \\\n",
       "0                 1          2  Life Sciences              1  ...   \n",
       "1                 8          1  Life Sciences              1  ...   \n",
       "2                 2          2          Other              1  ...   \n",
       "3                 3          4  Life Sciences              1  ...   \n",
       "4                 2          1        Medical              1  ...   \n",
       "\n",
       "   RelationshipSatisfaction StandardHours  Shift  TotalWorkingYears  \\\n",
       "0                         1            80      0                  8   \n",
       "1                         4            80      1                 10   \n",
       "2                         2            80      0                  7   \n",
       "3                         3            80      0                  8   \n",
       "4                         4            80      1                  6   \n",
       "\n",
       "   TrainingTimesLastYear WorkLifeBalance  YearsAtCompany YearsInCurrentRole  \\\n",
       "0                      0               1               6                  4   \n",
       "1                      3               3              10                  7   \n",
       "2                      3               3               0                  0   \n",
       "3                      3               3               8                  7   \n",
       "4                      3               3               2                  2   \n",
       "\n",
       "   YearsSinceLastPromotion  YearsWithCurrManager  \n",
       "0                        0                     5  \n",
       "1                        1                     7  \n",
       "2                        0                     0  \n",
       "3                        3                     0  \n",
       "4                        2                     2  \n",
       "\n",
       "[5 rows x 35 columns]"
      ]
     },
     "execution_count": 2,
     "metadata": {},
     "output_type": "execute_result"
    }
   ],
   "source": [
    "data_df = pd.read_csv('./DATA/watson_healthcare_modified.csv')\n",
    "data_df.head()"
   ]
  },
  {
   "cell_type": "code",
   "execution_count": 4,
   "metadata": {},
   "outputs": [
    {
     "name": "stdout",
     "output_type": "stream",
     "text": [
      "Number of duplicated data: 0\n"
     ]
    }
   ],
   "source": [
    "print(\"Number of duplicated data: \"+str(data_df.duplicated().sum()))"
   ]
  },
  {
   "cell_type": "code",
   "execution_count": 5,
   "metadata": {},
   "outputs": [
    {
     "data": {
      "text/plain": [
       "EmployeeID                  0\n",
       "Age                         0\n",
       "Attrition                   0\n",
       "BusinessTravel              0\n",
       "DailyRate                   0\n",
       "Department                  0\n",
       "DistanceFromHome            0\n",
       "Education                   0\n",
       "EducationField              0\n",
       "EmployeeCount               0\n",
       "EnvironmentSatisfaction     0\n",
       "Gender                      0\n",
       "HourlyRate                  0\n",
       "JobInvolvement              0\n",
       "JobLevel                    0\n",
       "JobRole                     0\n",
       "JobSatisfaction             0\n",
       "MaritalStatus               0\n",
       "MonthlyIncome               0\n",
       "MonthlyRate                 0\n",
       "NumCompaniesWorked          0\n",
       "Over18                      0\n",
       "OverTime                    0\n",
       "PercentSalaryHike           0\n",
       "PerformanceRating           0\n",
       "RelationshipSatisfaction    0\n",
       "StandardHours               0\n",
       "Shift                       0\n",
       "TotalWorkingYears           0\n",
       "TrainingTimesLastYear       0\n",
       "WorkLifeBalance             0\n",
       "YearsAtCompany              0\n",
       "YearsInCurrentRole          0\n",
       "YearsSinceLastPromotion     0\n",
       "YearsWithCurrManager        0\n",
       "dtype: int64"
      ]
     },
     "execution_count": 5,
     "metadata": {},
     "output_type": "execute_result"
    }
   ],
   "source": [
    "data_df.isnull().sum()"
   ]
  },
  {
   "cell_type": "code",
   "execution_count": 6,
   "metadata": {},
   "outputs": [
    {
     "name": "stdout",
     "output_type": "stream",
     "text": [
      "<class 'pandas.core.frame.DataFrame'>\n",
      "RangeIndex: 1676 entries, 0 to 1675\n",
      "Data columns (total 35 columns):\n",
      " #   Column                    Non-Null Count  Dtype \n",
      "---  ------                    --------------  ----- \n",
      " 0   EmployeeID                1676 non-null   int64 \n",
      " 1   Age                       1676 non-null   int64 \n",
      " 2   Attrition                 1676 non-null   object\n",
      " 3   BusinessTravel            1676 non-null   object\n",
      " 4   DailyRate                 1676 non-null   int64 \n",
      " 5   Department                1676 non-null   object\n",
      " 6   DistanceFromHome          1676 non-null   int64 \n",
      " 7   Education                 1676 non-null   int64 \n",
      " 8   EducationField            1676 non-null   object\n",
      " 9   EmployeeCount             1676 non-null   int64 \n",
      " 10  EnvironmentSatisfaction   1676 non-null   int64 \n",
      " 11  Gender                    1676 non-null   object\n",
      " 12  HourlyRate                1676 non-null   int64 \n",
      " 13  JobInvolvement            1676 non-null   int64 \n",
      " 14  JobLevel                  1676 non-null   int64 \n",
      " 15  JobRole                   1676 non-null   object\n",
      " 16  JobSatisfaction           1676 non-null   int64 \n",
      " 17  MaritalStatus             1676 non-null   object\n",
      " 18  MonthlyIncome             1676 non-null   int64 \n",
      " 19  MonthlyRate               1676 non-null   int64 \n",
      " 20  NumCompaniesWorked        1676 non-null   int64 \n",
      " 21  Over18                    1676 non-null   object\n",
      " 22  OverTime                  1676 non-null   object\n",
      " 23  PercentSalaryHike         1676 non-null   int64 \n",
      " 24  PerformanceRating         1676 non-null   int64 \n",
      " 25  RelationshipSatisfaction  1676 non-null   int64 \n",
      " 26  StandardHours             1676 non-null   int64 \n",
      " 27  Shift                     1676 non-null   int64 \n",
      " 28  TotalWorkingYears         1676 non-null   int64 \n",
      " 29  TrainingTimesLastYear     1676 non-null   int64 \n",
      " 30  WorkLifeBalance           1676 non-null   int64 \n",
      " 31  YearsAtCompany            1676 non-null   int64 \n",
      " 32  YearsInCurrentRole        1676 non-null   int64 \n",
      " 33  YearsSinceLastPromotion   1676 non-null   int64 \n",
      " 34  YearsWithCurrManager      1676 non-null   int64 \n",
      "dtypes: int64(26), object(9)\n",
      "memory usage: 458.4+ KB\n"
     ]
    }
   ],
   "source": [
    "data_df.info()"
   ]
  },
  {
   "cell_type": "markdown",
   "metadata": {},
   "source": [
    "### Visualization 1\n"
   ]
  },
  {
   "cell_type": "code",
   "execution_count": 8,
   "metadata": {},
   "outputs": [
    {
     "data": {
      "text/plain": [
       "<AxesSubplot:xlabel='Age', ylabel='count'>"
      ]
     },
     "execution_count": 8,
     "metadata": {},
     "output_type": "execute_result"
    },
    {
     "data": {
      "image/png": "[encoded data removed]",
      "text/plain": [
       "<Figure size 1440x720 with 1 Axes>"
      ]
     },
     "metadata": {
      "needs_background": "light"
     },
     "output_type": "display_data"
    }
   ],
   "source": [
    "plt.figure(figsize=(20,10))\n",
    "sns.countplot(x='Age',hue='Attrition',data=data_df)"
   ]
  },
  {
   "cell_type": "markdown",
   "metadata": {},
   "source": [
    "### Visualization 2"
   ]
  },
  {
   "cell_type": "code",
   "execution_count": 28,
   "metadata": {},
   "outputs": [
    {
     "data": {
      "text/html": [
       "<div>\n",
       "<style scoped>\n",
       "    .dataframe tbody tr th:only-of-type {\n",
       "        vertical-align: middle;\n",
       "    }\n",
       "\n",
       "    .dataframe tbody tr th {\n",
       "        vertical-align: top;\n",
       "    }\n",
       "\n",
       "    .dataframe thead th {\n",
       "        text-align: right;\n",
       "    }\n",
       "</style>\n",
       "<table border=\"1\" class=\"dataframe\">\n",
       "  <thead>\n",
       "    <tr style=\"text-align: right;\">\n",
       "      <th></th>\n",
       "      <th>Attrition</th>\n",
       "      <th>MonthlyIncome</th>\n",
       "    </tr>\n",
       "  </thead>\n",
       "  <tbody>\n",
       "    <tr>\n",
       "      <th>0</th>\n",
       "      <td>Yes</td>\n",
       "      <td>4024.246231</td>\n",
       "    </tr>\n",
       "    <tr>\n",
       "      <th>1</th>\n",
       "      <td>No</td>\n",
       "      <td>6852.301963</td>\n",
       "    </tr>\n",
       "  </tbody>\n",
       "</table>\n",
       "</div>"
      ],
      "text/plain": [
       "  Attrition  MonthlyIncome\n",
       "0       Yes    4024.246231\n",
       "1        No    6852.301963"
      ]
     },
     "execution_count": 28,
     "metadata": {},
     "output_type": "execute_result"
    }
   ],
   "source": [
    "data_df.groupby('Attrition')['MonthlyIncome'].mean().sort_values().reset_index()"
   ]
  },
  {
   "cell_type": "code",
   "execution_count": 29,
   "metadata": {},
   "outputs": [
    {
     "data": {
      "text/plain": [
       "<AxesSubplot:xlabel='DistanceFromHome', ylabel='count'>"
      ]
     },
     "execution_count": 29,
     "metadata": {},
     "output_type": "execute_result"
    },
    {
     "data": {
      "image/png": "[encoded data removed]",
      "text/plain": [
       "<Figure size 1440x720 with 1 Axes>"
      ]
     },
     "metadata": {
      "needs_background": "light"
     },
     "output_type": "display_data"
    }
   ],
   "source": [
    "plt.figure(figsize=(20,10))\n",
    "sns.countplot(x='DistanceFromHome',hue='Attrition',data=data_df)"
   ]
  },
  {
   "cell_type": "markdown",
   "metadata": {},
   "source": [
    "### Visualization 3"
   ]
  },
  {
   "cell_type": "code",
   "execution_count": 30,
   "metadata": {},
   "outputs": [
    {
     "data": {
      "application/vnd.plotly.v1+json": {
       "config": {
        "plotlyServerURL": "https://plot.ly"
       },
       "data": [
        {
         "alignmentgroup": "True",
         "bingroup": "x",
         "hovertemplate": "Attrition=No<br>Department=%{x}<br>count=%{y}<extra></extra>",
         "legendgroup": "No",
         "marker": {
          "color": "#636efa",
          "pattern": {
           "shape": ""
          }
         },
         "name": "No",
         "offsetgroup": "No",
         "orientation": "v",
         "showlegend": true,
         "texttemplate": "%{value:.2f}",
         "type": "histogram",
         "x": [
          "Cardiology",
          "Maternity",
          "Maternity",
          "Maternity",
          "Maternity",
          "Maternity",
          "Maternity",
          "Maternity",
          "Maternity",
          "Maternity",
          "Maternity",
          "Maternity",
          "Maternity",
          "Maternity",
          "Maternity",
          "Maternity",
          "Cardiology",
          "Maternity",
          "Maternity",
          "Cardiology",
          "Neurology",
          "Maternity",
          "Maternity",
          "Neurology",
          "Cardiology",
          "Maternity",
          "Cardiology",
          "Maternity",
          "Maternity",
          "Maternity",
          "Cardiology",
          "Maternity",
          "Cardiology",
          "Maternity",
          "Cardiology",
          "Maternity",
          "Maternity",
          "Cardiology",
          "Maternity",
          "Neurology",
          "Cardiology",
          "Maternity",
          "Cardiology",
          "Maternity",
          "Cardiology",
          "Maternity",
          "Neurology",
          "Cardiology",
          "Maternity",
          "Maternity",
          "Neurology",
          "Neurology",
          "Maternity",
          "Neurology",
          "Cardiology",
          "Maternity",
          "Neurology",
          "Maternity",
          "Maternity",
          "Maternity",
          "Cardiology",
          "Maternity",
          "Maternity",
          "Maternity",
          "Maternity",
          "Cardiology",
          "Cardiology",
          "Neurology",
          "Neurology",
          "Neurology",
          "Maternity",
          "Maternity",
          "Cardiology",
          "Maternity",
          "Neurology",
          "Neurology",
          "Cardiology",
          "Maternity",
          "Maternity",
          "Cardiology",
          "Maternity",
          "Cardiology",
          "Cardiology",
          "Maternity",
          "Cardiology",
          "Neurology",
          "Cardiology",
          "Cardiology",
          "Cardiology",
          "Maternity",
          "Maternity",
          "Maternity",
          "Maternity",
          "Neurology",
          "Neurology",
          "Maternity",
          "Maternity",
          "Maternity",
          "Neurology",
          "Maternity",
          "Maternity",
          "Cardiology",
          "Neurology",
          "Cardiology",
          "Maternity",
          "Cardiology",
          "Maternity",
          "Cardiology",
          "Neurology",
          "Maternity",
          "Maternity",
          "Maternity",
          "Maternity",
          "Maternity",
          "Cardiology",
          "Cardiology",
          "Neurology",
          "Neurology",
          "Cardiology",
          "Cardiology",
          "Neurology",
          "Maternity",
          "Maternity",
          "Maternity",
          "Cardiology",
          "Maternity",
          "Maternity",
          "Neurology",
          "Maternity",
          "Maternity",
          "Maternity",
          "Cardiology",
          "Cardiology",
          "Maternity",
          "Cardiology",
          "Neurology",
          "Neurology",
          "Maternity",
          "Cardiology",
          "Cardiology",
          "Maternity",
          "Maternity",
          "Maternity",
          "Maternity",
          "Neurology",
          "Maternity",
          "Cardiology",
          "Cardiology",
          "Maternity",
          "Maternity",
          "Maternity",
          "Maternity",
          "Cardiology",
          "Maternity",
          "Maternity",
          "Cardiology",
          "Maternity",
          "Maternity",
          "Maternity",
          "Maternity",
          "Maternity",
          "Maternity",
          "Neurology",
          "Neurology",
          "Neurology",
          "Maternity",
          "Neurology",
          "Maternity",
          "Maternity",
          "Neurology",
          "Maternity",
          "Maternity",
          "Maternity",
          "Neurology",
          "Maternity",
          "Neurology",
          "Maternity",
          "Maternity",
          "Maternity",
          "Cardiology",
          "Maternity",
          "Maternity",
          "Maternity",
          "Maternity",
          "Cardiology",
          "Neurology",
          "Cardiology",
          "Neurology",
          "Cardiology",
          "Maternity",
          "Cardiology",
          "Cardiology",
          "Maternity",
          "Maternity",
          "Neurology",
          "Cardiology",
          "Neurology",
          "Maternity",
          "Cardiology",
          "Cardiology",
          "Cardiology",
          "Maternity",
          "Neurology",
          "Neurology",
          "Cardiology",
          "Cardiology",
          "Cardiology",
          "Cardiology",
          "Maternity",
          "Cardiology",
          "Maternity",
          "Maternity",
          "Neurology",
          "Neurology",
          "Maternity",
          "Neurology",
          "Maternity",
          "Neurology",
          "Maternity",
          "Maternity",
          "Maternity",
          "Maternity",
          "Cardiology",
          "Neurology",
          "Maternity",
          "Neurology",
          "Maternity",
          "Maternity",
          "Maternity",
          "Cardiology",
          "Maternity",
          "Cardiology",
          "Cardiology",
          "Maternity",
          "Maternity",
          "Maternity",
          "Maternity",
          "Neurology",
          "Maternity",
          "Cardiology",
          "Maternity",
          "Neurology",
          "Neurology",
          "Cardiology",
          "Neurology",
          "Neurology",
          "Neurology",
          "Cardiology",
          "Cardiology",
          "Maternity",
          "Maternity",
          "Maternity",
          "Maternity",
          "Maternity",
          "Neurology",
          "Maternity",
          "Cardiology",
          "Maternity",
          "Cardiology",
          "Maternity",
          "Cardiology",
          "Maternity",
          "Neurology",
          "Cardiology",
          "Maternity",
          "Cardiology",
          "Maternity",
          "Maternity",
          "Cardiology",
          "Maternity",
          "Maternity",
          "Maternity",
          "Neurology",
          "Maternity",
          "Maternity",
          "Neurology",
          "Neurology",
          "Maternity",
          "Maternity",
          "Maternity",
          "Maternity",
          "Cardiology",
          "Cardiology",
          "Cardiology",
          "Maternity",
          "Maternity",
          "Neurology",
          "Neurology",
          "Cardiology",
          "Maternity",
          "Maternity",
          "Cardiology",
          "Maternity",
          "Maternity",
          "Maternity",
          "Cardiology",
          "Maternity",
          "Cardiology",
          "Cardiology",
          "Neurology",
          "Maternity",
          "Neurology",
          "Cardiology",
          "Neurology",
          "Maternity",
          "Neurology",
          "Cardiology",
          "Maternity",
          "Cardiology",
          "Neurology",
          "Maternity",
          "Cardiology",
          "Maternity",
          "Cardiology",
          "Maternity",
          "Cardiology",
          "Cardiology",
          "Maternity",
          "Maternity",
          "Cardiology",
          "Maternity",
          "Neurology",
          "Cardiology",
          "Maternity",
          "Cardiology",
          "Maternity",
          "Maternity",
          "Maternity",
          "Cardiology",
          "Maternity",
          "Cardiology",
          "Maternity",
          "Neurology",
          "Cardiology",
          "Cardiology",
          "Maternity",
          "Maternity",
          "Cardiology",
          "Maternity",
          "Cardiology",
          "Maternity",
          "Maternity",
          "Maternity",
          "Maternity",
          "Maternity",
          "Cardiology",
          "Neurology",
          "Maternity",
          "Maternity",
          "Cardiology",
          "Maternity",
          "Maternity",
          "Neurology",
          "Cardiology",
          "Cardiology",
          "Cardiology",
          "Maternity",
          "Neurology",
          "Maternity",
          "Neurology",
          "Maternity",
          "Neurology",
          "Neurology",
          "Maternity",
          "Maternity",
          "Cardiology",
          "Maternity",
          "Cardiology",
          "Maternity",
          "Maternity",
          "Maternity",
          "Cardiology",
          "Cardiology",
          "Neurology",
          "Maternity",
          "Cardiology",
          "Neurology",
          "Maternity",
          "Maternity",
          "Maternity",
          "Maternity",
          "Maternity",
          "Maternity",
          "Cardiology",
          "Maternity",
          "Maternity",
          "Cardiology",
          "Maternity",
          "Cardiology",
          "Cardiology",
          "Cardiology",
          "Cardiology",
          "Neurology",
          "Maternity",
          "Cardiology",
          "Maternity",
          "Cardiology",
          "Maternity",
          "Maternity",
          "Cardiology",
          "Cardiology",
          "Maternity",
          "Cardiology",
          "Cardiology",
          "Cardiology",
          "Neurology",
          "Maternity",
          "Cardiology",
          "Cardiology",
          "Maternity",
          "Cardiology",
          "Cardiology",
          "Maternity",
          "Neurology",
          "Maternity",
          "Maternity",
          "Cardiology",
          "Maternity",
          "Neurology",
          "Cardiology",
          "Maternity",
          "Cardiology",
          "Maternity",
          "Cardiology",
          "Maternity",
          "Cardiology",
          "Maternity",
          "Maternity",
          "Maternity",
          "Maternity",
          "Neurology",
          "Neurology",
          "Cardiology",
          "Cardiology",
          "Cardiology",
          "Neurology",
          "Maternity",
          "Cardiology",
          "Maternity",
          "Maternity",
          "Cardiology",
          "Maternity",
          "Maternity",
          "Neurology",
          "Cardiology",
          "Maternity",
          "Maternity",
          "Neurology",
          "Maternity",
          "Maternity",
          "Maternity",
          "Maternity",
          "Cardiology",
          "Cardiology",
          "Maternity",
          "Cardiology",
          "Cardiology",
          "Maternity",
          "Maternity",
          "Maternity",
          "Cardiology",
          "Maternity",
          "Cardiology",
          "Cardiology",
          "Maternity",
          "Neurology",
          "Maternity",
          "Cardiology",
          "Cardiology",
          "Maternity",
          "Neurology",
          "Cardiology",
          "Maternity",
          "Neurology",
          "Cardiology",
          "Maternity",
          "Neurology",
          "Maternity",
          "Cardiology",
          "Cardiology",
          "Cardiology",
          "Cardiology",
          "Maternity",
          "Maternity",
          "Neurology",
          "Maternity",
          "Maternity",
          "Maternity",
          "Cardiology",
          "Maternity",
          "Maternity",
          "Maternity",
          "Maternity",
          "Cardiology",
          "Cardiology",
          "Cardiology",
          "Cardiology",
          "Maternity",
          "Cardiology",
          "Cardiology",
          "Maternity",
          "Maternity",
          "Maternity",
          "Maternity",
          "Maternity",
          "Cardiology",
          "Maternity",
          "Neurology",
          "Maternity",
          "Cardiology",
          "Maternity",
          "Maternity",
          "Cardiology",
          "Neurology",
          "Maternity",
          "Maternity",
          "Maternity",
          "Maternity",
          "Neurology",
          "Neurology",
          "Maternity",
          "Maternity",
          "Neurology",
          "Maternity",
          "Neurology",
          "Neurology",
          "Maternity",
          "Neurology",
          "Maternity",
          "Maternity",
          "Maternity",
          "Maternity",
          "Cardiology",
          "Cardiology",
          "Maternity",
          "Maternity",
          "Neurology",
          "Cardiology",
          "Neurology",
          "Maternity",
          "Cardiology",
          "Maternity",
          "Maternity",
          "Cardiology",
          "Maternity",
          "Cardiology",
          "Cardiology",
          "Maternity",
          "Cardiology",
          "Cardiology",
          "Maternity",
          "Maternity",
          "Cardiology",
          "Neurology",
          "Neurology",
          "Maternity",
          "Maternity",
          "Neurology",
          "Cardiology",
          "Maternity",
          "Maternity",
          "Cardiology",
          "Maternity",
          "Maternity",
          "Cardiology",
          "Cardiology",
          "Maternity",
          "Maternity",
          "Cardiology",
          "Maternity",
          "Cardiology",
          "Maternity",
          "Maternity",
          "Cardiology",
          "Cardiology",
          "Neurology",
          "Neurology",
          "Neurology",
          "Maternity",
          "Maternity",
          "Cardiology",
          "Cardiology",
          "Maternity",
          "Cardiology",
          "Neurology",
          "Maternity",
          "Maternity",
          "Maternity",
          "Cardiology",
          "Maternity",
          "Maternity",
          "Cardiology",
          "Maternity",
          "Maternity",
          "Maternity",
          "Cardiology",
          "Maternity",
          "Maternity",
          "Maternity",
          "Cardiology",
          "Cardiology",
          "Maternity",
          "Maternity",
          "Maternity",
          "Maternity",
          "Neurology",
          "Cardiology",
          "Maternity",
          "Maternity",
          "Cardiology",
          "Cardiology",
          "Neurology",
          "Maternity",
          "Cardiology",
          "Cardiology",
          "Cardiology",
          "Cardiology",
          "Cardiology",
          "Maternity",
          "Cardiology",
          "Cardiology",
          "Maternity",
          "Maternity",
          "Maternity",
          "Maternity",
          "Maternity",
          "Maternity",
          "Maternity",
          "Cardiology",
          "Maternity",
          "Maternity",
          "Neurology",
          "Maternity",
          "Neurology",
          "Maternity",
          "Maternity",
          "Maternity",
          "Maternity",
          "Maternity",
          "Neurology",
          "Maternity",
          "Maternity",
          "Maternity",
          "Cardiology",
          "Neurology",
          "Maternity",
          "Cardiology",
          "Maternity",
          "Neurology",
          "Maternity",
          "Maternity",
          "Cardiology",
          "Cardiology",
          "Cardiology",
          "Cardiology",
          "Maternity",
          "Maternity",
          "Cardiology",
          "Cardiology",
          "Maternity",
          "Cardiology",
          "Cardiology",
          "Neurology",
          "Cardiology",
          "Maternity",
          "Cardiology",
          "Cardiology",
          "Maternity",
          "Maternity",
          "Maternity",
          "Cardiology",
          "Maternity",
          "Maternity",
          "Cardiology",
          "Maternity",
          "Maternity",
          "Neurology",
          "Cardiology",
          "Maternity",
          "Maternity",
          "Maternity",
          "Maternity",
          "Maternity",
          "Maternity",
          "Maternity",
          "Maternity",
          "Maternity",
          "Neurology",
          "Maternity",
          "Neurology",
          "Maternity",
          "Maternity",
          "Maternity",
          "Maternity",
          "Cardiology",
          "Maternity",
          "Neurology",
          "Maternity",
          "Cardiology",
          "Cardiology",
          "Maternity",
          "Neurology",
          "Cardiology",
          "Maternity",
          "Cardiology",
          "Maternity",
          "Neurology",
          "Cardiology",
          "Cardiology",
          "Maternity",
          "Maternity",
          "Maternity",
          "Maternity",
          "Maternity",
          "Cardiology",
          "Maternity",
          "Cardiology",
          "Cardiology",
          "Neurology",
          "Maternity",
          "Maternity",
          "Maternity",
          "Neurology",
          "Maternity",
          "Maternity",
          "Maternity",
          "Maternity",
          "Maternity",
          "Cardiology",
          "Neurology",
          "Maternity",
          "Cardiology",
          "Cardiology",
          "Maternity",
          "Maternity",
          "Maternity",
          "Cardiology",
          "Maternity",
          "Neurology",
          "Maternity",
          "Maternity",
          "Cardiology",
          "Neurology",
          "Maternity",
          "Maternity",
          "Maternity",
          "Neurology",
          "Neurology",
          "Cardiology",
          "Maternity",
          "Neurology",
          "Cardiology",
          "Cardiology",
          "Neurology",
          "Maternity",
          "Maternity",
          "Cardiology",
          "Cardiology",
          "Maternity",
          "Maternity",
          "Maternity",
          "Cardiology",
          "Neurology",
          "Neurology",
          "Cardiology",
          "Maternity",
          "Maternity",
          "Neurology",
          "Maternity",
          "Cardiology",
          "Cardiology",
          "Maternity",
          "Maternity",
          "Cardiology",
          "Maternity",
          "Neurology",
          "Maternity",
          "Maternity",
          "Maternity",
          "Maternity",
          "Maternity",
          "Cardiology",
          "Maternity",
          "Neurology",
          "Maternity",
          "Maternity",
          "Maternity",
          "Maternity",
          "Maternity",
          "Maternity",
          "Maternity",
          "Cardiology",
          "Cardiology",
          "Maternity",
          "Maternity",
          "Maternity",
          "Cardiology",
          "Maternity",
          "Cardiology",
          "Cardiology",
          "Cardiology",
          "Maternity",
          "Maternity",
          "Neurology",
          "Neurology",
          "Maternity",
          "Maternity",
          "Cardiology",
          "Neurology",
          "Maternity",
          "Maternity",
          "Maternity",
          "Maternity",
          "Maternity",
          "Maternity",
          "Cardiology",
          "Neurology",
          "Neurology",
          "Maternity",
          "Maternity",
          "Maternity",
          "Maternity",
          "Neurology",
          "Maternity",
          "Maternity",
          "Neurology",
          "Maternity",
          "Cardiology",
          "Cardiology",
          "Maternity",
          "Neurology",
          "Neurology",
          "Neurology",
          "Maternity",
          "Maternity",
          "Maternity",
          "Cardiology",
          "Maternity",
          "Neurology",
          "Cardiology",
          "Cardiology",
          "Maternity",
          "Maternity",
          "Cardiology",
          "Neurology",
          "Cardiology",
          "Maternity",
          "Maternity",
          "Maternity",
          "Cardiology",
          "Maternity",
          "Maternity",
          "Maternity",
          "Maternity",
          "Maternity",
          "Maternity",
          "Cardiology",
          "Cardiology",
          "Cardiology",
          "Maternity",
          "Maternity",
          "Cardiology",
          "Cardiology",
          "Maternity",
          "Cardiology",
          "Maternity",
          "Maternity",
          "Cardiology",
          "Maternity",
          "Neurology",
          "Maternity",
          "Maternity",
          "Maternity",
          "Maternity",
          "Maternity",
          "Neurology",
          "Maternity",
          "Maternity",
          "Maternity",
          "Maternity",
          "Cardiology",
          "Cardiology",
          "Maternity",
          "Maternity",
          "Maternity",
          "Maternity",
          "Cardiology",
          "Maternity",
          "Maternity",
          "Maternity",
          "Maternity",
          "Cardiology",
          "Cardiology",
          "Maternity",
          "Maternity",
          "Maternity",
          "Cardiology",
          "Cardiology",
          "Neurology",
          "Maternity",
          "Neurology",
          "Maternity",
          "Cardiology",
          "Neurology",
          "Maternity",
          "Cardiology",
          "Maternity",
          "Maternity",
          "Maternity",
          "Maternity",
          "Maternity",
          "Cardiology",
          "Cardiology",
          "Cardiology",
          "Maternity",
          "Cardiology",
          "Maternity",
          "Maternity",
          "Maternity",
          "Maternity",
          "Cardiology",
          "Cardiology",
          "Cardiology",
          "Neurology",
          "Cardiology",
          "Neurology",
          "Maternity",
          "Maternity",
          "Cardiology",
          "Maternity",
          "Cardiology",
          "Maternity",
          "Maternity",
          "Maternity",
          "Maternity",
          "Neurology",
          "Neurology",
          "Maternity",
          "Neurology",
          "Cardiology",
          "Maternity",
          "Maternity",
          "Cardiology",
          "Maternity",
          "Cardiology",
          "Maternity",
          "Maternity",
          "Maternity",
          "Maternity",
          "Maternity",
          "Maternity",
          "Cardiology",
          "Maternity",
          "Neurology",
          "Maternity",
          "Maternity",
          "Maternity",
          "Cardiology",
          "Maternity",
          "Cardiology",
          "Cardiology",
          "Maternity",
          "Cardiology",
          "Cardiology",
          "Neurology",
          "Maternity",
          "Cardiology",
          "Neurology",
          "Neurology",
          "Maternity",
          "Maternity",
          "Maternity",
          "Cardiology",
          "Maternity",
          "Maternity",
          "Cardiology",
          "Cardiology",
          "Cardiology",
          "Maternity",
          "Maternity",
          "Cardiology",
          "Maternity",
          "Cardiology",
          "Maternity",
          "Maternity",
          "Neurology",
          "Maternity",
          "Maternity",
          "Cardiology",
          "Maternity",
          "Maternity",
          "Cardiology",
          "Maternity",
          "Maternity",
          "Maternity",
          "Maternity",
          "Maternity",
          "Cardiology",
          "Cardiology",
          "Maternity",
          "Maternity",
          "Maternity",
          "Maternity",
          "Maternity",
          "Maternity",
          "Maternity",
          "Maternity",
          "Neurology",
          "Maternity",
          "Maternity",
          "Maternity",
          "Maternity",
          "Neurology",
          "Neurology",
          "Neurology",
          "Cardiology",
          "Maternity",
          "Maternity",
          "Neurology",
          "Neurology",
          "Maternity",
          "Maternity",
          "Cardiology",
          "Maternity",
          "Neurology",
          "Maternity",
          "Maternity",
          "Maternity",
          "Cardiology",
          "Maternity",
          "Maternity",
          "Maternity",
          "Neurology",
          "Maternity",
          "Neurology",
          "Maternity",
          "Cardiology",
          "Maternity",
          "Cardiology",
          "Cardiology",
          "Maternity",
          "Cardiology",
          "Maternity",
          "Maternity",
          "Cardiology",
          "Neurology",
          "Cardiology",
          "Cardiology",
          "Cardiology",
          "Maternity",
          "Neurology",
          "Maternity",
          "Maternity",
          "Cardiology",
          "Maternity",
          "Maternity",
          "Maternity",
          "Maternity",
          "Maternity",
          "Maternity",
          "Cardiology",
          "Maternity",
          "Cardiology",
          "Maternity",
          "Maternity",
          "Cardiology",
          "Maternity",
          "Cardiology",
          "Maternity",
          "Cardiology",
          "Maternity",
          "Maternity",
          "Maternity",
          "Maternity",
          "Maternity",
          "Neurology",
          "Maternity",
          "Maternity",
          "Maternity",
          "Maternity",
          "Maternity",
          "Cardiology",
          "Cardiology",
          "Cardiology",
          "Maternity",
          "Maternity",
          "Maternity",
          "Cardiology",
          "Cardiology",
          "Neurology",
          "Maternity",
          "Neurology",
          "Cardiology",
          "Maternity",
          "Maternity",
          "Cardiology",
          "Maternity",
          "Cardiology",
          "Cardiology",
          "Maternity",
          "Maternity",
          "Maternity",
          "Maternity",
          "Maternity",
          "Maternity",
          "Maternity",
          "Maternity",
          "Maternity",
          "Cardiology",
          "Neurology",
          "Neurology",
          "Cardiology",
          "Maternity",
          "Cardiology",
          "Neurology",
          "Cardiology",
          "Maternity",
          "Maternity",
          "Maternity",
          "Neurology",
          "Maternity",
          "Maternity",
          "Maternity",
          "Cardiology",
          "Maternity",
          "Maternity",
          "Cardiology",
          "Neurology",
          "Neurology",
          "Cardiology",
          "Cardiology",
          "Neurology",
          "Neurology",
          "Cardiology",
          "Cardiology",
          "Neurology",
          "Neurology",
          "Neurology",
          "Cardiology",
          "Cardiology",
          "Neurology",
          "Cardiology",
          "Neurology",
          "Neurology",
          "Cardiology",
          "Neurology",
          "Cardiology",
          "Cardiology",
          "Neurology",
          "Neurology",
          "Cardiology",
          "Neurology",
          "Cardiology",
          "Neurology",
          "Neurology",
          "Cardiology",
          "Neurology",
          "Neurology",
          "Cardiology",
          "Neurology",
          "Neurology",
          "Neurology",
          "Cardiology",
          "Cardiology",
          "Neurology",
          "Neurology",
          "Neurology",
          "Cardiology",
          "Neurology",
          "Neurology",
          "Neurology",
          "Cardiology",
          "Cardiology",
          "Neurology",
          "Cardiology",
          "Neurology",
          "Neurology",
          "Cardiology",
          "Cardiology",
          "Neurology",
          "Neurology",
          "Neurology",
          "Neurology",
          "Neurology",
          "Cardiology",
          "Cardiology",
          "Neurology",
          "Cardiology",
          "Cardiology",
          "Neurology",
          "Neurology",
          "Neurology",
          "Cardiology",
          "Cardiology",
          "Cardiology",
          "Neurology",
          "Neurology",
          "Neurology",
          "Cardiology",
          "Cardiology",
          "Neurology",
          "Cardiology",
          "Neurology",
          "Neurology",
          "Cardiology",
          "Cardiology",
          "Neurology",
          "Neurology",
          "Neurology",
          "Cardiology",
          "Cardiology",
          "Neurology",
          "Neurology",
          "Neurology",
          "Neurology",
          "Neurology",
          "Cardiology",
          "Cardiology",
          "Cardiology",
          "Cardiology",
          "Neurology",
          "Neurology",
          "Neurology",
          "Neurology",
          "Neurology",
          "Neurology",
          "Cardiology",
          "Neurology",
          "Neurology",
          "Cardiology",
          "Neurology",
          "Neurology",
          "Neurology",
          "Cardiology",
          "Neurology",
          "Neurology",
          "Neurology",
          "Neurology",
          "Neurology",
          "Cardiology",
          "Cardiology",
          "Cardiology",
          "Neurology",
          "Neurology",
          "Neurology",
          "Neurology",
          "Neurology",
          "Neurology",
          "Neurology",
          "Neurology",
          "Neurology",
          "Cardiology",
          "Neurology",
          "Neurology",
          "Cardiology",
          "Neurology",
          "Cardiology",
          "Cardiology",
          "Neurology",
          "Neurology",
          "Cardiology",
          "Cardiology",
          "Neurology",
          "Neurology",
          "Neurology",
          "Cardiology",
          "Cardiology",
          "Cardiology",
          "Cardiology",
          "Neurology",
          "Neurology",
          "Cardiology",
          "Cardiology",
          "Cardiology",
          "Cardiology",
          "Neurology",
          "Neurology",
          "Neurology",
          "Neurology",
          "Neurology",
          "Neurology",
          "Cardiology",
          "Cardiology",
          "Cardiology",
          "Neurology",
          "Neurology",
          "Cardiology",
          "Cardiology",
          "Neurology",
          "Maternity",
          "Cardiology",
          "Maternity",
          "Maternity",
          "Maternity",
          "Maternity",
          "Maternity",
          "Maternity",
          "Maternity",
          "Cardiology",
          "Maternity",
          "Maternity",
          "Neurology",
          "Neurology",
          "Neurology",
          "Cardiology",
          "Neurology",
          "Maternity",
          "Maternity",
          "Maternity",
          "Maternity",
          "Maternity",
          "Cardiology",
          "Cardiology",
          "Maternity",
          "Cardiology",
          "Maternity",
          "Maternity",
          "Maternity",
          "Cardiology",
          "Maternity",
          "Maternity",
          "Cardiology",
          "Maternity",
          "Cardiology",
          "Cardiology",
          "Cardiology",
          "Cardiology",
          "Maternity",
          "Maternity",
          "Cardiology",
          "Neurology",
          "Maternity",
          "Maternity",
          "Neurology",
          "Maternity",
          "Maternity",
          "Maternity",
          "Maternity",
          "Cardiology",
          "Neurology",
          "Maternity",
          "Maternity",
          "Neurology",
          "Neurology",
          "Maternity",
          "Maternity",
          "Maternity",
          "Maternity",
          "Cardiology",
          "Cardiology",
          "Neurology",
          "Maternity",
          "Maternity",
          "Maternity",
          "Cardiology",
          "Maternity",
          "Cardiology",
          "Maternity",
          "Neurology",
          "Cardiology",
          "Cardiology",
          "Neurology",
          "Cardiology",
          "Maternity",
          "Maternity",
          "Cardiology",
          "Neurology",
          "Maternity",
          "Maternity",
          "Maternity",
          "Cardiology",
          "Cardiology",
          "Cardiology",
          "Maternity",
          "Maternity",
          "Maternity",
          "Neurology",
          "Neurology",
          "Cardiology",
          "Neurology",
          "Cardiology",
          "Cardiology",
          "Neurology",
          "Cardiology",
          "Neurology",
          "Cardiology",
          "Neurology",
          "Cardiology",
          "Cardiology",
          "Maternity",
          "Maternity",
          "Neurology",
          "Neurology",
          "Maternity",
          "Neurology",
          "Cardiology",
          "Maternity",
          "Maternity",
          "Cardiology",
          "Neurology",
          "Maternity",
          "Neurology",
          "Cardiology",
          "Maternity",
          "Neurology",
          "Cardiology",
          "Cardiology",
          "Maternity",
          "Neurology",
          "Cardiology",
          "Maternity",
          "Maternity",
          "Maternity",
          "Neurology",
          "Maternity",
          "Maternity",
          "Neurology",
          "Maternity",
          "Neurology",
          "Neurology",
          "Neurology",
          "Maternity",
          "Neurology",
          "Maternity",
          "Maternity",
          "Neurology",
          "Cardiology",
          "Maternity",
          "Neurology",
          "Cardiology",
          "Maternity",
          "Maternity",
          "Neurology",
          "Neurology",
          "Neurology",
          "Maternity",
          "Neurology",
          "Cardiology",
          "Maternity",
          "Cardiology",
          "Cardiology",
          "Cardiology",
          "Maternity",
          "Neurology",
          "Maternity",
          "Maternity",
          "Cardiology",
          "Neurology",
          "Maternity",
          "Neurology",
          "Neurology",
          "Cardiology",
          "Neurology",
          "Cardiology",
          "Cardiology",
          "Maternity",
          "Maternity",
          "Cardiology",
          "Cardiology",
          "Maternity",
          "Maternity",
          "Cardiology",
          "Neurology",
          "Neurology",
          "Cardiology",
          "Cardiology",
          "Maternity",
          "Cardiology",
          "Cardiology",
          "Neurology",
          "Cardiology",
          "Neurology",
          "Cardiology",
          "Cardiology",
          "Maternity",
          "Neurology",
          "Cardiology"
         ],
         "xaxis": "x",
         "yaxis": "y"
        },
        {
         "alignmentgroup": "True",
         "bingroup": "x",
         "hovertemplate": "Attrition=Yes<br>Department=%{x}<br>count=%{y}<extra></extra>",
         "legendgroup": "Yes",
         "marker": {
          "color": "#EF553B",
          "pattern": {
           "shape": ""
          }
         },
         "name": "Yes",
         "offsetgroup": "Yes",
         "orientation": "v",
         "showlegend": true,
         "texttemplate": "%{value:.2f}",
         "type": "histogram",
         "x": [
          "Maternity",
          "Maternity",
          "Maternity",
          "Maternity",
          "Cardiology",
          "Maternity",
          "Maternity",
          "Maternity",
          "Cardiology",
          "Maternity",
          "Neurology",
          "Maternity",
          "Cardiology",
          "Maternity",
          "Maternity",
          "Cardiology",
          "Cardiology",
          "Cardiology",
          "Cardiology",
          "Maternity",
          "Maternity",
          "Cardiology",
          "Maternity",
          "Cardiology",
          "Maternity",
          "Maternity",
          "Maternity",
          "Cardiology",
          "Maternity",
          "Maternity",
          "Maternity",
          "Maternity",
          "Maternity",
          "Neurology",
          "Maternity",
          "Maternity",
          "Cardiology",
          "Cardiology",
          "Maternity",
          "Cardiology",
          "Maternity",
          "Cardiology",
          "Cardiology",
          "Cardiology",
          "Maternity",
          "Cardiology",
          "Cardiology",
          "Maternity",
          "Maternity",
          "Cardiology",
          "Maternity",
          "Neurology",
          "Neurology",
          "Maternity",
          "Neurology",
          "Neurology",
          "Cardiology",
          "Maternity",
          "Maternity",
          "Cardiology",
          "Cardiology",
          "Maternity",
          "Maternity",
          "Maternity",
          "Maternity",
          "Maternity",
          "Cardiology",
          "Neurology",
          "Cardiology",
          "Maternity",
          "Maternity",
          "Cardiology",
          "Maternity",
          "Maternity",
          "Maternity",
          "Cardiology",
          "Maternity",
          "Maternity",
          "Cardiology",
          "Maternity",
          "Maternity",
          "Maternity",
          "Cardiology",
          "Cardiology",
          "Maternity",
          "Cardiology",
          "Cardiology",
          "Maternity",
          "Maternity",
          "Maternity",
          "Maternity",
          "Maternity",
          "Maternity",
          "Cardiology",
          "Maternity",
          "Cardiology",
          "Maternity",
          "Cardiology",
          "Maternity",
          "Maternity",
          "Maternity",
          "Maternity",
          "Cardiology",
          "Cardiology",
          "Maternity",
          "Cardiology",
          "Maternity",
          "Maternity",
          "Maternity",
          "Maternity",
          "Maternity",
          "Maternity",
          "Maternity",
          "Cardiology",
          "Maternity",
          "Maternity",
          "Maternity",
          "Maternity",
          "Cardiology",
          "Cardiology",
          "Cardiology",
          "Cardiology",
          "Cardiology",
          "Cardiology",
          "Cardiology",
          "Maternity",
          "Maternity",
          "Maternity",
          "Cardiology",
          "Maternity",
          "Cardiology",
          "Maternity",
          "Maternity",
          "Cardiology",
          "Cardiology",
          "Maternity",
          "Maternity",
          "Maternity",
          "Maternity",
          "Maternity",
          "Maternity",
          "Maternity",
          "Maternity",
          "Cardiology",
          "Cardiology",
          "Maternity",
          "Maternity",
          "Maternity",
          "Neurology",
          "Cardiology",
          "Cardiology",
          "Neurology",
          "Cardiology",
          "Cardiology",
          "Cardiology",
          "Maternity",
          "Cardiology",
          "Maternity",
          "Cardiology",
          "Neurology",
          "Neurology",
          "Cardiology",
          "Neurology",
          "Cardiology",
          "Neurology",
          "Neurology",
          "Neurology",
          "Cardiology",
          "Cardiology",
          "Neurology",
          "Neurology",
          "Cardiology",
          "Cardiology",
          "Cardiology",
          "Cardiology",
          "Neurology",
          "Cardiology",
          "Maternity",
          "Neurology",
          "Cardiology",
          "Cardiology",
          "Maternity",
          "Maternity",
          "Neurology",
          "Cardiology",
          "Cardiology",
          "Cardiology",
          "Cardiology",
          "Maternity",
          "Neurology",
          "Neurology",
          "Cardiology",
          "Neurology",
          "Neurology",
          "Neurology",
          "Neurology",
          "Maternity",
          "Maternity",
          "Neurology"
         ],
         "xaxis": "x",
         "yaxis": "y"
        }
       ],
       "layout": {
        "barmode": "group",
        "legend": {
         "title": {
          "text": "Attrition"
         },
         "tracegroupgap": 0
        },
        "template": {
         "data": {
          "bar": [
           {
            "error_x": {
             "color": "#f2f5fa"
            },
            "error_y": {
             "color": "#f2f5fa"
            },
            "marker": {
             "line": {
              "color": "rgb(17,17,17)",
              "width": 0.5
             },
             "pattern": {
              "fillmode": "overlay",
              "size": 10,
              "solidity": 0.2
             }
            },
            "type": "bar"
           }
          ],
          "barpolar": [
           {
            "marker": {
             "line": {
              "color": "rgb(17,17,17)",
              "width": 0.5
             },
             "pattern": {
              "fillmode": "overlay",
              "size": 10,
              "solidity": 0.2
             }
            },
            "type": "barpolar"
           }
          ],
          "carpet": [
           {
            "aaxis": {
             "endlinecolor": "#A2B1C6",
             "gridcolor": "#506784",
             "linecolor": "#506784",
             "minorgridcolor": "#506784",
             "startlinecolor": "#A2B1C6"
            },
            "baxis": {
             "endlinecolor": "#A2B1C6",
             "gridcolor": "#506784",
             "linecolor": "#506784",
             "minorgridcolor": "#506784",
             "startlinecolor": "#A2B1C6"
            },
            "type": "carpet"
           }
          ],
          "choropleth": [
           {
            "colorbar": {
             "outlinewidth": 0,
             "ticks": ""
            },
            "type": "choropleth"
           }
          ],
          "contour": [
           {
            "colorbar": {
             "outlinewidth": 0,
             "ticks": ""
            },
            "colorscale": [
             [
              0,
              "#0d0887"
             ],
             [
              0.1111111111111111,
              "#46039f"
             ],
             [
              0.2222222222222222,
              "#7201a8"
             ],
             [
              0.3333333333333333,
              "#9c179e"
             ],
             [
              0.4444444444444444,
              "#bd3786"
             ],
             [
              0.5555555555555556,
              "#d8576b"
             ],
             [
              0.6666666666666666,
              "#ed7953"
             ],
             [
              0.7777777777777778,
              "#fb9f3a"
             ],
             [
              0.8888888888888888,
              "#fdca26"
             ],
             [
              1,
              "#f0f921"
             ]
            ],
            "type": "contour"
           }
          ],
          "contourcarpet": [
           {
            "colorbar": {
             "outlinewidth": 0,
             "ticks": ""
            },
            "type": "contourcarpet"
           }
          ],
          "heatmap": [
           {
            "colorbar": {
             "outlinewidth": 0,
             "ticks": ""
            },
            "colorscale": [
             [
              0,
              "#0d0887"
             ],
             [
              0.1111111111111111,
              "#46039f"
             ],
             [
              0.2222222222222222,
              "#7201a8"
             ],
             [
              0.3333333333333333,
              "#9c179e"
             ],
             [
              0.4444444444444444,
              "#bd3786"
             ],
             [
              0.5555555555555556,
              "#d8576b"
             ],
             [
              0.6666666666666666,
              "#ed7953"
             ],
             [
              0.7777777777777778,
              "#fb9f3a"
             ],
             [
              0.8888888888888888,
              "#fdca26"
             ],
             [
              1,
              "#f0f921"
             ]
            ],
            "type": "heatmap"
           }
          ],
          "heatmapgl": [
           {
            "colorbar": {
             "outlinewidth": 0,
             "ticks": ""
            },
            "colorscale": [
             [
              0,
              "#0d0887"
             ],
             [
              0.1111111111111111,
              "#46039f"
             ],
             [
              0.2222222222222222,
              "#7201a8"
             ],
             [
              0.3333333333333333,
              "#9c179e"
             ],
             [
              0.4444444444444444,
              "#bd3786"
             ],
             [
              0.5555555555555556,
              "#d8576b"
             ],
             [
              0.6666666666666666,
              "#ed7953"
             ],
             [
              0.7777777777777778,
              "#fb9f3a"
             ],
             [
              0.8888888888888888,
              "#fdca26"
             ],
             [
              1,
              "#f0f921"
             ]
            ],
            "type": "heatmapgl"
           }
          ],
          "histogram": [
           {
            "marker": {
             "pattern": {
              "fillmode": "overlay",
              "size": 10,
              "solidity": 0.2
             }
            },
            "type": "histogram"
           }
          ],
          "histogram2d": [
           {
            "colorbar": {
             "outlinewidth": 0,
             "ticks": ""
            },
            "colorscale": [
             [
              0,
              "#0d0887"
             ],
             [
              0.1111111111111111,
              "#46039f"
             ],
             [
              0.2222222222222222,
              "#7201a8"
             ],
             [
              0.3333333333333333,
              "#9c179e"
             ],
             [
              0.4444444444444444,
              "#bd3786"
             ],
             [
              0.5555555555555556,
              "#d8576b"
             ],
             [
              0.6666666666666666,
              "#ed7953"
             ],
             [
              0.7777777777777778,
              "#fb9f3a"
             ],
             [
              0.8888888888888888,
              "#fdca26"
             ],
             [
              1,
              "#f0f921"
             ]
            ],
            "type": "histogram2d"
           }
          ],
          "histogram2dcontour": [
           {
            "colorbar": {
             "outlinewidth": 0,
             "ticks": ""
            },
            "colorscale": [
             [
              0,
              "#0d0887"
             ],
             [
              0.1111111111111111,
              "#46039f"
             ],
             [
              0.2222222222222222,
              "#7201a8"
             ],
             [
              0.3333333333333333,
              "#9c179e"
             ],
             [
              0.4444444444444444,
              "#bd3786"
             ],
             [
              0.5555555555555556,
              "#d8576b"
             ],
             [
              0.6666666666666666,
              "#ed7953"
             ],
             [
              0.7777777777777778,
              "#fb9f3a"
             ],
             [
              0.8888888888888888,
              "#fdca26"
             ],
             [
              1,
              "#f0f921"
             ]
            ],
            "type": "histogram2dcontour"
           }
          ],
          "mesh3d": [
           {
            "colorbar": {
             "outlinewidth": 0,
             "ticks": ""
            },
            "type": "mesh3d"
           }
          ],
          "parcoords": [
           {
            "line": {
             "colorbar": {
              "outlinewidth": 0,
              "ticks": ""
             }
            },
            "type": "parcoords"
           }
          ],
          "pie": [
           {
            "automargin": true,
            "type": "pie"
           }
          ],
          "scatter": [
           {
            "marker": {
             "line": {
              "color": "#283442"
             }
            },
            "type": "scatter"
           }
          ],
          "scatter3d": [
           {
            "line": {
             "colorbar": {
              "outlinewidth": 0,
              "ticks": ""
             }
            },
            "marker": {
             "colorbar": {
              "outlinewidth": 0,
              "ticks": ""
             }
            },
            "type": "scatter3d"
           }
          ],
          "scattercarpet": [
           {
            "marker": {
             "colorbar": {
              "outlinewidth": 0,
              "ticks": ""
             }
            },
            "type": "scattercarpet"
           }
          ],
          "scattergeo": [
           {
            "marker": {
             "colorbar": {
              "outlinewidth": 0,
              "ticks": ""
             }
            },
            "type": "scattergeo"
           }
          ],
          "scattergl": [
           {
            "marker": {
             "line": {
              "color": "#283442"
             }
            },
            "type": "scattergl"
           }
          ],
          "scattermapbox": [
           {
            "marker": {
             "colorbar": {
              "outlinewidth": 0,
              "ticks": ""
             }
            },
            "type": "scattermapbox"
           }
          ],
          "scatterpolar": [
           {
            "marker": {
             "colorbar": {
              "outlinewidth": 0,
              "ticks": ""
             }
            },
            "type": "scatterpolar"
           }
          ],
          "scatterpolargl": [
           {
            "marker": {
             "colorbar": {
              "outlinewidth": 0,
              "ticks": ""
             }
            },
            "type": "scatterpolargl"
           }
          ],
          "scatterternary": [
           {
            "marker": {
             "colorbar": {
              "outlinewidth": 0,
              "ticks": ""
             }
            },
            "type": "scatterternary"
           }
          ],
          "surface": [
           {
            "colorbar": {
             "outlinewidth": 0,
             "ticks": ""
            },
            "colorscale": [
             [
              0,
              "#0d0887"
             ],
             [
              0.1111111111111111,
              "#46039f"
             ],
             [
              0.2222222222222222,
              "#7201a8"
             ],
             [
              0.3333333333333333,
              "#9c179e"
             ],
             [
              0.4444444444444444,
              "#bd3786"
             ],
             [
              0.5555555555555556,
              "#d8576b"
             ],
             [
              0.6666666666666666,
              "#ed7953"
             ],
             [
              0.7777777777777778,
              "#fb9f3a"
             ],
             [
              0.8888888888888888,
              "#fdca26"
             ],
             [
              1,
              "#f0f921"
             ]
            ],
            "type": "surface"
           }
          ],
          "table": [
           {
            "cells": {
             "fill": {
              "color": "#506784"
             },
             "line": {
              "color": "rgb(17,17,17)"
             }
            },
            "header": {
             "fill": {
              "color": "#2a3f5f"
             },
             "line": {
              "color": "rgb(17,17,17)"
             }
            },
            "type": "table"
           }
          ]
         },
         "layout": {
          "annotationdefaults": {
           "arrowcolor": "#f2f5fa",
           "arrowhead": 0,
           "arrowwidth": 1
          },
          "autotypenumbers": "strict",
          "coloraxis": {
           "colorbar": {
            "outlinewidth": 0,
            "ticks": ""
           }
          },
          "colorscale": {
           "diverging": [
            [
             0,
             "#8e0152"
            ],
            [
             0.1,
             "#c51b7d"
            ],
            [
             0.2,
             "#de77ae"
            ],
            [
             0.3,
             "#f1b6da"
            ],
            [
             0.4,
             "#fde0ef"
            ],
            [
             0.5,
             "#f7f7f7"
            ],
            [
             0.6,
             "#e6f5d0"
            ],
            [
             0.7,
             "#b8e186"
            ],
            [
             0.8,
             "#7fbc41"
            ],
            [
             0.9,
             "#4d9221"
            ],
            [
             1,
             "#276419"
            ]
           ],
           "sequential": [
            [
             0,
             "#0d0887"
            ],
            [
             0.1111111111111111,
             "#46039f"
            ],
            [
             0.2222222222222222,
             "#7201a8"
            ],
            [
             0.3333333333333333,
             "#9c179e"
            ],
            [
             0.4444444444444444,
             "#bd3786"
            ],
            [
             0.5555555555555556,
             "#d8576b"
            ],
            [
             0.6666666666666666,
             "#ed7953"
            ],
            [
             0.7777777777777778,
             "#fb9f3a"
            ],
            [
             0.8888888888888888,
             "#fdca26"
            ],
            [
             1,
             "#f0f921"
            ]
           ],
           "sequentialminus": [
            [
             0,
             "#0d0887"
            ],
            [
             0.1111111111111111,
             "#46039f"
            ],
            [
             0.2222222222222222,
             "#7201a8"
            ],
            [
             0.3333333333333333,
             "#9c179e"
            ],
            [
             0.4444444444444444,
             "#bd3786"
            ],
            [
             0.5555555555555556,
             "#d8576b"
            ],
            [
             0.6666666666666666,
             "#ed7953"
            ],
            [
             0.7777777777777778,
             "#fb9f3a"
            ],
            [
             0.8888888888888888,
             "#fdca26"
            ],
            [
             1,
             "#f0f921"
            ]
           ]
          },
          "colorway": [
           "#636efa",
           "#EF553B",
           "#00cc96",
           "#ab63fa",
           "#FFA15A",
           "#19d3f3",
           "#FF6692",
           "#B6E880",
           "#FF97FF",
           "#FECB52"
          ],
          "font": {
           "color": "#f2f5fa"
          },
          "geo": {
           "bgcolor": "rgb(17,17,17)",
           "lakecolor": "rgb(17,17,17)",
           "landcolor": "rgb(17,17,17)",
           "showlakes": true,
           "showland": true,
           "subunitcolor": "#506784"
          },
          "hoverlabel": {
           "align": "left"
          },
          "hovermode": "closest",
          "mapbox": {
           "style": "dark"
          },
          "paper_bgcolor": "rgb(17,17,17)",
          "plot_bgcolor": "rgb(17,17,17)",
          "polar": {
           "angularaxis": {
            "gridcolor": "#506784",
            "linecolor": "#506784",
            "ticks": ""
           },
           "bgcolor": "rgb(17,17,17)",
           "radialaxis": {
            "gridcolor": "#506784",
            "linecolor": "#506784",
            "ticks": ""
           }
          },
          "scene": {
           "xaxis": {
            "backgroundcolor": "rgb(17,17,17)",
            "gridcolor": "#506784",
            "gridwidth": 2,
            "linecolor": "#506784",
            "showbackground": true,
            "ticks": "",
            "zerolinecolor": "#C8D4E3"
           },
           "yaxis": {
            "backgroundcolor": "rgb(17,17,17)",
            "gridcolor": "#506784",
            "gridwidth": 2,
            "linecolor": "#506784",
            "showbackground": true,
            "ticks": "",
            "zerolinecolor": "#C8D4E3"
           },
           "zaxis": {
            "backgroundcolor": "rgb(17,17,17)",
            "gridcolor": "#506784",
            "gridwidth": 2,
            "linecolor": "#506784",
            "showbackground": true,
            "ticks": "",
            "zerolinecolor": "#C8D4E3"
           }
          },
          "shapedefaults": {
           "line": {
            "color": "#f2f5fa"
           }
          },
          "sliderdefaults": {
           "bgcolor": "#C8D4E3",
           "bordercolor": "rgb(17,17,17)",
           "borderwidth": 1,
           "tickwidth": 0
          },
          "ternary": {
           "aaxis": {
            "gridcolor": "#506784",
            "linecolor": "#506784",
            "ticks": ""
           },
           "baxis": {
            "gridcolor": "#506784",
            "linecolor": "#506784",
            "ticks": ""
           },
           "bgcolor": "rgb(17,17,17)",
           "caxis": {
            "gridcolor": "#506784",
            "linecolor": "#506784",
            "ticks": ""
           }
          },
          "title": {
           "x": 0.05
          },
          "updatemenudefaults": {
           "bgcolor": "#506784",
           "borderwidth": 0
          },
          "xaxis": {
           "automargin": true,
           "gridcolor": "#283442",
           "linecolor": "#506784",
           "ticks": "",
           "title": {
            "standoff": 15
           },
           "zerolinecolor": "#283442",
           "zerolinewidth": 2
          },
          "yaxis": {
           "automargin": true,
           "gridcolor": "#283442",
           "linecolor": "#506784",
           "ticks": "",
           "title": {
            "standoff": 15
           },
           "zerolinecolor": "#283442",
           "zerolinewidth": 2
          }
         }
        },
        "title": {
         "text": "Percentage of Department Type"
        },
        "xaxis": {
         "anchor": "y",
         "domain": [
          0,
          1
         ],
         "title": {
          "text": "Department"
         }
        },
        "yaxis": {
         "anchor": "x",
         "domain": [
          0,
          1
         ],
         "title": {
          "text": "count"
         }
        }
       }
      }
     },
     "metadata": {},
     "output_type": "display_data"
    }
   ],
   "source": [
    "px.histogram(data_df,x=\"Department\",color=\"Attrition\",barmode=\"group\",text_auto=\".2f\",template=\"plotly_dark\",\n",
    "             title = \"Percentage of Department Type\")"
   ]
  },
  {
   "cell_type": "code",
   "execution_count": 31,
   "metadata": {},
   "outputs": [
    {
     "data": {
      "application/vnd.plotly.v1+json": {
       "config": {
        "plotlyServerURL": "https://plot.ly"
       },
       "data": [
        {
         "alignmentgroup": "True",
         "bingroup": "x",
         "hovertemplate": "Attrition=No<br>EducationField=%{x}<br>count=%{y}<extra></extra>",
         "legendgroup": "No",
         "marker": {
          "color": "#636efa",
          "pattern": {
           "shape": ""
          }
         },
         "name": "No",
         "offsetgroup": "No",
         "orientation": "v",
         "showlegend": true,
         "texttemplate": "%{value:.2f}",
         "type": "histogram",
         "x": [
          "Life Sciences",
          "Life Sciences",
          "Life Sciences",
          "Medical",
          "Life Sciences",
          "Medical",
          "Life Sciences",
          "Life Sciences",
          "Medical",
          "Medical",
          "Life Sciences",
          "Life Sciences",
          "Medical",
          "Life Sciences",
          "Life Sciences",
          "Medical",
          "Life Sciences",
          "Life Sciences",
          "Other",
          "Life Sciences",
          "Life Sciences",
          "Life Sciences",
          "Medical",
          "Other",
          "Marketing",
          "Medical",
          "Marketing",
          "Medical",
          "Other",
          "Medical",
          "Technical Degree",
          "Medical",
          "Marketing",
          "Life Sciences",
          "Life Sciences",
          "Other",
          "Life Sciences",
          "Life Sciences",
          "Medical",
          "Technical Degree",
          "Marketing",
          "Life Sciences",
          "Marketing",
          "Life Sciences",
          "Marketing",
          "Medical",
          "Life Sciences",
          "Life Sciences",
          "Medical",
          "Life Sciences",
          "Life Sciences",
          "Medical",
          "Life Sciences",
          "Medical",
          "Life Sciences",
          "Technical Degree",
          "Medical",
          "Life Sciences",
          "Life Sciences",
          "Medical",
          "Life Sciences",
          "Life Sciences",
          "Medical",
          "Life Sciences",
          "Life Sciences",
          "Life Sciences",
          "Marketing",
          "Other",
          "Medical",
          "Medical",
          "Life Sciences",
          "Medical",
          "Life Sciences",
          "Medical",
          "Medical",
          "Life Sciences",
          "Technical Degree",
          "Life Sciences",
          "Life Sciences",
          "Medical",
          "Life Sciences",
          "Marketing",
          "Medical",
          "Medical",
          "Medical",
          "Technical Degree",
          "Other",
          "Medical",
          "Medical",
          "Medical",
          "Life Sciences",
          "Other",
          "Life Sciences",
          "Human Resources",
          "Life Sciences",
          "Medical",
          "Medical",
          "Medical",
          "Human Resources",
          "Life Sciences",
          "Life Sciences",
          "Life Sciences",
          "Medical",
          "Technical Degree",
          "Life Sciences",
          "Life Sciences",
          "Life Sciences",
          "Marketing",
          "Life Sciences",
          "Other",
          "Medical",
          "Technical Degree",
          "Medical",
          "Medical",
          "Marketing",
          "Life Sciences",
          "Life Sciences",
          "Medical",
          "Life Sciences",
          "Life Sciences",
          "Human Resources",
          "Medical",
          "Technical Degree",
          "Life Sciences",
          "Medical",
          "Technical Degree",
          "Medical",
          "Life Sciences",
          "Life Sciences",
          "Medical",
          "Medical",
          "Marketing",
          "Marketing",
          "Life Sciences",
          "Marketing",
          "Technical Degree",
          "Medical",
          "Medical",
          "Marketing",
          "Marketing",
          "Medical",
          "Medical",
          "Medical",
          "Life Sciences",
          "Life Sciences",
          "Life Sciences",
          "Life Sciences",
          "Life Sciences",
          "Life Sciences",
          "Technical Degree",
          "Medical",
          "Medical",
          "Life Sciences",
          "Life Sciences",
          "Life Sciences",
          "Marketing",
          "Life Sciences",
          "Medical",
          "Medical",
          "Medical",
          "Medical",
          "Medical",
          "Medical",
          "Medical",
          "Life Sciences",
          "Medical",
          "Life Sciences",
          "Medical",
          "Medical",
          "Medical",
          "Life Sciences",
          "Medical",
          "Medical",
          "Life Sciences",
          "Technical Degree",
          "Technical Degree",
          "Life Sciences",
          "Medical",
          "Medical",
          "Marketing",
          "Life Sciences",
          "Medical",
          "Life Sciences",
          "Medical",
          "Medical",
          "Life Sciences",
          "Life Sciences",
          "Life Sciences",
          "Life Sciences",
          "Technical Degree",
          "Medical",
          "Marketing",
          "Life Sciences",
          "Medical",
          "Other",
          "Life Sciences",
          "Medical",
          "Life Sciences",
          "Marketing",
          "Medical",
          "Marketing",
          "Life Sciences",
          "Technical Degree",
          "Medical",
          "Medical",
          "Marketing",
          "Life Sciences",
          "Life Sciences",
          "Medical",
          "Marketing",
          "Life Sciences",
          "Technical Degree",
          "Other",
          "Medical",
          "Life Sciences",
          "Life Sciences",
          "Medical",
          "Life Sciences",
          "Medical",
          "Technical Degree",
          "Life Sciences",
          "Life Sciences",
          "Marketing",
          "Life Sciences",
          "Medical",
          "Medical",
          "Life Sciences",
          "Medical",
          "Life Sciences",
          "Life Sciences",
          "Technical Degree",
          "Technical Degree",
          "Medical",
          "Medical",
          "Life Sciences",
          "Medical",
          "Life Sciences",
          "Medical",
          "Medical",
          "Medical",
          "Medical",
          "Medical",
          "Life Sciences",
          "Medical",
          "Life Sciences",
          "Life Sciences",
          "Medical",
          "Life Sciences",
          "Life Sciences",
          "Technical Degree",
          "Medical",
          "Life Sciences",
          "Life Sciences",
          "Life Sciences",
          "Life Sciences",
          "Technical Degree",
          "Marketing",
          "Medical",
          "Marketing",
          "Life Sciences",
          "Marketing",
          "Life Sciences",
          "Medical",
          "Life Sciences",
          "Medical",
          "Technical Degree",
          "Medical",
          "Life Sciences",
          "Life Sciences",
          "Life Sciences",
          "Life Sciences",
          "Technical Degree",
          "Human Resources",
          "Life Sciences",
          "Life Sciences",
          "Life Sciences",
          "Medical",
          "Life Sciences",
          "Technical Degree",
          "Medical",
          "Life Sciences",
          "Technical Degree",
          "Life Sciences",
          "Marketing",
          "Medical",
          "Medical",
          "Life Sciences",
          "Medical",
          "Marketing",
          "Life Sciences",
          "Life Sciences",
          "Marketing",
          "Life Sciences",
          "Life Sciences",
          "Other",
          "Medical",
          "Other",
          "Marketing",
          "Marketing",
          "Medical",
          "Life Sciences",
          "Medical",
          "Marketing",
          "Technical Degree",
          "Life Sciences",
          "Medical",
          "Medical",
          "Life Sciences",
          "Life Sciences",
          "Technical Degree",
          "Medical",
          "Medical",
          "Medical",
          "Life Sciences",
          "Other",
          "Medical",
          "Medical",
          "Medical",
          "Life Sciences",
          "Medical",
          "Medical",
          "Medical",
          "Marketing",
          "Technical Degree",
          "Marketing",
          "Life Sciences",
          "Life Sciences",
          "Medical",
          "Life Sciences",
          "Other",
          "Life Sciences",
          "Life Sciences",
          "Life Sciences",
          "Marketing",
          "Technical Degree",
          "Technical Degree",
          "Medical",
          "Medical",
          "Life Sciences",
          "Marketing",
          "Life Sciences",
          "Life Sciences",
          "Life Sciences",
          "Medical",
          "Medical",
          "Marketing",
          "Medical",
          "Medical",
          "Other",
          "Life Sciences",
          "Medical",
          "Life Sciences",
          "Life Sciences",
          "Life Sciences",
          "Technical Degree",
          "Marketing",
          "Medical",
          "Medical",
          "Life Sciences",
          "Life Sciences",
          "Life Sciences",
          "Life Sciences",
          "Life Sciences",
          "Medical",
          "Technical Degree",
          "Marketing",
          "Life Sciences",
          "Life Sciences",
          "Life Sciences",
          "Life Sciences",
          "Medical",
          "Other",
          "Marketing",
          "Life Sciences",
          "Medical",
          "Marketing",
          "Medical",
          "Life Sciences",
          "Life Sciences",
          "Life Sciences",
          "Life Sciences",
          "Life Sciences",
          "Medical",
          "Marketing",
          "Life Sciences",
          "Other",
          "Medical",
          "Technical Degree",
          "Marketing",
          "Life Sciences",
          "Life Sciences",
          "Marketing",
          "Life Sciences",
          "Life Sciences",
          "Life Sciences",
          "Medical",
          "Other",
          "Technical Degree",
          "Medical",
          "Life Sciences",
          "Other",
          "Other",
          "Medical",
          "Medical",
          "Life Sciences",
          "Technical Degree",
          "Medical",
          "Life Sciences",
          "Medical",
          "Technical Degree",
          "Other",
          "Medical",
          "Medical",
          "Life Sciences",
          "Life Sciences",
          "Medical",
          "Marketing",
          "Other",
          "Medical",
          "Medical",
          "Life Sciences",
          "Medical",
          "Other",
          "Medical",
          "Medical",
          "Marketing",
          "Life Sciences",
          "Other",
          "Life Sciences",
          "Medical",
          "Life Sciences",
          "Life Sciences",
          "Technical Degree",
          "Marketing",
          "Technical Degree",
          "Other",
          "Medical",
          "Marketing",
          "Life Sciences",
          "Medical",
          "Medical",
          "Life Sciences",
          "Life Sciences",
          "Other",
          "Medical",
          "Life Sciences",
          "Life Sciences",
          "Medical",
          "Medical",
          "Medical",
          "Life Sciences",
          "Medical",
          "Life Sciences",
          "Marketing",
          "Life Sciences",
          "Marketing",
          "Medical",
          "Life Sciences",
          "Medical",
          "Medical",
          "Life Sciences",
          "Technical Degree",
          "Marketing",
          "Technical Degree",
          "Life Sciences",
          "Life Sciences",
          "Life Sciences",
          "Marketing",
          "Life Sciences",
          "Life Sciences",
          "Human Resources",
          "Marketing",
          "Life Sciences",
          "Human Resources",
          "Marketing",
          "Life Sciences",
          "Life Sciences",
          "Medical",
          "Medical",
          "Marketing",
          "Life Sciences",
          "Life Sciences",
          "Medical",
          "Medical",
          "Human Resources",
          "Medical",
          "Medical",
          "Medical",
          "Marketing",
          "Life Sciences",
          "Life Sciences",
          "Life Sciences",
          "Medical",
          "Life Sciences",
          "Marketing",
          "Medical",
          "Technical Degree",
          "Medical",
          "Other",
          "Life Sciences",
          "Medical",
          "Life Sciences",
          "Medical",
          "Life Sciences",
          "Medical",
          "Marketing",
          "Life Sciences",
          "Life Sciences",
          "Medical",
          "Life Sciences",
          "Life Sciences",
          "Medical",
          "Life Sciences",
          "Life Sciences",
          "Life Sciences",
          "Life Sciences",
          "Medical",
          "Medical",
          "Other",
          "Other",
          "Life Sciences",
          "Life Sciences",
          "Life Sciences",
          "Medical",
          "Human Resources",
          "Life Sciences",
          "Medical",
          "Medical",
          "Life Sciences",
          "Life Sciences",
          "Life Sciences",
          "Life Sciences",
          "Marketing",
          "Medical",
          "Life Sciences",
          "Technical Degree",
          "Other",
          "Marketing",
          "Human Resources",
          "Medical",
          "Marketing",
          "Medical",
          "Medical",
          "Medical",
          "Medical",
          "Life Sciences",
          "Life Sciences",
          "Life Sciences",
          "Marketing",
          "Marketing",
          "Medical",
          "Medical",
          "Marketing",
          "Medical",
          "Life Sciences",
          "Life Sciences",
          "Medical",
          "Life Sciences",
          "Other",
          "Life Sciences",
          "Life Sciences",
          "Marketing",
          "Technical Degree",
          "Life Sciences",
          "Life Sciences",
          "Marketing",
          "Life Sciences",
          "Life Sciences",
          "Marketing",
          "Technical Degree",
          "Medical",
          "Life Sciences",
          "Life Sciences",
          "Marketing",
          "Medical",
          "Life Sciences",
          "Life Sciences",
          "Human Resources",
          "Medical",
          "Life Sciences",
          "Medical",
          "Life Sciences",
          "Life Sciences",
          "Life Sciences",
          "Life Sciences",
          "Medical",
          "Life Sciences",
          "Life Sciences",
          "Medical",
          "Other",
          "Technical Degree",
          "Life Sciences",
          "Life Sciences",
          "Other",
          "Medical",
          "Marketing",
          "Other",
          "Technical Degree",
          "Life Sciences",
          "Marketing",
          "Medical",
          "Medical",
          "Medical",
          "Medical",
          "Medical",
          "Medical",
          "Life Sciences",
          "Life Sciences",
          "Life Sciences",
          "Technical Degree",
          "Medical",
          "Life Sciences",
          "Technical Degree",
          "Medical",
          "Other",
          "Technical Degree",
          "Life Sciences",
          "Life Sciences",
          "Medical",
          "Technical Degree",
          "Life Sciences",
          "Life Sciences",
          "Medical",
          "Medical",
          "Other",
          "Medical",
          "Technical Degree",
          "Life Sciences",
          "Life Sciences",
          "Life Sciences",
          "Medical",
          "Medical",
          "Medical",
          "Life Sciences",
          "Life Sciences",
          "Technical Degree",
          "Medical",
          "Life Sciences",
          "Medical",
          "Medical",
          "Life Sciences",
          "Life Sciences",
          "Life Sciences",
          "Medical",
          "Life Sciences",
          "Other",
          "Marketing",
          "Life Sciences",
          "Life Sciences",
          "Medical",
          "Life Sciences",
          "Life Sciences",
          "Marketing",
          "Medical",
          "Life Sciences",
          "Life Sciences",
          "Medical",
          "Life Sciences",
          "Life Sciences",
          "Medical",
          "Marketing",
          "Technical Degree",
          "Medical",
          "Marketing",
          "Other",
          "Life Sciences",
          "Medical",
          "Other",
          "Medical",
          "Other",
          "Marketing",
          "Medical",
          "Medical",
          "Life Sciences",
          "Medical",
          "Medical",
          "Medical",
          "Medical",
          "Life Sciences",
          "Life Sciences",
          "Technical Degree",
          "Medical",
          "Other",
          "Technical Degree",
          "Life Sciences",
          "Technical Degree",
          "Life Sciences",
          "Life Sciences",
          "Other",
          "Medical",
          "Life Sciences",
          "Medical",
          "Life Sciences",
          "Life Sciences",
          "Life Sciences",
          "Technical Degree",
          "Medical",
          "Medical",
          "Other",
          "Life Sciences",
          "Life Sciences",
          "Medical",
          "Life Sciences",
          "Life Sciences",
          "Marketing",
          "Life Sciences",
          "Medical",
          "Marketing",
          "Marketing",
          "Life Sciences",
          "Life Sciences",
          "Medical",
          "Life Sciences",
          "Life Sciences",
          "Life Sciences",
          "Life Sciences",
          "Marketing",
          "Technical Degree",
          "Life Sciences",
          "Life Sciences",
          "Medical",
          "Medical",
          "Human Resources",
          "Life Sciences",
          "Life Sciences",
          "Medical",
          "Medical",
          "Life Sciences",
          "Life Sciences",
          "Technical Degree",
          "Medical",
          "Life Sciences",
          "Marketing",
          "Medical",
          "Medical",
          "Medical",
          "Marketing",
          "Medical",
          "Life Sciences",
          "Medical",
          "Other",
          "Life Sciences",
          "Technical Degree",
          "Medical",
          "Life Sciences",
          "Medical",
          "Life Sciences",
          "Medical",
          "Marketing",
          "Life Sciences",
          "Human Resources",
          "Life Sciences",
          "Medical",
          "Medical",
          "Medical",
          "Life Sciences",
          "Life Sciences",
          "Medical",
          "Life Sciences",
          "Life Sciences",
          "Other",
          "Marketing",
          "Technical Degree",
          "Medical",
          "Marketing",
          "Other",
          "Life Sciences",
          "Technical Degree",
          "Medical",
          "Technical Degree",
          "Life Sciences",
          "Medical",
          "Medical",
          "Marketing",
          "Life Sciences",
          "Life Sciences",
          "Life Sciences",
          "Life Sciences",
          "Life Sciences",
          "Medical",
          "Medical",
          "Life Sciences",
          "Life Sciences",
          "Medical",
          "Technical Degree",
          "Technical Degree",
          "Life Sciences",
          "Life Sciences",
          "Life Sciences",
          "Life Sciences",
          "Technical Degree",
          "Marketing",
          "Marketing",
          "Life Sciences",
          "Life Sciences",
          "Life Sciences",
          "Marketing",
          "Medical",
          "Marketing",
          "Marketing",
          "Life Sciences",
          "Medical",
          "Medical",
          "Life Sciences",
          "Life Sciences",
          "Life Sciences",
          "Medical",
          "Marketing",
          "Life Sciences",
          "Medical",
          "Life Sciences",
          "Medical",
          "Medical",
          "Technical Degree",
          "Medical",
          "Medical",
          "Medical",
          "Medical",
          "Life Sciences",
          "Life Sciences",
          "Technical Degree",
          "Technical Degree",
          "Life Sciences",
          "Life Sciences",
          "Life Sciences",
          "Medical",
          "Life Sciences",
          "Life Sciences",
          "Medical",
          "Life Sciences",
          "Life Sciences",
          "Medical",
          "Life Sciences",
          "Life Sciences",
          "Life Sciences",
          "Life Sciences",
          "Marketing",
          "Life Sciences",
          "Life Sciences",
          "Life Sciences",
          "Medical",
          "Medical",
          "Life Sciences",
          "Marketing",
          "Life Sciences",
          "Medical",
          "Technical Degree",
          "Life Sciences",
          "Medical",
          "Life Sciences",
          "Life Sciences",
          "Technical Degree",
          "Medical",
          "Medical",
          "Life Sciences",
          "Technical Degree",
          "Life Sciences",
          "Life Sciences",
          "Marketing",
          "Life Sciences",
          "Life Sciences",
          "Life Sciences",
          "Marketing",
          "Life Sciences",
          "Life Sciences",
          "Medical",
          "Medical",
          "Marketing",
          "Medical",
          "Human Resources",
          "Other",
          "Medical",
          "Life Sciences",
          "Technical Degree",
          "Other",
          "Other",
          "Life Sciences",
          "Medical",
          "Medical",
          "Medical",
          "Marketing",
          "Marketing",
          "Life Sciences",
          "Other",
          "Life Sciences",
          "Life Sciences",
          "Marketing",
          "Technical Degree",
          "Technical Degree",
          "Life Sciences",
          "Medical",
          "Medical",
          "Marketing",
          "Life Sciences",
          "Medical",
          "Other",
          "Life Sciences",
          "Marketing",
          "Life Sciences",
          "Medical",
          "Medical",
          "Technical Degree",
          "Marketing",
          "Technical Degree",
          "Medical",
          "Medical",
          "Life Sciences",
          "Medical",
          "Technical Degree",
          "Medical",
          "Life Sciences",
          "Medical",
          "Other",
          "Life Sciences",
          "Medical",
          "Marketing",
          "Technical Degree",
          "Life Sciences",
          "Life Sciences",
          "Medical",
          "Technical Degree",
          "Life Sciences",
          "Life Sciences",
          "Medical",
          "Life Sciences",
          "Life Sciences",
          "Life Sciences",
          "Medical",
          "Medical",
          "Life Sciences",
          "Life Sciences",
          "Medical",
          "Life Sciences",
          "Life Sciences",
          "Life Sciences",
          "Medical",
          "Medical",
          "Life Sciences",
          "Life Sciences",
          "Life Sciences",
          "Life Sciences",
          "Life Sciences",
          "Technical Degree",
          "Medical",
          "Technical Degree",
          "Medical",
          "Medical",
          "Other",
          "Life Sciences",
          "Technical Degree",
          "Life Sciences",
          "Medical",
          "Life Sciences",
          "Medical",
          "Technical Degree",
          "Life Sciences",
          "Technical Degree",
          "Life Sciences",
          "Life Sciences",
          "Life Sciences",
          "Life Sciences",
          "Life Sciences",
          "Life Sciences",
          "Life Sciences",
          "Human Resources",
          "Medical",
          "Technical Degree",
          "Technical Degree",
          "Medical",
          "Technical Degree",
          "Other",
          "Medical",
          "Marketing",
          "Life Sciences",
          "Life Sciences",
          "Life Sciences",
          "Life Sciences",
          "Life Sciences",
          "Medical",
          "Medical",
          "Medical",
          "Life Sciences",
          "Marketing",
          "Technical Degree",
          "Life Sciences",
          "Other",
          "Life Sciences",
          "Technical Degree",
          "Life Sciences",
          "Technical Degree",
          "Life Sciences",
          "Life Sciences",
          "Medical",
          "Other",
          "Medical",
          "Medical",
          "Medical",
          "Marketing",
          "Other",
          "Life Sciences",
          "Life Sciences",
          "Life Sciences",
          "Medical",
          "Other",
          "Life Sciences",
          "Medical",
          "Medical",
          "Life Sciences",
          "Medical",
          "Life Sciences",
          "Life Sciences",
          "Life Sciences",
          "Medical",
          "Other",
          "Medical",
          "Medical",
          "Medical",
          "Life Sciences",
          "Human Resources",
          "Medical",
          "Medical",
          "Medical",
          "Medical",
          "Life Sciences",
          "Life Sciences",
          "Medical",
          "Other",
          "Life Sciences",
          "Medical",
          "Life Sciences",
          "Life Sciences",
          "Life Sciences",
          "Medical",
          "Life Sciences",
          "Medical",
          "Life Sciences",
          "Other",
          "Life Sciences",
          "Medical",
          "Medical",
          "Medical",
          "Life Sciences",
          "Medical",
          "Medical",
          "Life Sciences",
          "Life Sciences",
          "Life Sciences",
          "Life Sciences",
          "Life Sciences",
          "Life Sciences",
          "Life Sciences",
          "Medical",
          "Medical",
          "Medical",
          "Life Sciences",
          "Medical",
          "Technical Degree",
          "Medical",
          "Medical",
          "Medical",
          "Medical",
          "Life Sciences",
          "Life Sciences",
          "Life Sciences",
          "Medical",
          "Medical",
          "Medical",
          "Marketing",
          "Medical",
          "Life Sciences",
          "Life Sciences",
          "Medical",
          "Technical Degree",
          "Life Sciences",
          "Life Sciences",
          "Human Resources",
          "Life Sciences",
          "Medical",
          "Life Sciences",
          "Life Sciences",
          "Life Sciences",
          "Marketing",
          "Life Sciences",
          "Marketing",
          "Medical",
          "Technical Degree",
          "Life Sciences",
          "Life Sciences",
          "Medical",
          "Life Sciences",
          "Technical Degree",
          "Medical",
          "Technical Degree",
          "Medical",
          "Life Sciences",
          "Marketing",
          "Medical",
          "Marketing",
          "Marketing",
          "Medical",
          "Technical Degree",
          "Life Sciences",
          "Technical Degree",
          "Medical",
          "Medical",
          "Medical",
          "Technical Degree",
          "Life Sciences",
          "Life Sciences",
          "Medical",
          "Life Sciences",
          "Life Sciences",
          "Other",
          "Marketing",
          "Technical Degree",
          "Marketing",
          "Medical",
          "Life Sciences",
          "Medical",
          "Other",
          "Life Sciences",
          "Life Sciences",
          "Medical",
          "Life Sciences",
          "Life Sciences",
          "Medical",
          "Medical",
          "Human Resources",
          "Life Sciences",
          "Medical",
          "Life Sciences",
          "Life Sciences",
          "Life Sciences",
          "Marketing",
          "Medical",
          "Medical",
          "Medical",
          "Life Sciences",
          "Technical Degree",
          "Medical",
          "Medical",
          "Life Sciences",
          "Life Sciences",
          "Medical",
          "Marketing",
          "Medical",
          "Marketing",
          "Medical",
          "Life Sciences",
          "Human Resources",
          "Life Sciences",
          "Other",
          "Life Sciences",
          "Life Sciences",
          "Medical",
          "Marketing",
          "Technical Degree",
          "Life Sciences",
          "Life Sciences",
          "Life Sciences",
          "Life Sciences",
          "Life Sciences",
          "Technical Degree",
          "Medical",
          "Medical",
          "Medical",
          "Life Sciences",
          "Life Sciences",
          "Life Sciences",
          "Other",
          "Technical Degree",
          "Medical",
          "Technical Degree",
          "Life Sciences",
          "Life Sciences",
          "Life Sciences",
          "Medical",
          "Other",
          "Life Sciences",
          "Human Resources",
          "Life Sciences",
          "Life Sciences",
          "Medical",
          "Life Sciences",
          "Marketing",
          "Marketing",
          "Medical",
          "Medical",
          "Medical",
          "Medical",
          "Other",
          "Medical",
          "Marketing",
          "Life Sciences",
          "Life Sciences",
          "Technical Degree",
          "Other",
          "Technical Degree",
          "Marketing",
          "Medical",
          "Medical",
          "Life Sciences",
          "Life Sciences",
          "Life Sciences",
          "Marketing",
          "Medical",
          "Medical",
          "Medical",
          "Life Sciences",
          "Marketing",
          "Medical",
          "Medical",
          "Life Sciences",
          "Medical",
          "Life Sciences",
          "Technical Degree",
          "Life Sciences",
          "Life Sciences",
          "Marketing",
          "Life Sciences",
          "Life Sciences",
          "Life Sciences",
          "Life Sciences",
          "Other",
          "Human Resources",
          "Medical",
          "Marketing",
          "Life Sciences",
          "Medical",
          "Medical",
          "Life Sciences",
          "Other",
          "Technical Degree",
          "Marketing",
          "Human Resources",
          "Medical",
          "Other",
          "Medical",
          "Medical",
          "Life Sciences",
          "Life Sciences",
          "Life Sciences",
          "Life Sciences",
          "Life Sciences",
          "Medical",
          "Medical",
          "Life Sciences",
          "Medical",
          "Medical",
          "Life Sciences",
          "Life Sciences",
          "Medical",
          "Life Sciences",
          "Medical",
          "Marketing",
          "Life Sciences",
          "Other",
          "Life Sciences",
          "Medical",
          "Life Sciences",
          "Medical",
          "Life Sciences",
          "Life Sciences",
          "Life Sciences",
          "Technical Degree",
          "Life Sciences",
          "Marketing",
          "Marketing",
          "Life Sciences",
          "Technical Degree",
          "Life Sciences",
          "Life Sciences",
          "Life Sciences",
          "Marketing",
          "Life Sciences",
          "Life Sciences",
          "Life Sciences",
          "Medical",
          "Life Sciences",
          "Other",
          "Medical",
          "Marketing",
          "Medical",
          "Other",
          "Medical",
          "Medical",
          "Life Sciences",
          "Medical",
          "Medical",
          "Life Sciences",
          "Life Sciences",
          "Other",
          "Life Sciences",
          "Life Sciences",
          "Life Sciences",
          "Life Sciences",
          "Life Sciences",
          "Technical Degree",
          "Technical Degree",
          "Medical",
          "Medical",
          "Human Resources",
          "Life Sciences",
          "Life Sciences",
          "Marketing",
          "Life Sciences",
          "Life Sciences",
          "Technical Degree",
          "Technical Degree",
          "Life Sciences",
          "Life Sciences",
          "Life Sciences",
          "Marketing",
          "Medical",
          "Life Sciences",
          "Life Sciences",
          "Life Sciences",
          "Life Sciences",
          "Medical",
          "Medical",
          "Life Sciences",
          "Life Sciences",
          "Life Sciences",
          "Marketing",
          "Life Sciences",
          "Life Sciences",
          "Marketing",
          "Life Sciences",
          "Life Sciences",
          "Technical Degree",
          "Medical",
          "Medical",
          "Life Sciences",
          "Life Sciences",
          "Other",
          "Life Sciences",
          "Other",
          "Medical",
          "Life Sciences",
          "Life Sciences",
          "Life Sciences",
          "Other",
          "Medical",
          "Medical",
          "Medical",
          "Medical",
          "Life Sciences",
          "Medical",
          "Marketing",
          "Life Sciences",
          "Life Sciences",
          "Technical Degree",
          "Life Sciences",
          "Medical",
          "Marketing",
          "Technical Degree",
          "Life Sciences",
          "Medical",
          "Life Sciences",
          "Life Sciences",
          "Marketing",
          "Life Sciences",
          "Medical",
          "Medical",
          "Medical",
          "Marketing",
          "Technical Degree",
          "Technical Degree",
          "Life Sciences",
          "Life Sciences",
          "Marketing",
          "Life Sciences",
          "Medical",
          "Medical",
          "Medical",
          "Life Sciences",
          "Life Sciences",
          "Life Sciences",
          "Marketing",
          "Medical",
          "Marketing",
          "Marketing",
          "Life Sciences",
          "Marketing",
          "Technical Degree",
          "Medical",
          "Medical",
          "Marketing",
          "Marketing",
          "Life Sciences",
          "Medical",
          "Life Sciences",
          "Medical",
          "Medical",
          "Medical",
          "Marketing",
          "Other",
          "Medical",
          "Marketing",
          "Life Sciences",
          "Medical",
          "Human Resources",
          "Life Sciences",
          "Life Sciences",
          "Life Sciences",
          "Medical",
          "Life Sciences",
          "Technical Degree",
          "Life Sciences",
          "Life Sciences",
          "Life Sciences",
          "Medical",
          "Life Sciences",
          "Technical Degree",
          "Technical Degree",
          "Medical",
          "Medical",
          "Medical",
          "Life Sciences",
          "Medical",
          "Life Sciences",
          "Life Sciences",
          "Other",
          "Life Sciences",
          "Life Sciences",
          "Life Sciences",
          "Marketing",
          "Medical",
          "Technical Degree",
          "Marketing",
          "Life Sciences",
          "Life Sciences",
          "Life Sciences",
          "Life Sciences",
          "Life Sciences",
          "Medical",
          "Life Sciences",
          "Life Sciences",
          "Medical",
          "Marketing",
          "Marketing",
          "Marketing",
          "Life Sciences",
          "Life Sciences",
          "Life Sciences",
          "Medical",
          "Marketing",
          "Medical",
          "Technical Degree",
          "Medical",
          "Medical",
          "Medical",
          "Medical",
          "Medical",
          "Marketing",
          "Life Sciences",
          "Medical",
          "Marketing",
          "Marketing",
          "Medical",
          "Life Sciences",
          "Marketing",
          "Medical",
          "Life Sciences",
          "Medical",
          "Medical",
          "Life Sciences",
          "Marketing",
          "Life Sciences",
          "Medical",
          "Life Sciences",
          "Medical",
          "Technical Degree",
          "Marketing",
          "Life Sciences",
          "Life Sciences",
          "Medical"
         ],
         "xaxis": "x",
         "yaxis": "y"
        },
        {
         "alignmentgroup": "True",
         "bingroup": "x",
         "hovertemplate": "Attrition=Yes<br>EducationField=%{x}<br>count=%{y}<extra></extra>",
         "legendgroup": "Yes",
         "marker": {
          "color": "#EF553B",
          "pattern": {
           "shape": ""
          }
         },
         "name": "Yes",
         "offsetgroup": "Yes",
         "orientation": "v",
         "showlegend": true,
         "texttemplate": "%{value:.2f}",
         "type": "histogram",
         "x": [
          "Other",
          "Life Sciences",
          "Life Sciences",
          "Medical",
          "Marketing",
          "Life Sciences",
          "Life Sciences",
          "Technical Degree",
          "Marketing",
          "Medical",
          "Human Resources",
          "Life Sciences",
          "Marketing",
          "Life Sciences",
          "Life Sciences",
          "Life Sciences",
          "Marketing",
          "Life Sciences",
          "Life Sciences",
          "Medical",
          "Medical",
          "Technical Degree",
          "Life Sciences",
          "Marketing",
          "Life Sciences",
          "Medical",
          "Technical Degree",
          "Marketing",
          "Medical",
          "Medical",
          "Life Sciences",
          "Life Sciences",
          "Life Sciences",
          "Life Sciences",
          "Life Sciences",
          "Medical",
          "Marketing",
          "Medical",
          "Medical",
          "Medical",
          "Other",
          "Technical Degree",
          "Technical Degree",
          "Marketing",
          "Life Sciences",
          "Life Sciences",
          "Marketing",
          "Technical Degree",
          "Medical",
          "Technical Degree",
          "Technical Degree",
          "Technical Degree",
          "Medical",
          "Life Sciences",
          "Human Resources",
          "Life Sciences",
          "Marketing",
          "Technical Degree",
          "Life Sciences",
          "Life Sciences",
          "Life Sciences",
          "Medical",
          "Life Sciences",
          "Life Sciences",
          "Medical",
          "Other",
          "Life Sciences",
          "Medical",
          "Technical Degree",
          "Life Sciences",
          "Life Sciences",
          "Marketing",
          "Life Sciences",
          "Medical",
          "Life Sciences",
          "Medical",
          "Life Sciences",
          "Life Sciences",
          "Medical",
          "Other",
          "Life Sciences",
          "Medical",
          "Marketing",
          "Other",
          "Technical Degree",
          "Life Sciences",
          "Life Sciences",
          "Medical",
          "Life Sciences",
          "Life Sciences",
          "Other",
          "Medical",
          "Medical",
          "Medical",
          "Life Sciences",
          "Marketing",
          "Life Sciences",
          "Technical Degree",
          "Medical",
          "Medical",
          "Technical Degree",
          "Medical",
          "Marketing",
          "Life Sciences",
          "Life Sciences",
          "Marketing",
          "Life Sciences",
          "Life Sciences",
          "Life Sciences",
          "Life Sciences",
          "Life Sciences",
          "Life Sciences",
          "Medical",
          "Life Sciences",
          "Life Sciences",
          "Medical",
          "Technical Degree",
          "Medical",
          "Marketing",
          "Life Sciences",
          "Life Sciences",
          "Medical",
          "Marketing",
          "Life Sciences",
          "Marketing",
          "Medical",
          "Life Sciences",
          "Other",
          "Life Sciences",
          "Life Sciences",
          "Life Sciences",
          "Life Sciences",
          "Life Sciences",
          "Technical Degree",
          "Medical",
          "Medical",
          "Medical",
          "Technical Degree",
          "Life Sciences",
          "Life Sciences",
          "Life Sciences",
          "Medical",
          "Other",
          "Medical",
          "Medical",
          "Technical Degree",
          "Life Sciences",
          "Medical",
          "Human Resources",
          "Life Sciences",
          "Life Sciences",
          "Human Resources",
          "Marketing",
          "Life Sciences",
          "Marketing",
          "Technical Degree",
          "Marketing",
          "Medical",
          "Life Sciences",
          "Medical",
          "Human Resources",
          "Marketing",
          "Life Sciences",
          "Medical",
          "Life Sciences",
          "Technical Degree",
          "Life Sciences",
          "Technical Degree",
          "Marketing",
          "Life Sciences",
          "Human Resources",
          "Marketing",
          "Life Sciences",
          "Medical",
          "Marketing",
          "Medical",
          "Marketing",
          "Life Sciences",
          "Life Sciences",
          "Marketing",
          "Medical",
          "Life Sciences",
          "Life Sciences",
          "Life Sciences",
          "Marketing",
          "Medical",
          "Medical",
          "Life Sciences",
          "Life Sciences",
          "Life Sciences",
          "Life Sciences",
          "Medical",
          "Life Sciences",
          "Medical",
          "Medical",
          "Life Sciences",
          "Medical",
          "Life Sciences",
          "Technical Degree"
         ],
         "xaxis": "x",
         "yaxis": "y"
        }
       ],
       "layout": {
        "barmode": "group",
        "legend": {
         "title": {
          "text": "Attrition"
         },
         "tracegroupgap": 0
        },
        "template": {
         "data": {
          "bar": [
           {
            "error_x": {
             "color": "#f2f5fa"
            },
            "error_y": {
             "color": "#f2f5fa"
            },
            "marker": {
             "line": {
              "color": "rgb(17,17,17)",
              "width": 0.5
             },
             "pattern": {
              "fillmode": "overlay",
              "size": 10,
              "solidity": 0.2
             }
            },
            "type": "bar"
           }
          ],
          "barpolar": [
           {
            "marker": {
             "line": {
              "color": "rgb(17,17,17)",
              "width": 0.5
             },
             "pattern": {
              "fillmode": "overlay",
              "size": 10,
              "solidity": 0.2
             }
            },
            "type": "barpolar"
           }
          ],
          "carpet": [
           {
            "aaxis": {
             "endlinecolor": "#A2B1C6",
             "gridcolor": "#506784",
             "linecolor": "#506784",
             "minorgridcolor": "#506784",
             "startlinecolor": "#A2B1C6"
            },
            "baxis": {
             "endlinecolor": "#A2B1C6",
             "gridcolor": "#506784",
             "linecolor": "#506784",
             "minorgridcolor": "#506784",
             "startlinecolor": "#A2B1C6"
            },
            "type": "carpet"
           }
          ],
          "choropleth": [
           {
            "colorbar": {
             "outlinewidth": 0,
             "ticks": ""
            },
            "type": "choropleth"
           }
          ],
          "contour": [
           {
            "colorbar": {
             "outlinewidth": 0,
             "ticks": ""
            },
            "colorscale": [
             [
              0,
              "#0d0887"
             ],
             [
              0.1111111111111111,
              "#46039f"
             ],
             [
              0.2222222222222222,
              "#7201a8"
             ],
             [
              0.3333333333333333,
              "#9c179e"
             ],
             [
              0.4444444444444444,
              "#bd3786"
             ],
             [
              0.5555555555555556,
              "#d8576b"
             ],
             [
              0.6666666666666666,
              "#ed7953"
             ],
             [
              0.7777777777777778,
              "#fb9f3a"
             ],
             [
              0.8888888888888888,
              "#fdca26"
             ],
             [
              1,
              "#f0f921"
             ]
            ],
            "type": "contour"
           }
          ],
          "contourcarpet": [
           {
            "colorbar": {
             "outlinewidth": 0,
             "ticks": ""
            },
            "type": "contourcarpet"
           }
          ],
          "heatmap": [
           {
            "colorbar": {
             "outlinewidth": 0,
             "ticks": ""
            },
            "colorscale": [
             [
              0,
              "#0d0887"
             ],
             [
              0.1111111111111111,
              "#46039f"
             ],
             [
              0.2222222222222222,
              "#7201a8"
             ],
             [
              0.3333333333333333,
              "#9c179e"
             ],
             [
              0.4444444444444444,
              "#bd3786"
             ],
             [
              0.5555555555555556,
              "#d8576b"
             ],
             [
              0.6666666666666666,
              "#ed7953"
             ],
             [
              0.7777777777777778,
              "#fb9f3a"
             ],
             [
              0.8888888888888888,
              "#fdca26"
             ],
             [
              1,
              "#f0f921"
             ]
            ],
            "type": "heatmap"
           }
          ],
          "heatmapgl": [
           {
            "colorbar": {
             "outlinewidth": 0,
             "ticks": ""
            },
            "colorscale": [
             [
              0,
              "#0d0887"
             ],
             [
              0.1111111111111111,
              "#46039f"
             ],
             [
              0.2222222222222222,
              "#7201a8"
             ],
             [
              0.3333333333333333,
              "#9c179e"
             ],
             [
              0.4444444444444444,
              "#bd3786"
             ],
             [
              0.5555555555555556,
              "#d8576b"
             ],
             [
              0.6666666666666666,
              "#ed7953"
             ],
             [
              0.7777777777777778,
              "#fb9f3a"
             ],
             [
              0.8888888888888888,
              "#fdca26"
             ],
             [
              1,
              "#f0f921"
             ]
            ],
            "type": "heatmapgl"
           }
          ],
          "histogram": [
           {
            "marker": {
             "pattern": {
              "fillmode": "overlay",
              "size": 10,
              "solidity": 0.2
             }
            },
            "type": "histogram"
           }
          ],
          "histogram2d": [
           {
            "colorbar": {
             "outlinewidth": 0,
             "ticks": ""
            },
            "colorscale": [
             [
              0,
              "#0d0887"
             ],
             [
              0.1111111111111111,
              "#46039f"
             ],
             [
              0.2222222222222222,
              "#7201a8"
             ],
             [
              0.3333333333333333,
              "#9c179e"
             ],
             [
              0.4444444444444444,
              "#bd3786"
             ],
             [
              0.5555555555555556,
              "#d8576b"
             ],
             [
              0.6666666666666666,
              "#ed7953"
             ],
             [
              0.7777777777777778,
              "#fb9f3a"
             ],
             [
              0.8888888888888888,
              "#fdca26"
             ],
             [
              1,
              "#f0f921"
             ]
            ],
            "type": "histogram2d"
           }
          ],
          "histogram2dcontour": [
           {
            "colorbar": {
             "outlinewidth": 0,
             "ticks": ""
            },
            "colorscale": [
             [
              0,
              "#0d0887"
             ],
             [
              0.1111111111111111,
              "#46039f"
             ],
             [
              0.2222222222222222,
              "#7201a8"
             ],
             [
              0.3333333333333333,
              "#9c179e"
             ],
             [
              0.4444444444444444,
              "#bd3786"
             ],
             [
              0.5555555555555556,
              "#d8576b"
             ],
             [
              0.6666666666666666,
              "#ed7953"
             ],
             [
              0.7777777777777778,
              "#fb9f3a"
             ],
             [
              0.8888888888888888,
              "#fdca26"
             ],
             [
              1,
              "#f0f921"
             ]
            ],
            "type": "histogram2dcontour"
           }
          ],
          "mesh3d": [
           {
            "colorbar": {
             "outlinewidth": 0,
             "ticks": ""
            },
            "type": "mesh3d"
           }
          ],
          "parcoords": [
           {
            "line": {
             "colorbar": {
              "outlinewidth": 0,
              "ticks": ""
             }
            },
            "type": "parcoords"
           }
          ],
          "pie": [
           {
            "automargin": true,
            "type": "pie"
           }
          ],
          "scatter": [
           {
            "marker": {
             "line": {
              "color": "#283442"
             }
            },
            "type": "scatter"
           }
          ],
          "scatter3d": [
           {
            "line": {
             "colorbar": {
              "outlinewidth": 0,
              "ticks": ""
             }
            },
            "marker": {
             "colorbar": {
              "outlinewidth": 0,
              "ticks": ""
             }
            },
            "type": "scatter3d"
           }
          ],
          "scattercarpet": [
           {
            "marker": {
             "colorbar": {
              "outlinewidth": 0,
              "ticks": ""
             }
            },
            "type": "scattercarpet"
           }
          ],
          "scattergeo": [
           {
            "marker": {
             "colorbar": {
              "outlinewidth": 0,
              "ticks": ""
             }
            },
            "type": "scattergeo"
           }
          ],
          "scattergl": [
           {
            "marker": {
             "line": {
              "color": "#283442"
             }
            },
            "type": "scattergl"
           }
          ],
          "scattermapbox": [
           {
            "marker": {
             "colorbar": {
              "outlinewidth": 0,
              "ticks": ""
             }
            },
            "type": "scattermapbox"
           }
          ],
          "scatterpolar": [
           {
            "marker": {
             "colorbar": {
              "outlinewidth": 0,
              "ticks": ""
             }
            },
            "type": "scatterpolar"
           }
          ],
          "scatterpolargl": [
           {
            "marker": {
             "colorbar": {
              "outlinewidth": 0,
              "ticks": ""
             }
            },
            "type": "scatterpolargl"
           }
          ],
          "scatterternary": [
           {
            "marker": {
             "colorbar": {
              "outlinewidth": 0,
              "ticks": ""
             }
            },
            "type": "scatterternary"
           }
          ],
          "surface": [
           {
            "colorbar": {
             "outlinewidth": 0,
             "ticks": ""
            },
            "colorscale": [
             [
              0,
              "#0d0887"
             ],
             [
              0.1111111111111111,
              "#46039f"
             ],
             [
              0.2222222222222222,
              "#7201a8"
             ],
             [
              0.3333333333333333,
              "#9c179e"
             ],
             [
              0.4444444444444444,
              "#bd3786"
             ],
             [
              0.5555555555555556,
              "#d8576b"
             ],
             [
              0.6666666666666666,
              "#ed7953"
             ],
             [
              0.7777777777777778,
              "#fb9f3a"
             ],
             [
              0.8888888888888888,
              "#fdca26"
             ],
             [
              1,
              "#f0f921"
             ]
            ],
            "type": "surface"
           }
          ],
          "table": [
           {
            "cells": {
             "fill": {
              "color": "#506784"
             },
             "line": {
              "color": "rgb(17,17,17)"
             }
            },
            "header": {
             "fill": {
              "color": "#2a3f5f"
             },
             "line": {
              "color": "rgb(17,17,17)"
             }
            },
            "type": "table"
           }
          ]
         },
         "layout": {
          "annotationdefaults": {
           "arrowcolor": "#f2f5fa",
           "arrowhead": 0,
           "arrowwidth": 1
          },
          "autotypenumbers": "strict",
          "coloraxis": {
           "colorbar": {
            "outlinewidth": 0,
            "ticks": ""
           }
          },
          "colorscale": {
           "diverging": [
            [
             0,
             "#8e0152"
            ],
            [
             0.1,
             "#c51b7d"
            ],
            [
             0.2,
             "#de77ae"
            ],
            [
             0.3,
             "#f1b6da"
            ],
            [
             0.4,
             "#fde0ef"
            ],
            [
             0.5,
             "#f7f7f7"
            ],
            [
             0.6,
             "#e6f5d0"
            ],
            [
             0.7,
             "#b8e186"
            ],
            [
             0.8,
             "#7fbc41"
            ],
            [
             0.9,
             "#4d9221"
            ],
            [
             1,
             "#276419"
            ]
           ],
           "sequential": [
            [
             0,
             "#0d0887"
            ],
            [
             0.1111111111111111,
             "#46039f"
            ],
            [
             0.2222222222222222,
             "#7201a8"
            ],
            [
             0.3333333333333333,
             "#9c179e"
            ],
            [
             0.4444444444444444,
             "#bd3786"
            ],
            [
             0.5555555555555556,
             "#d8576b"
            ],
            [
             0.6666666666666666,
             "#ed7953"
            ],
            [
             0.7777777777777778,
             "#fb9f3a"
            ],
            [
             0.8888888888888888,
             "#fdca26"
            ],
            [
             1,
             "#f0f921"
            ]
           ],
           "sequentialminus": [
            [
             0,
             "#0d0887"
            ],
            [
             0.1111111111111111,
             "#46039f"
            ],
            [
             0.2222222222222222,
             "#7201a8"
            ],
            [
             0.3333333333333333,
             "#9c179e"
            ],
            [
             0.4444444444444444,
             "#bd3786"
            ],
            [
             0.5555555555555556,
             "#d8576b"
            ],
            [
             0.6666666666666666,
             "#ed7953"
            ],
            [
             0.7777777777777778,
             "#fb9f3a"
            ],
            [
             0.8888888888888888,
             "#fdca26"
            ],
            [
             1,
             "#f0f921"
            ]
           ]
          },
          "colorway": [
           "#636efa",
           "#EF553B",
           "#00cc96",
           "#ab63fa",
           "#FFA15A",
           "#19d3f3",
           "#FF6692",
           "#B6E880",
           "#FF97FF",
           "#FECB52"
          ],
          "font": {
           "color": "#f2f5fa"
          },
          "geo": {
           "bgcolor": "rgb(17,17,17)",
           "lakecolor": "rgb(17,17,17)",
           "landcolor": "rgb(17,17,17)",
           "showlakes": true,
           "showland": true,
           "subunitcolor": "#506784"
          },
          "hoverlabel": {
           "align": "left"
          },
          "hovermode": "closest",
          "mapbox": {
           "style": "dark"
          },
          "paper_bgcolor": "rgb(17,17,17)",
          "plot_bgcolor": "rgb(17,17,17)",
          "polar": {
           "angularaxis": {
            "gridcolor": "#506784",
            "linecolor": "#506784",
            "ticks": ""
           },
           "bgcolor": "rgb(17,17,17)",
           "radialaxis": {
            "gridcolor": "#506784",
            "linecolor": "#506784",
            "ticks": ""
           }
          },
          "scene": {
           "xaxis": {
            "backgroundcolor": "rgb(17,17,17)",
            "gridcolor": "#506784",
            "gridwidth": 2,
            "linecolor": "#506784",
            "showbackground": true,
            "ticks": "",
            "zerolinecolor": "#C8D4E3"
           },
           "yaxis": {
            "backgroundcolor": "rgb(17,17,17)",
            "gridcolor": "#506784",
            "gridwidth": 2,
            "linecolor": "#506784",
            "showbackground": true,
            "ticks": "",
            "zerolinecolor": "#C8D4E3"
           },
           "zaxis": {
            "backgroundcolor": "rgb(17,17,17)",
            "gridcolor": "#506784",
            "gridwidth": 2,
            "linecolor": "#506784",
            "showbackground": true,
            "ticks": "",
            "zerolinecolor": "#C8D4E3"
           }
          },
          "shapedefaults": {
           "line": {
            "color": "#f2f5fa"
           }
          },
          "sliderdefaults": {
           "bgcolor": "#C8D4E3",
           "bordercolor": "rgb(17,17,17)",
           "borderwidth": 1,
           "tickwidth": 0
          },
          "ternary": {
           "aaxis": {
            "gridcolor": "#506784",
            "linecolor": "#506784",
            "ticks": ""
           },
           "baxis": {
            "gridcolor": "#506784",
            "linecolor": "#506784",
            "ticks": ""
           },
           "bgcolor": "rgb(17,17,17)",
           "caxis": {
            "gridcolor": "#506784",
            "linecolor": "#506784",
            "ticks": ""
           }
          },
          "title": {
           "x": 0.05
          },
          "updatemenudefaults": {
           "bgcolor": "#506784",
           "borderwidth": 0
          },
          "xaxis": {
           "automargin": true,
           "gridcolor": "#283442",
           "linecolor": "#506784",
           "ticks": "",
           "title": {
            "standoff": 15
           },
           "zerolinecolor": "#283442",
           "zerolinewidth": 2
          },
          "yaxis": {
           "automargin": true,
           "gridcolor": "#283442",
           "linecolor": "#506784",
           "ticks": "",
           "title": {
            "standoff": 15
           },
           "zerolinecolor": "#283442",
           "zerolinewidth": 2
          }
         }
        },
        "title": {
         "text": "Percentage of EducationField Type"
        },
        "xaxis": {
         "anchor": "y",
         "domain": [
          0,
          1
         ],
         "title": {
          "text": "EducationField"
         }
        },
        "yaxis": {
         "anchor": "x",
         "domain": [
          0,
          1
         ],
         "title": {
          "text": "count"
         }
        }
       }
      }
     },
     "metadata": {},
     "output_type": "display_data"
    }
   ],
   "source": [
    "px.histogram(data_df,x=\"EducationField\",color=\"Attrition\",barmode=\"group\",text_auto=\".2f\",template=\"plotly_dark\",\n",
    "             title = \"Percentage of EducationField Type\")\n"
   ]
  },
  {
   "cell_type": "code",
   "execution_count": 32,
   "metadata": {},
   "outputs": [
    {
     "data": {
      "application/vnd.plotly.v1+json": {
       "config": {
        "plotlyServerURL": "https://plot.ly"
       },
       "data": [
        {
         "alignmentgroup": "True",
         "bingroup": "x",
         "hovertemplate": "Attrition=No<br>JobRole=%{x}<br>count=%{y}<extra></extra>",
         "legendgroup": "No",
         "marker": {
          "color": "#636efa",
          "pattern": {
           "shape": ""
          }
         },
         "name": "No",
         "offsetgroup": "No",
         "orientation": "v",
         "showlegend": true,
         "texttemplate": "%{value:.2f}",
         "type": "histogram",
         "x": [
          "Nurse",
          "Other",
          "Other",
          "Nurse",
          "Nurse",
          "Nurse",
          "Nurse",
          "Therapist",
          "Nurse",
          "Nurse",
          "Nurse",
          "Other",
          "Nurse",
          "Therapist",
          "Other",
          "Nurse",
          "Administrative",
          "Other",
          "Therapist",
          "Other",
          "Other",
          "Other",
          "Other",
          "Other",
          "Nurse",
          "Nurse",
          "Administrative",
          "Nurse",
          "Nurse",
          "Nurse",
          "Other",
          "Other",
          "Other",
          "Other",
          "Nurse",
          "Nurse",
          "Nurse",
          "Nurse",
          "Nurse",
          "Other",
          "Nurse",
          "Other",
          "Nurse",
          "Nurse",
          "Nurse",
          "Nurse",
          "Other",
          "Nurse",
          "Nurse",
          "Nurse",
          "Therapist",
          "Therapist",
          "Nurse",
          "Other",
          "Nurse",
          "Nurse",
          "Other",
          "Therapist",
          "Other",
          "Other",
          "Nurse",
          "Other",
          "Other",
          "Other",
          "Nurse",
          "Therapist",
          "Nurse",
          "Other",
          "Other",
          "Other",
          "Nurse",
          "Other",
          "Nurse",
          "Other",
          "Therapist",
          "Therapist",
          "Other",
          "Nurse",
          "Nurse",
          "Nurse",
          "Nurse",
          "Nurse",
          "Nurse",
          "Nurse",
          "Nurse",
          "Other",
          "Nurse",
          "Nurse",
          "Nurse",
          "Nurse",
          "Other",
          "Other",
          "Nurse",
          "Administrative",
          "Other",
          "Other",
          "Nurse",
          "Nurse",
          "Administrative",
          "Nurse",
          "Other",
          "Nurse",
          "Other",
          "Nurse",
          "Nurse",
          "Administrative",
          "Other",
          "Nurse",
          "Other",
          "Other",
          "Nurse",
          "Nurse",
          "Therapist",
          "Other",
          "Nurse",
          "Nurse",
          "Other",
          "Therapist",
          "Nurse",
          "Nurse",
          "Other",
          "Other",
          "Other",
          "Other",
          "Nurse",
          "Other",
          "Nurse",
          "Other",
          "Nurse",
          "Nurse",
          "Other",
          "Nurse",
          "Other",
          "Nurse",
          "Nurse",
          "Therapist",
          "Therapist",
          "Other",
          "Nurse",
          "Other",
          "Other",
          "Other",
          "Other",
          "Nurse",
          "Other",
          "Other",
          "Nurse",
          "Nurse",
          "Other",
          "Other",
          "Nurse",
          "Nurse",
          "Nurse",
          "Other",
          "Other",
          "Nurse",
          "Nurse",
          "Other",
          "Other",
          "Nurse",
          "Therapist",
          "Other",
          "Other",
          "Other",
          "Therapist",
          "Nurse",
          "Other",
          "Other",
          "Other",
          "Other",
          "Other",
          "Nurse",
          "Therapist",
          "Therapist",
          "Therapist",
          "Therapist",
          "Therapist",
          "Other",
          "Nurse",
          "Nurse",
          "Other",
          "Nurse",
          "Nurse",
          "Nurse",
          "Nurse",
          "Therapist",
          "Nurse",
          "Other",
          "Administrative",
          "Other",
          "Nurse",
          "Nurse",
          "Nurse",
          "Other",
          "Other",
          "Nurse",
          "Therapist",
          "Other",
          "Other",
          "Nurse",
          "Nurse",
          "Nurse",
          "Other",
          "Other",
          "Administrative",
          "Administrative",
          "Administrative",
          "Other",
          "Nurse",
          "Nurse",
          "Other",
          "Other",
          "Other",
          "Other",
          "Other",
          "Therapist",
          "Other",
          "Therapist",
          "Therapist",
          "Nurse",
          "Other",
          "Other",
          "Nurse",
          "Therapist",
          "Nurse",
          "Other",
          "Other",
          "Nurse",
          "Nurse",
          "Nurse",
          "Nurse",
          "Administrative",
          "Nurse",
          "Nurse",
          "Nurse",
          "Nurse",
          "Nurse",
          "Other",
          "Other",
          "Nurse",
          "Other",
          "Other",
          "Other",
          "Nurse",
          "Therapist",
          "Other",
          "Other",
          "Nurse",
          "Nurse",
          "Nurse",
          "Nurse",
          "Other",
          "Nurse",
          "Other",
          "Other",
          "Other",
          "Other",
          "Other",
          "Nurse",
          "Nurse",
          "Nurse",
          "Nurse",
          "Therapist",
          "Administrative",
          "Nurse",
          "Nurse",
          "Nurse",
          "Nurse",
          "Nurse",
          "Administrative",
          "Nurse",
          "Other",
          "Other",
          "Nurse",
          "Other",
          "Other",
          "Other",
          "Nurse",
          "Nurse",
          "Other",
          "Other",
          "Nurse",
          "Nurse",
          "Nurse",
          "Other",
          "Other",
          "Therapist",
          "Other",
          "Nurse",
          "Administrative",
          "Nurse",
          "Nurse",
          "Other",
          "Nurse",
          "Other",
          "Nurse",
          "Nurse",
          "Nurse",
          "Nurse",
          "Therapist",
          "Administrative",
          "Therapist",
          "Nurse",
          "Therapist",
          "Other",
          "Therapist",
          "Other",
          "Administrative",
          "Nurse",
          "Other",
          "Nurse",
          "Administrative",
          "Other",
          "Nurse",
          "Nurse",
          "Nurse",
          "Nurse",
          "Nurse",
          "Nurse",
          "Other",
          "Nurse",
          "Therapist",
          "Nurse",
          "Nurse",
          "Nurse",
          "Other",
          "Nurse",
          "Nurse",
          "Nurse",
          "Nurse",
          "Nurse",
          "Other",
          "Other",
          "Nurse",
          "Other",
          "Other",
          "Other",
          "Nurse",
          "Nurse",
          "Nurse",
          "Nurse",
          "Therapist",
          "Administrative",
          "Nurse",
          "Administrative",
          "Nurse",
          "Therapist",
          "Nurse",
          "Nurse",
          "Nurse",
          "Other",
          "Nurse",
          "Other",
          "Nurse",
          "Nurse",
          "Nurse",
          "Nurse",
          "Therapist",
          "Other",
          "Other",
          "Other",
          "Therapist",
          "Other",
          "Therapist",
          "Nurse",
          "Other",
          "Nurse",
          "Administrative",
          "Other",
          "Nurse",
          "Administrative",
          "Nurse",
          "Administrative",
          "Other",
          "Nurse",
          "Nurse",
          "Therapist",
          "Administrative",
          "Nurse",
          "Nurse",
          "Other",
          "Therapist",
          "Nurse",
          "Other",
          "Nurse",
          "Nurse",
          "Nurse",
          "Nurse",
          "Nurse",
          "Administrative",
          "Nurse",
          "Nurse",
          "Therapist",
          "Nurse",
          "Nurse",
          "Therapist",
          "Nurse",
          "Therapist",
          "Administrative",
          "Administrative",
          "Nurse",
          "Nurse",
          "Nurse",
          "Nurse",
          "Nurse",
          "Therapist",
          "Nurse",
          "Administrative",
          "Nurse",
          "Other",
          "Nurse",
          "Other",
          "Nurse",
          "Therapist",
          "Administrative",
          "Other",
          "Nurse",
          "Nurse",
          "Administrative",
          "Other",
          "Other",
          "Nurse",
          "Nurse",
          "Nurse",
          "Other",
          "Nurse",
          "Nurse",
          "Administrative",
          "Other",
          "Nurse",
          "Other",
          "Other",
          "Other",
          "Other",
          "Other",
          "Other",
          "Other",
          "Nurse",
          "Other",
          "Other",
          "Nurse",
          "Other",
          "Nurse",
          "Therapist",
          "Nurse",
          "Other",
          "Nurse",
          "Other",
          "Therapist",
          "Other",
          "Nurse",
          "Other",
          "Nurse",
          "Nurse",
          "Other",
          "Nurse",
          "Nurse",
          "Other",
          "Nurse",
          "Nurse",
          "Nurse",
          "Nurse",
          "Nurse",
          "Nurse",
          "Nurse",
          "Therapist",
          "Administrative",
          "Nurse",
          "Nurse",
          "Administrative",
          "Administrative",
          "Nurse",
          "Therapist",
          "Administrative",
          "Other",
          "Administrative",
          "Therapist",
          "Nurse",
          "Nurse",
          "Nurse",
          "Other",
          "Nurse",
          "Nurse",
          "Nurse",
          "Other",
          "Nurse",
          "Other",
          "Nurse",
          "Other",
          "Nurse",
          "Nurse",
          "Nurse",
          "Other",
          "Therapist",
          "Administrative",
          "Nurse",
          "Other",
          "Other",
          "Nurse",
          "Nurse",
          "Other",
          "Nurse",
          "Nurse",
          "Other",
          "Therapist",
          "Nurse",
          "Other",
          "Therapist",
          "Other",
          "Other",
          "Nurse",
          "Nurse",
          "Nurse",
          "Other",
          "Nurse",
          "Nurse",
          "Administrative",
          "Administrative",
          "Other",
          "Therapist",
          "Other",
          "Other",
          "Therapist",
          "Other",
          "Other",
          "Therapist",
          "Nurse",
          "Therapist",
          "Other",
          "Therapist",
          "Nurse",
          "Other",
          "Nurse",
          "Nurse",
          "Administrative",
          "Administrative",
          "Therapist",
          "Nurse",
          "Other",
          "Other",
          "Administrative",
          "Nurse",
          "Other",
          "Nurse",
          "Other",
          "Nurse",
          "Nurse",
          "Other",
          "Nurse",
          "Nurse",
          "Other",
          "Therapist",
          "Nurse",
          "Other",
          "Therapist",
          "Nurse",
          "Other",
          "Other",
          "Nurse",
          "Therapist",
          "Nurse",
          "Nurse",
          "Other",
          "Nurse",
          "Nurse",
          "Other",
          "Nurse",
          "Other",
          "Nurse",
          "Therapist",
          "Other",
          "Administrative",
          "Nurse",
          "Nurse",
          "Nurse",
          "Other",
          "Other",
          "Other",
          "Nurse",
          "Other",
          "Nurse",
          "Therapist",
          "Nurse",
          "Other",
          "Therapist",
          "Other",
          "Other",
          "Nurse",
          "Nurse",
          "Other",
          "Nurse",
          "Other",
          "Nurse",
          "Nurse",
          "Other",
          "Nurse",
          "Other",
          "Administrative",
          "Nurse",
          "Nurse",
          "Nurse",
          "Nurse",
          "Nurse",
          "Nurse",
          "Other",
          "Therapist",
          "Nurse",
          "Nurse",
          "Nurse",
          "Other",
          "Nurse",
          "Other",
          "Other",
          "Administrative",
          "Nurse",
          "Nurse",
          "Nurse",
          "Nurse",
          "Therapist",
          "Nurse",
          "Administrative",
          "Other",
          "Nurse",
          "Administrative",
          "Nurse",
          "Administrative",
          "Nurse",
          "Nurse",
          "Nurse",
          "Therapist",
          "Other",
          "Therapist",
          "Therapist",
          "Therapist",
          "Other",
          "Therapist",
          "Nurse",
          "Administrative",
          "Nurse",
          "Therapist",
          "Nurse",
          "Nurse",
          "Nurse",
          "Therapist",
          "Therapist",
          "Nurse",
          "Administrative",
          "Nurse",
          "Therapist",
          "Nurse",
          "Administrative",
          "Nurse",
          "Administrative",
          "Nurse",
          "Nurse",
          "Nurse",
          "Therapist",
          "Other",
          "Administrative",
          "Nurse",
          "Nurse",
          "Administrative",
          "Other",
          "Nurse",
          "Nurse",
          "Other",
          "Other",
          "Other",
          "Administrative",
          "Nurse",
          "Nurse",
          "Other",
          "Administrative",
          "Nurse",
          "Other",
          "Therapist",
          "Other",
          "Nurse",
          "Other",
          "Other",
          "Nurse",
          "Nurse",
          "Therapist",
          "Other",
          "Nurse",
          "Nurse",
          "Nurse",
          "Therapist",
          "Other",
          "Other",
          "Nurse",
          "Other",
          "Nurse",
          "Nurse",
          "Nurse",
          "Nurse",
          "Other",
          "Nurse",
          "Nurse",
          "Nurse",
          "Other",
          "Other",
          "Nurse",
          "Nurse",
          "Nurse",
          "Other",
          "Therapist",
          "Administrative",
          "Nurse",
          "Therapist",
          "Nurse",
          "Administrative",
          "Nurse",
          "Therapist",
          "Other",
          "Other",
          "Nurse",
          "Nurse",
          "Therapist",
          "Other",
          "Nurse",
          "Therapist",
          "Other",
          "Other",
          "Nurse",
          "Nurse",
          "Nurse",
          "Other",
          "Nurse",
          "Other",
          "Administrative",
          "Nurse",
          "Nurse",
          "Nurse",
          "Nurse",
          "Nurse",
          "Nurse",
          "Other",
          "Therapist",
          "Nurse",
          "Nurse",
          "Other",
          "Other",
          "Nurse",
          "Other",
          "Other",
          "Therapist",
          "Other",
          "Administrative",
          "Other",
          "Other",
          "Nurse",
          "Nurse",
          "Other",
          "Nurse",
          "Administrative",
          "Nurse",
          "Nurse",
          "Nurse",
          "Nurse",
          "Other",
          "Other",
          "Therapist",
          "Other",
          "Nurse",
          "Nurse",
          "Other",
          "Therapist",
          "Other",
          "Nurse",
          "Nurse",
          "Other",
          "Administrative",
          "Nurse",
          "Other",
          "Therapist",
          "Other",
          "Other",
          "Administrative",
          "Nurse",
          "Nurse",
          "Nurse",
          "Administrative",
          "Other",
          "Other",
          "Nurse",
          "Other",
          "Nurse",
          "Administrative",
          "Administrative",
          "Other",
          "Administrative",
          "Nurse",
          "Other",
          "Other",
          "Other",
          "Administrative",
          "Nurse",
          "Administrative",
          "Nurse",
          "Administrative",
          "Therapist",
          "Nurse",
          "Other",
          "Other",
          "Other",
          "Other",
          "Nurse",
          "Therapist",
          "Nurse",
          "Nurse",
          "Nurse",
          "Therapist",
          "Other",
          "Other",
          "Nurse",
          "Other",
          "Other",
          "Other",
          "Nurse",
          "Nurse",
          "Nurse",
          "Other",
          "Nurse",
          "Administrative",
          "Other",
          "Therapist",
          "Nurse",
          "Nurse",
          "Nurse",
          "Other",
          "Other",
          "Administrative",
          "Other",
          "Nurse",
          "Other",
          "Nurse",
          "Other",
          "Administrative",
          "Nurse",
          "Nurse",
          "Nurse",
          "Nurse",
          "Nurse",
          "Therapist",
          "Other",
          "Therapist",
          "Nurse",
          "Nurse",
          "Nurse",
          "Therapist",
          "Other",
          "Nurse",
          "Nurse",
          "Other",
          "Nurse",
          "Nurse",
          "Nurse",
          "Nurse",
          "Other",
          "Other",
          "Nurse",
          "Nurse",
          "Nurse",
          "Nurse",
          "Therapist",
          "Other",
          "Nurse",
          "Other",
          "Administrative",
          "Nurse",
          "Nurse",
          "Therapist",
          "Nurse",
          "Nurse",
          "Other",
          "Nurse",
          "Administrative",
          "Administrative",
          "Administrative",
          "Nurse",
          "Nurse",
          "Administrative",
          "Other",
          "Nurse",
          "Nurse",
          "Nurse",
          "Other",
          "Nurse",
          "Other",
          "Administrative",
          "Nurse",
          "Nurse",
          "Nurse",
          "Other",
          "Nurse",
          "Nurse",
          "Nurse",
          "Therapist",
          "Nurse",
          "Other",
          "Therapist",
          "Nurse",
          "Other",
          "Administrative",
          "Nurse",
          "Nurse",
          "Administrative",
          "Nurse",
          "Other",
          "Other",
          "Nurse",
          "Nurse",
          "Nurse",
          "Nurse",
          "Nurse",
          "Other",
          "Other",
          "Nurse",
          "Administrative",
          "Other",
          "Other",
          "Other",
          "Therapist",
          "Nurse",
          "Other",
          "Nurse",
          "Nurse",
          "Nurse",
          "Other",
          "Nurse",
          "Nurse",
          "Nurse",
          "Therapist",
          "Nurse",
          "Other",
          "Other",
          "Administrative",
          "Therapist",
          "Administrative",
          "Nurse",
          "Nurse",
          "Nurse",
          "Administrative",
          "Other",
          "Nurse",
          "Other",
          "Nurse",
          "Therapist",
          "Other",
          "Nurse",
          "Nurse",
          "Nurse",
          "Administrative",
          "Nurse",
          "Nurse",
          "Nurse",
          "Other",
          "Other",
          "Other",
          "Nurse",
          "Other",
          "Nurse",
          "Nurse",
          "Other",
          "Nurse",
          "Nurse",
          "Therapist",
          "Therapist",
          "Other",
          "Other",
          "Other",
          "Administrative",
          "Other",
          "Other",
          "Nurse",
          "Nurse",
          "Nurse",
          "Nurse",
          "Nurse",
          "Nurse",
          "Nurse",
          "Administrative",
          "Other",
          "Nurse",
          "Other",
          "Nurse",
          "Nurse",
          "Nurse",
          "Nurse",
          "Nurse",
          "Administrative",
          "Nurse",
          "Other",
          "Administrative",
          "Other",
          "Nurse",
          "Nurse",
          "Nurse",
          "Therapist",
          "Therapist",
          "Nurse",
          "Therapist",
          "Nurse",
          "Other",
          "Therapist",
          "Other",
          "Administrative",
          "Nurse",
          "Therapist",
          "Nurse",
          "Therapist",
          "Therapist",
          "Therapist",
          "Therapist",
          "Nurse",
          "Other",
          "Therapist",
          "Other",
          "Other",
          "Other",
          "Other",
          "Nurse",
          "Nurse",
          "Therapist",
          "Therapist",
          "Administrative",
          "Administrative",
          "Other",
          "Other",
          "Nurse",
          "Nurse",
          "Therapist",
          "Nurse",
          "Other",
          "Administrative",
          "Nurse",
          "Other",
          "Nurse",
          "Nurse",
          "Other",
          "Nurse",
          "Nurse",
          "Nurse",
          "Administrative",
          "Other",
          "Nurse",
          "Other",
          "Nurse",
          "Nurse",
          "Other",
          "Nurse",
          "Nurse",
          "Other",
          "Nurse",
          "Nurse",
          "Other",
          "Nurse",
          "Nurse",
          "Nurse",
          "Nurse",
          "Other",
          "Other",
          "Nurse",
          "Other",
          "Nurse",
          "Other",
          "Nurse",
          "Nurse",
          "Other",
          "Nurse",
          "Nurse",
          "Administrative",
          "Other",
          "Nurse",
          "Other",
          "Therapist",
          "Nurse",
          "Nurse",
          "Therapist",
          "Other",
          "Nurse",
          "Nurse",
          "Nurse",
          "Nurse",
          "Therapist",
          "Nurse",
          "Nurse",
          "Administrative",
          "Other",
          "Other",
          "Other",
          "Nurse",
          "Other",
          "Nurse",
          "Nurse",
          "Other",
          "Nurse",
          "Nurse",
          "Nurse",
          "Other",
          "Nurse",
          "Other",
          "Nurse",
          "Nurse",
          "Administrative",
          "Other",
          "Nurse",
          "Nurse",
          "Therapist",
          "Other",
          "Nurse",
          "Nurse",
          "Nurse",
          "Other",
          "Nurse",
          "Administrative",
          "Nurse",
          "Other",
          "Other",
          "Other",
          "Other",
          "Administrative",
          "Nurse",
          "Nurse",
          "Nurse",
          "Therapist",
          "Other",
          "Nurse",
          "Therapist",
          "Nurse",
          "Other",
          "Nurse",
          "Nurse",
          "Therapist",
          "Other",
          "Nurse",
          "Nurse",
          "Nurse",
          "Administrative",
          "Nurse",
          "Therapist",
          "Nurse",
          "Other",
          "Nurse",
          "Other",
          "Other",
          "Nurse",
          "Administrative",
          "Other",
          "Nurse",
          "Other",
          "Nurse",
          "Nurse",
          "Nurse",
          "Nurse",
          "Other",
          "Nurse",
          "Therapist",
          "Other",
          "Nurse",
          "Nurse",
          "Nurse",
          "Other",
          "Other",
          "Administrative",
          "Administrative",
          "Nurse",
          "Other",
          "Other",
          "Other",
          "Other",
          "Nurse",
          "Nurse",
          "Nurse",
          "Nurse",
          "Other",
          "Therapist",
          "Therapist",
          "Other",
          "Administrative",
          "Other",
          "Administrative",
          "Nurse",
          "Nurse",
          "Nurse",
          "Administrative",
          "Nurse",
          "Nurse",
          "Nurse",
          "Nurse",
          "Nurse",
          "Nurse",
          "Nurse",
          "Nurse",
          "Other",
          "Other",
          "Other",
          "Nurse",
          "Therapist",
          "Other",
          "Administrative",
          "Other",
          "Administrative",
          "Nurse",
          "Nurse",
          "Other",
          "Other",
          "Nurse",
          "Nurse",
          "Nurse",
          "Nurse",
          "Nurse",
          "Nurse",
          "Other",
          "Nurse",
          "Other",
          "Nurse",
          "Nurse",
          "Therapist",
          "Other",
          "Nurse",
          "Nurse",
          "Other",
          "Administrative",
          "Nurse",
          "Nurse",
          "Other",
          "Administrative",
          "Therapist",
          "Nurse",
          "Nurse",
          "Nurse",
          "Nurse",
          "Other",
          "Nurse",
          "Nurse",
          "Nurse",
          "Nurse",
          "Nurse",
          "Other",
          "Therapist",
          "Other",
          "Other",
          "Administrative",
          "Nurse",
          "Other",
          "Other",
          "Nurse",
          "Nurse",
          "Nurse",
          "Other",
          "Other",
          "Administrative",
          "Nurse",
          "Administrative",
          "Nurse",
          "Other",
          "Other",
          "Administrative",
          "Nurse",
          "Therapist",
          "Nurse",
          "Administrative",
          "Nurse",
          "Therapist",
          "Nurse",
          "Nurse",
          "Nurse",
          "Other",
          "Other",
          "Nurse",
          "Nurse",
          "Nurse",
          "Nurse",
          "Other",
          "Nurse",
          "Other",
          "Other",
          "Nurse",
          "Other",
          "Nurse",
          "Therapist",
          "Other",
          "Nurse",
          "Nurse",
          "Therapist",
          "Nurse",
          "Nurse",
          "Therapist",
          "Admin",
          "Therapist",
          "Therapist",
          "Other",
          "Other",
          "Other",
          "Nurse",
          "Therapist",
          "Nurse",
          "Other",
          "Therapist",
          "Admin",
          "Therapist",
          "Therapist",
          "Nurse",
          "Therapist",
          "Therapist",
          "Other",
          "Nurse",
          "Therapist",
          "Other",
          "Admin",
          "Admin",
          "Nurse",
          "Nurse",
          "Nurse",
          "Admin",
          "Therapist",
          "Admin",
          "Therapist",
          "Nurse",
          "Nurse",
          "Therapist",
          "Nurse",
          "Nurse",
          "Admin",
          "Nurse",
          "Other",
          "Therapist",
          "Nurse",
          "Therapist",
          "Admin",
          "Nurse",
          "Nurse",
          "Nurse",
          "Other",
          "Nurse",
          "Admin",
          "Nurse",
          "Therapist",
          "Therapist",
          "Other",
          "Therapist",
          "Therapist",
          "Other",
          "Therapist",
          "Nurse",
          "Other",
          "Nurse",
          "Nurse",
          "Other",
          "Therapist",
          "Nurse",
          "Nurse",
          "Admin",
          "Other",
          "Nurse",
          "Nurse",
          "Nurse",
          "Other",
          "Therapist",
          "Therapist",
          "Therapist",
          "Admin",
          "Therapist",
          "Therapist",
          "Therapist",
          "Nurse",
          "Nurse",
          "Nurse",
          "Therapist",
          "Therapist",
          "Therapist",
          "Admin",
          "Therapist",
          "Other",
          "Nurse",
          "Nurse",
          "Other",
          "Nurse",
          "Therapist",
          "Therapist",
          "Therapist",
          "Therapist",
          "Nurse",
          "Therapist",
          "Nurse",
          "Therapist",
          "Therapist",
          "Other",
          "Admin",
          "Nurse",
          "Nurse",
          "Other",
          "Nurse",
          "Therapist",
          "Nurse",
          "Nurse",
          "Therapist",
          "Nurse",
          "Admin",
          "Other",
          "Nurse",
          "Nurse",
          "Nurse",
          "Nurse",
          "Other",
          "Nurse",
          "Nurse",
          "Nurse",
          "Other",
          "Other",
          "Nurse",
          "Nurse",
          "Other",
          "Therapist",
          "Admin",
          "Nurse",
          "Nurse",
          "Nurse",
          "Nurse",
          "Nurse",
          "Nurse",
          "Admin",
          "Nurse",
          "Other",
          "Nurse",
          "Other",
          "Other",
          "Nurse",
          "Therapist",
          "Nurse",
          "Nurse",
          "Therapist",
          "Nurse",
          "Nurse",
          "Nurse",
          "Other",
          "Therapist",
          "Nurse",
          "Nurse",
          "Nurse",
          "Nurse",
          "Nurse",
          "Nurse",
          "Nurse",
          "Nurse",
          "Other",
          "Nurse",
          "Nurse",
          "Nurse",
          "Other",
          "Nurse",
          "Other",
          "Nurse",
          "Nurse",
          "Other",
          "Nurse",
          "Other",
          "Nurse",
          "Nurse",
          "Other",
          "Other",
          "Nurse",
          "Nurse",
          "Other",
          "Nurse",
          "Nurse",
          "Nurse",
          "Nurse",
          "Other",
          "Nurse",
          "Other",
          "Nurse",
          "Other",
          "Therapist",
          "Nurse"
         ],
         "xaxis": "x",
         "yaxis": "y"
        },
        {
         "alignmentgroup": "True",
         "bingroup": "x",
         "hovertemplate": "Attrition=Yes<br>JobRole=%{x}<br>count=%{y}<extra></extra>",
         "legendgroup": "Yes",
         "marker": {
          "color": "#EF553B",
          "pattern": {
           "shape": ""
          }
         },
         "name": "Yes",
         "offsetgroup": "Yes",
         "orientation": "v",
         "showlegend": true,
         "texttemplate": "%{value:.2f}",
         "type": "histogram",
         "x": [
          "Nurse",
          "Nurse",
          "Other",
          "Other",
          "Other",
          "Nurse",
          "Nurse",
          "Nurse",
          "Nurse",
          "Other",
          "Other",
          "Nurse",
          "Nurse",
          "Nurse",
          "Other",
          "Nurse",
          "Other",
          "Nurse",
          "Therapist",
          "Nurse",
          "Other",
          "Other",
          "Nurse",
          "Other",
          "Therapist",
          "Nurse",
          "Other",
          "Nurse",
          "Other",
          "Nurse",
          "Nurse",
          "Nurse",
          "Nurse",
          "Other",
          "Nurse",
          "Nurse",
          "Nurse",
          "Other",
          "Other",
          "Nurse",
          "Nurse",
          "Nurse",
          "Other",
          "Other",
          "Other",
          "Other",
          "Nurse",
          "Other",
          "Nurse",
          "Other",
          "Other",
          "Other",
          "Other",
          "Nurse",
          "Other",
          "Other",
          "Other",
          "Nurse",
          "Nurse",
          "Other",
          "Nurse",
          "Other",
          "Other",
          "Other",
          "Other",
          "Other",
          "Nurse",
          "Other",
          "Nurse",
          "Nurse",
          "Nurse",
          "Nurse",
          "Administrative",
          "Other",
          "Other",
          "Other",
          "Nurse",
          "Nurse",
          "Other",
          "Other",
          "Nurse",
          "Nurse",
          "Other",
          "Other",
          "Nurse",
          "Nurse",
          "Nurse",
          "Other",
          "Other",
          "Other",
          "Nurse",
          "Other",
          "Nurse",
          "Nurse",
          "Other",
          "Other",
          "Nurse",
          "Nurse",
          "Nurse",
          "Other",
          "Other",
          "Nurse",
          "Nurse",
          "Nurse",
          "Nurse",
          "Nurse",
          "Nurse",
          "Other",
          "Other",
          "Other",
          "Other",
          "Nurse",
          "Other",
          "Other",
          "Nurse",
          "Nurse",
          "Nurse",
          "Other",
          "Nurse",
          "Nurse",
          "Other",
          "Therapist",
          "Nurse",
          "Other",
          "Nurse",
          "Therapist",
          "Other",
          "Nurse",
          "Other",
          "Other",
          "Other",
          "Nurse",
          "Nurse",
          "Nurse",
          "Nurse",
          "Nurse",
          "Nurse",
          "Other",
          "Nurse",
          "Other",
          "Nurse",
          "Nurse",
          "Other",
          "Other",
          "Nurse",
          "Other",
          "Nurse",
          "Nurse",
          "Other",
          "Nurse",
          "Nurse",
          "Other",
          "Other",
          "Nurse",
          "Nurse",
          "Other",
          "Other",
          "Nurse",
          "Nurse",
          "Other",
          "Other",
          "Nurse",
          "Other",
          "Other",
          "Other",
          "Other",
          "Nurse",
          "Other",
          "Nurse",
          "Other",
          "Other",
          "Nurse",
          "Nurse",
          "Other",
          "Other",
          "Other",
          "Nurse",
          "Nurse",
          "Nurse",
          "Nurse",
          "Nurse",
          "Nurse",
          "Nurse",
          "Nurse",
          "Nurse",
          "Other",
          "Nurse",
          "Other",
          "Nurse",
          "Other",
          "Nurse",
          "Nurse",
          "Nurse",
          "Nurse",
          "Nurse",
          "Nurse",
          "Nurse",
          "Nurse",
          "Nurse"
         ],
         "xaxis": "x",
         "yaxis": "y"
        }
       ],
       "layout": {
        "barmode": "group",
        "legend": {
         "title": {
          "text": "Attrition"
         },
         "tracegroupgap": 0
        },
        "template": {
         "data": {
          "bar": [
           {
            "error_x": {
             "color": "#f2f5fa"
            },
            "error_y": {
             "color": "#f2f5fa"
            },
            "marker": {
             "line": {
              "color": "rgb(17,17,17)",
              "width": 0.5
             },
             "pattern": {
              "fillmode": "overlay",
              "size": 10,
              "solidity": 0.2
             }
            },
            "type": "bar"
           }
          ],
          "barpolar": [
           {
            "marker": {
             "line": {
              "color": "rgb(17,17,17)",
              "width": 0.5
             },
             "pattern": {
              "fillmode": "overlay",
              "size": 10,
              "solidity": 0.2
             }
            },
            "type": "barpolar"
           }
          ],
          "carpet": [
           {
            "aaxis": {
             "endlinecolor": "#A2B1C6",
             "gridcolor": "#506784",
             "linecolor": "#506784",
             "minorgridcolor": "#506784",
             "startlinecolor": "#A2B1C6"
            },
            "baxis": {
             "endlinecolor": "#A2B1C6",
             "gridcolor": "#506784",
             "linecolor": "#506784",
             "minorgridcolor": "#506784",
             "startlinecolor": "#A2B1C6"
            },
            "type": "carpet"
           }
          ],
          "choropleth": [
           {
            "colorbar": {
             "outlinewidth": 0,
             "ticks": ""
            },
            "type": "choropleth"
           }
          ],
          "contour": [
           {
            "colorbar": {
             "outlinewidth": 0,
             "ticks": ""
            },
            "colorscale": [
             [
              0,
              "#0d0887"
             ],
             [
              0.1111111111111111,
              "#46039f"
             ],
             [
              0.2222222222222222,
              "#7201a8"
             ],
             [
              0.3333333333333333,
              "#9c179e"
             ],
             [
              0.4444444444444444,
              "#bd3786"
             ],
             [
              0.5555555555555556,
              "#d8576b"
             ],
             [
              0.6666666666666666,
              "#ed7953"
             ],
             [
              0.7777777777777778,
              "#fb9f3a"
             ],
             [
              0.8888888888888888,
              "#fdca26"
             ],
             [
              1,
              "#f0f921"
             ]
            ],
            "type": "contour"
           }
          ],
          "contourcarpet": [
           {
            "colorbar": {
             "outlinewidth": 0,
             "ticks": ""
            },
            "type": "contourcarpet"
           }
          ],
          "heatmap": [
           {
            "colorbar": {
             "outlinewidth": 0,
             "ticks": ""
            },
            "colorscale": [
             [
              0,
              "#0d0887"
             ],
             [
              0.1111111111111111,
              "#46039f"
             ],
             [
              0.2222222222222222,
              "#7201a8"
             ],
             [
              0.3333333333333333,
              "#9c179e"
             ],
             [
              0.4444444444444444,
              "#bd3786"
             ],
             [
              0.5555555555555556,
              "#d8576b"
             ],
             [
              0.6666666666666666,
              "#ed7953"
             ],
             [
              0.7777777777777778,
              "#fb9f3a"
             ],
             [
              0.8888888888888888,
              "#fdca26"
             ],
             [
              1,
              "#f0f921"
             ]
            ],
            "type": "heatmap"
           }
          ],
          "heatmapgl": [
           {
            "colorbar": {
             "outlinewidth": 0,
             "ticks": ""
            },
            "colorscale": [
             [
              0,
              "#0d0887"
             ],
             [
              0.1111111111111111,
              "#46039f"
             ],
             [
              0.2222222222222222,
              "#7201a8"
             ],
             [
              0.3333333333333333,
              "#9c179e"
             ],
             [
              0.4444444444444444,
              "#bd3786"
             ],
             [
              0.5555555555555556,
              "#d8576b"
             ],
             [
              0.6666666666666666,
              "#ed7953"
             ],
             [
              0.7777777777777778,
              "#fb9f3a"
             ],
             [
              0.8888888888888888,
              "#fdca26"
             ],
             [
              1,
              "#f0f921"
             ]
            ],
            "type": "heatmapgl"
           }
          ],
          "histogram": [
           {
            "marker": {
             "pattern": {
              "fillmode": "overlay",
              "size": 10,
              "solidity": 0.2
             }
            },
            "type": "histogram"
           }
          ],
          "histogram2d": [
           {
            "colorbar": {
             "outlinewidth": 0,
             "ticks": ""
            },
            "colorscale": [
             [
              0,
              "#0d0887"
             ],
             [
              0.1111111111111111,
              "#46039f"
             ],
             [
              0.2222222222222222,
              "#7201a8"
             ],
             [
              0.3333333333333333,
              "#9c179e"
             ],
             [
              0.4444444444444444,
              "#bd3786"
             ],
             [
              0.5555555555555556,
              "#d8576b"
             ],
             [
              0.6666666666666666,
              "#ed7953"
             ],
             [
              0.7777777777777778,
              "#fb9f3a"
             ],
             [
              0.8888888888888888,
              "#fdca26"
             ],
             [
              1,
              "#f0f921"
             ]
            ],
            "type": "histogram2d"
           }
          ],
          "histogram2dcontour": [
           {
            "colorbar": {
             "outlinewidth": 0,
             "ticks": ""
            },
            "colorscale": [
             [
              0,
              "#0d0887"
             ],
             [
              0.1111111111111111,
              "#46039f"
             ],
             [
              0.2222222222222222,
              "#7201a8"
             ],
             [
              0.3333333333333333,
              "#9c179e"
             ],
             [
              0.4444444444444444,
              "#bd3786"
             ],
             [
              0.5555555555555556,
              "#d8576b"
             ],
             [
              0.6666666666666666,
              "#ed7953"
             ],
             [
              0.7777777777777778,
              "#fb9f3a"
             ],
             [
              0.8888888888888888,
              "#fdca26"
             ],
             [
              1,
              "#f0f921"
             ]
            ],
            "type": "histogram2dcontour"
           }
          ],
          "mesh3d": [
           {
            "colorbar": {
             "outlinewidth": 0,
             "ticks": ""
            },
            "type": "mesh3d"
           }
          ],
          "parcoords": [
           {
            "line": {
             "colorbar": {
              "outlinewidth": 0,
              "ticks": ""
             }
            },
            "type": "parcoords"
           }
          ],
          "pie": [
           {
            "automargin": true,
            "type": "pie"
           }
          ],
          "scatter": [
           {
            "marker": {
             "line": {
              "color": "#283442"
             }
            },
            "type": "scatter"
           }
          ],
          "scatter3d": [
           {
            "line": {
             "colorbar": {
              "outlinewidth": 0,
              "ticks": ""
             }
            },
            "marker": {
             "colorbar": {
              "outlinewidth": 0,
              "ticks": ""
             }
            },
            "type": "scatter3d"
           }
          ],
          "scattercarpet": [
           {
            "marker": {
             "colorbar": {
              "outlinewidth": 0,
              "ticks": ""
             }
            },
            "type": "scattercarpet"
           }
          ],
          "scattergeo": [
           {
            "marker": {
             "colorbar": {
              "outlinewidth": 0,
              "ticks": ""
             }
            },
            "type": "scattergeo"
           }
          ],
          "scattergl": [
           {
            "marker": {
             "line": {
              "color": "#283442"
             }
            },
            "type": "scattergl"
           }
          ],
          "scattermapbox": [
           {
            "marker": {
             "colorbar": {
              "outlinewidth": 0,
              "ticks": ""
             }
            },
            "type": "scattermapbox"
           }
          ],
          "scatterpolar": [
           {
            "marker": {
             "colorbar": {
              "outlinewidth": 0,
              "ticks": ""
             }
            },
            "type": "scatterpolar"
           }
          ],
          "scatterpolargl": [
           {
            "marker": {
             "colorbar": {
              "outlinewidth": 0,
              "ticks": ""
             }
            },
            "type": "scatterpolargl"
           }
          ],
          "scatterternary": [
           {
            "marker": {
             "colorbar": {
              "outlinewidth": 0,
              "ticks": ""
             }
            },
            "type": "scatterternary"
           }
          ],
          "surface": [
           {
            "colorbar": {
             "outlinewidth": 0,
             "ticks": ""
            },
            "colorscale": [
             [
              0,
              "#0d0887"
             ],
             [
              0.1111111111111111,
              "#46039f"
             ],
             [
              0.2222222222222222,
              "#7201a8"
             ],
             [
              0.3333333333333333,
              "#9c179e"
             ],
             [
              0.4444444444444444,
              "#bd3786"
             ],
             [
              0.5555555555555556,
              "#d8576b"
             ],
             [
              0.6666666666666666,
              "#ed7953"
             ],
             [
              0.7777777777777778,
              "#fb9f3a"
             ],
             [
              0.8888888888888888,
              "#fdca26"
             ],
             [
              1,
              "#f0f921"
             ]
            ],
            "type": "surface"
           }
          ],
          "table": [
           {
            "cells": {
             "fill": {
              "color": "#506784"
             },
             "line": {
              "color": "rgb(17,17,17)"
             }
            },
            "header": {
             "fill": {
              "color": "#2a3f5f"
             },
             "line": {
              "color": "rgb(17,17,17)"
             }
            },
            "type": "table"
           }
          ]
         },
         "layout": {
          "annotationdefaults": {
           "arrowcolor": "#f2f5fa",
           "arrowhead": 0,
           "arrowwidth": 1
          },
          "autotypenumbers": "strict",
          "coloraxis": {
           "colorbar": {
            "outlinewidth": 0,
            "ticks": ""
           }
          },
          "colorscale": {
           "diverging": [
            [
             0,
             "#8e0152"
            ],
            [
             0.1,
             "#c51b7d"
            ],
            [
             0.2,
             "#de77ae"
            ],
            [
             0.3,
             "#f1b6da"
            ],
            [
             0.4,
             "#fde0ef"
            ],
            [
             0.5,
             "#f7f7f7"
            ],
            [
             0.6,
             "#e6f5d0"
            ],
            [
             0.7,
             "#b8e186"
            ],
            [
             0.8,
             "#7fbc41"
            ],
            [
             0.9,
             "#4d9221"
            ],
            [
             1,
             "#276419"
            ]
           ],
           "sequential": [
            [
             0,
             "#0d0887"
            ],
            [
             0.1111111111111111,
             "#46039f"
            ],
            [
             0.2222222222222222,
             "#7201a8"
            ],
            [
             0.3333333333333333,
             "#9c179e"
            ],
            [
             0.4444444444444444,
             "#bd3786"
            ],
            [
             0.5555555555555556,
             "#d8576b"
            ],
            [
             0.6666666666666666,
             "#ed7953"
            ],
            [
             0.7777777777777778,
             "#fb9f3a"
            ],
            [
             0.8888888888888888,
             "#fdca26"
            ],
            [
             1,
             "#f0f921"
            ]
           ],
           "sequentialminus": [
            [
             0,
             "#0d0887"
            ],
            [
             0.1111111111111111,
             "#46039f"
            ],
            [
             0.2222222222222222,
             "#7201a8"
            ],
            [
             0.3333333333333333,
             "#9c179e"
            ],
            [
             0.4444444444444444,
             "#bd3786"
            ],
            [
             0.5555555555555556,
             "#d8576b"
            ],
            [
             0.6666666666666666,
             "#ed7953"
            ],
            [
             0.7777777777777778,
             "#fb9f3a"
            ],
            [
             0.8888888888888888,
             "#fdca26"
            ],
            [
             1,
             "#f0f921"
            ]
           ]
          },
          "colorway": [
           "#636efa",
           "#EF553B",
           "#00cc96",
           "#ab63fa",
           "#FFA15A",
           "#19d3f3",
           "#FF6692",
           "#B6E880",
           "#FF97FF",
           "#FECB52"
          ],
          "font": {
           "color": "#f2f5fa"
          },
          "geo": {
           "bgcolor": "rgb(17,17,17)",
           "lakecolor": "rgb(17,17,17)",
           "landcolor": "rgb(17,17,17)",
           "showlakes": true,
           "showland": true,
           "subunitcolor": "#506784"
          },
          "hoverlabel": {
           "align": "left"
          },
          "hovermode": "closest",
          "mapbox": {
           "style": "dark"
          },
          "paper_bgcolor": "rgb(17,17,17)",
          "plot_bgcolor": "rgb(17,17,17)",
          "polar": {
           "angularaxis": {
            "gridcolor": "#506784",
            "linecolor": "#506784",
            "ticks": ""
           },
           "bgcolor": "rgb(17,17,17)",
           "radialaxis": {
            "gridcolor": "#506784",
            "linecolor": "#506784",
            "ticks": ""
           }
          },
          "scene": {
           "xaxis": {
            "backgroundcolor": "rgb(17,17,17)",
            "gridcolor": "#506784",
            "gridwidth": 2,
            "linecolor": "#506784",
            "showbackground": true,
            "ticks": "",
            "zerolinecolor": "#C8D4E3"
           },
           "yaxis": {
            "backgroundcolor": "rgb(17,17,17)",
            "gridcolor": "#506784",
            "gridwidth": 2,
            "linecolor": "#506784",
            "showbackground": true,
            "ticks": "",
            "zerolinecolor": "#C8D4E3"
           },
           "zaxis": {
            "backgroundcolor": "rgb(17,17,17)",
            "gridcolor": "#506784",
            "gridwidth": 2,
            "linecolor": "#506784",
            "showbackground": true,
            "ticks": "",
            "zerolinecolor": "#C8D4E3"
           }
          },
          "shapedefaults": {
           "line": {
            "color": "#f2f5fa"
           }
          },
          "sliderdefaults": {
           "bgcolor": "#C8D4E3",
           "bordercolor": "rgb(17,17,17)",
           "borderwidth": 1,
           "tickwidth": 0
          },
          "ternary": {
           "aaxis": {
            "gridcolor": "#506784",
            "linecolor": "#506784",
            "ticks": ""
           },
           "baxis": {
            "gridcolor": "#506784",
            "linecolor": "#506784",
            "ticks": ""
           },
           "bgcolor": "rgb(17,17,17)",
           "caxis": {
            "gridcolor": "#506784",
            "linecolor": "#506784",
            "ticks": ""
           }
          },
          "title": {
           "x": 0.05
          },
          "updatemenudefaults": {
           "bgcolor": "#506784",
           "borderwidth": 0
          },
          "xaxis": {
           "automargin": true,
           "gridcolor": "#283442",
           "linecolor": "#506784",
           "ticks": "",
           "title": {
            "standoff": 15
           },
           "zerolinecolor": "#283442",
           "zerolinewidth": 2
          },
          "yaxis": {
           "automargin": true,
           "gridcolor": "#283442",
           "linecolor": "#506784",
           "ticks": "",
           "title": {
            "standoff": 15
           },
           "zerolinecolor": "#283442",
           "zerolinewidth": 2
          }
         }
        },
        "title": {
         "text": "Percentage of EducationField Type"
        },
        "xaxis": {
         "anchor": "y",
         "domain": [
          0,
          1
         ],
         "title": {
          "text": "JobRole"
         }
        },
        "yaxis": {
         "anchor": "x",
         "domain": [
          0,
          1
         ],
         "title": {
          "text": "count"
         }
        }
       }
      }
     },
     "metadata": {},
     "output_type": "display_data"
    }
   ],
   "source": [
    "px.histogram(data_df,x=\"JobRole\",color=\"Attrition\",barmode=\"group\",text_auto=\".2f\",template=\"plotly_dark\",\n",
    "             title = \"Percentage of EducationField Type\")"
   ]
  },
  {
   "cell_type": "markdown",
   "metadata": {},
   "source": [
    "### Visualization 4"
   ]
  },
  {
   "cell_type": "code",
   "execution_count": 34,
   "metadata": {},
   "outputs": [
    {
     "data": {
      "text/plain": [
       "<AxesSubplot:xlabel='Gender', ylabel='count'>"
      ]
     },
     "execution_count": 34,
     "metadata": {},
     "output_type": "execute_result"
    },
    {
     "data": {
      "image/png": "[encoded data removed]",
      "text/plain": [
       "<Figure size 720x720 with 1 Axes>"
      ]
     },
     "metadata": {
      "needs_background": "light"
     },
     "output_type": "display_data"
    }
   ],
   "source": [
    "plt.figure(figsize=(10,10))\n",
    "sns.countplot(x='Gender',hue='Attrition',data=data_df)"
   ]
  },
  {
   "cell_type": "markdown",
   "metadata": {},
   "source": [
    "#### Breakdown of all the available datapoints "
   ]
  },
  {
   "cell_type": "code",
   "execution_count": 35,
   "metadata": {},
   "outputs": [
    {
     "data": {
      "image/png": "[encoded data removed]",
      "text/plain": [
       "<Figure size 2160x3600 with 22 Axes>"
      ]
     },
     "metadata": {
      "needs_background": "light"
     },
     "output_type": "display_data"
    }
   ],
   "source": [
    "plt.figure(figsize=(30,50))\n",
    "for index,column in enumerate(num_col):\n",
    "    plt.subplot(5,5,index+1)\n",
    "    sns.countplot(data=num_col,x=column)\n",
    "    plt.xticks(rotation = 90)\n",
    "plt.tight_layout(pad = 1.0)\n",
    "plt.show()"
   ]
  },
  {
   "cell_type": "markdown",
   "metadata": {},
   "source": [
    "### Observations:\n",
    "* Maternity departments had the highest rate of attrition followed by cardiology and neurology\n",
    "* attrition rates had the highest peak at 29 years old \n",
    "* 26-35 years old saw the highest range of attrition\n",
    "* 42 years old and older saw the least attrition rates\n",
    "* More men where likely to leave than women but Men also were more accounted for than women in the healthcare field\n",
    "* Human resources were the least likely to have people quit\n",
    "* Life Sciences were the Education field with the highest amount of attrition\n",
    "* people that lived closer to their jobs were more likely to leave\n"
   ]
  },
  {
   "cell_type": "markdown",
   "metadata": {},
   "source": []
  }
 ],
 "metadata": {
  "kernelspec": {
   "display_name": "Python 3.9.12 ('base')",
   "language": "python",
   "name": "python3"
  },
  "language_info": {
   "codemirror_mode": {
    "name": "ipython",
    "version": 3
   },
   "file_extension": ".py",
   "mimetype": "text/x-python",
   "name": "python",
   "nbconvert_exporter": "python",
   "pygments_lexer": "ipython3",
   "version": "3.9.12"
  },
  "orig_nbformat": 4,
  "vscode": {
   "interpreter": {
    "hash": "d30727e1a078f289a01c1d53c38d31a102f3684ea672a5ba370ee05d383ea42a"
   }
  }
 },
 "nbformat": 4,
 "nbformat_minor": 2
}
